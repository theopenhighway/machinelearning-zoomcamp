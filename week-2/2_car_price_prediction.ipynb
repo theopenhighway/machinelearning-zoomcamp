{
  "nbformat": 4,
  "nbformat_minor": 0,
  "metadata": {
    "colab": {
      "provenance": [],
      "include_colab_link": true
    },
    "kernelspec": {
      "name": "python3",
      "display_name": "Python 3"
    },
    "language_info": {
      "name": "python"
    }
  },
  "cells": [
    {
      "cell_type": "markdown",
      "metadata": {
        "id": "view-in-github",
        "colab_type": "text"
      },
      "source": [
        "<a href=\"https://colab.research.google.com/github/theopenhighway/machinelearning-zoomcamp/blob/main/2_car_price_prediction.ipynb\" target=\"_parent\"><img src=\"https://colab.research.google.com/assets/colab-badge.svg\" alt=\"Open In Colab\"/></a>"
      ]
    },
    {
      "cell_type": "markdown",
      "source": [
        "# **Car Price Prediction Project**\n",
        "\n",
        "Machine Learning Zoomcamp - Week 2"
      ],
      "metadata": {
        "id": "jeIlvIo8oD8r"
      }
    },
    {
      "cell_type": "code",
      "execution_count": null,
      "metadata": {
        "id": "ltpMzMzGn9uU"
      },
      "outputs": [],
      "source": [
        "import pandas as pd\n",
        "import numpy as np"
      ]
    },
    {
      "cell_type": "code",
      "source": [
        "df = pd.read_csv('https://raw.githubusercontent.com/alexeygrigorev/mlbookcamp-code/master/chapter-02-car-price/data.csv')\n",
        "df.head()"
      ],
      "metadata": {
        "colab": {
          "base_uri": "https://localhost:8080/",
          "height": 435
        },
        "id": "dUt6pg-koEi2",
        "outputId": "f38dc4b8-37a9-45a4-b618-31dd41fb4ece"
      },
      "execution_count": null,
      "outputs": [
        {
          "output_type": "execute_result",
          "data": {
            "text/plain": [
              "  Make       Model  Year             Engine Fuel Type  Engine HP  \\\n",
              "0  BMW  1 Series M  2011  premium unleaded (required)      335.0   \n",
              "1  BMW    1 Series  2011  premium unleaded (required)      300.0   \n",
              "2  BMW    1 Series  2011  premium unleaded (required)      300.0   \n",
              "3  BMW    1 Series  2011  premium unleaded (required)      230.0   \n",
              "4  BMW    1 Series  2011  premium unleaded (required)      230.0   \n",
              "\n",
              "   Engine Cylinders Transmission Type     Driven_Wheels  Number of Doors  \\\n",
              "0               6.0            MANUAL  rear wheel drive              2.0   \n",
              "1               6.0            MANUAL  rear wheel drive              2.0   \n",
              "2               6.0            MANUAL  rear wheel drive              2.0   \n",
              "3               6.0            MANUAL  rear wheel drive              2.0   \n",
              "4               6.0            MANUAL  rear wheel drive              2.0   \n",
              "\n",
              "                         Market Category Vehicle Size Vehicle Style  \\\n",
              "0  Factory Tuner,Luxury,High-Performance      Compact         Coupe   \n",
              "1                     Luxury,Performance      Compact   Convertible   \n",
              "2                Luxury,High-Performance      Compact         Coupe   \n",
              "3                     Luxury,Performance      Compact         Coupe   \n",
              "4                                 Luxury      Compact   Convertible   \n",
              "\n",
              "   highway MPG  city mpg  Popularity   MSRP  \n",
              "0           26        19        3916  46135  \n",
              "1           28        19        3916  40650  \n",
              "2           28        20        3916  36350  \n",
              "3           28        18        3916  29450  \n",
              "4           28        18        3916  34500  "
            ],
            "text/html": [
              "\n",
              "  <div id=\"df-66a5eb79-a3b0-4885-94aa-3ff71fc84c14\" class=\"colab-df-container\">\n",
              "    <div>\n",
              "<style scoped>\n",
              "    .dataframe tbody tr th:only-of-type {\n",
              "        vertical-align: middle;\n",
              "    }\n",
              "\n",
              "    .dataframe tbody tr th {\n",
              "        vertical-align: top;\n",
              "    }\n",
              "\n",
              "    .dataframe thead th {\n",
              "        text-align: right;\n",
              "    }\n",
              "</style>\n",
              "<table border=\"1\" class=\"dataframe\">\n",
              "  <thead>\n",
              "    <tr style=\"text-align: right;\">\n",
              "      <th></th>\n",
              "      <th>Make</th>\n",
              "      <th>Model</th>\n",
              "      <th>Year</th>\n",
              "      <th>Engine Fuel Type</th>\n",
              "      <th>Engine HP</th>\n",
              "      <th>Engine Cylinders</th>\n",
              "      <th>Transmission Type</th>\n",
              "      <th>Driven_Wheels</th>\n",
              "      <th>Number of Doors</th>\n",
              "      <th>Market Category</th>\n",
              "      <th>Vehicle Size</th>\n",
              "      <th>Vehicle Style</th>\n",
              "      <th>highway MPG</th>\n",
              "      <th>city mpg</th>\n",
              "      <th>Popularity</th>\n",
              "      <th>MSRP</th>\n",
              "    </tr>\n",
              "  </thead>\n",
              "  <tbody>\n",
              "    <tr>\n",
              "      <th>0</th>\n",
              "      <td>BMW</td>\n",
              "      <td>1 Series M</td>\n",
              "      <td>2011</td>\n",
              "      <td>premium unleaded (required)</td>\n",
              "      <td>335.0</td>\n",
              "      <td>6.0</td>\n",
              "      <td>MANUAL</td>\n",
              "      <td>rear wheel drive</td>\n",
              "      <td>2.0</td>\n",
              "      <td>Factory Tuner,Luxury,High-Performance</td>\n",
              "      <td>Compact</td>\n",
              "      <td>Coupe</td>\n",
              "      <td>26</td>\n",
              "      <td>19</td>\n",
              "      <td>3916</td>\n",
              "      <td>46135</td>\n",
              "    </tr>\n",
              "    <tr>\n",
              "      <th>1</th>\n",
              "      <td>BMW</td>\n",
              "      <td>1 Series</td>\n",
              "      <td>2011</td>\n",
              "      <td>premium unleaded (required)</td>\n",
              "      <td>300.0</td>\n",
              "      <td>6.0</td>\n",
              "      <td>MANUAL</td>\n",
              "      <td>rear wheel drive</td>\n",
              "      <td>2.0</td>\n",
              "      <td>Luxury,Performance</td>\n",
              "      <td>Compact</td>\n",
              "      <td>Convertible</td>\n",
              "      <td>28</td>\n",
              "      <td>19</td>\n",
              "      <td>3916</td>\n",
              "      <td>40650</td>\n",
              "    </tr>\n",
              "    <tr>\n",
              "      <th>2</th>\n",
              "      <td>BMW</td>\n",
              "      <td>1 Series</td>\n",
              "      <td>2011</td>\n",
              "      <td>premium unleaded (required)</td>\n",
              "      <td>300.0</td>\n",
              "      <td>6.0</td>\n",
              "      <td>MANUAL</td>\n",
              "      <td>rear wheel drive</td>\n",
              "      <td>2.0</td>\n",
              "      <td>Luxury,High-Performance</td>\n",
              "      <td>Compact</td>\n",
              "      <td>Coupe</td>\n",
              "      <td>28</td>\n",
              "      <td>20</td>\n",
              "      <td>3916</td>\n",
              "      <td>36350</td>\n",
              "    </tr>\n",
              "    <tr>\n",
              "      <th>3</th>\n",
              "      <td>BMW</td>\n",
              "      <td>1 Series</td>\n",
              "      <td>2011</td>\n",
              "      <td>premium unleaded (required)</td>\n",
              "      <td>230.0</td>\n",
              "      <td>6.0</td>\n",
              "      <td>MANUAL</td>\n",
              "      <td>rear wheel drive</td>\n",
              "      <td>2.0</td>\n",
              "      <td>Luxury,Performance</td>\n",
              "      <td>Compact</td>\n",
              "      <td>Coupe</td>\n",
              "      <td>28</td>\n",
              "      <td>18</td>\n",
              "      <td>3916</td>\n",
              "      <td>29450</td>\n",
              "    </tr>\n",
              "    <tr>\n",
              "      <th>4</th>\n",
              "      <td>BMW</td>\n",
              "      <td>1 Series</td>\n",
              "      <td>2011</td>\n",
              "      <td>premium unleaded (required)</td>\n",
              "      <td>230.0</td>\n",
              "      <td>6.0</td>\n",
              "      <td>MANUAL</td>\n",
              "      <td>rear wheel drive</td>\n",
              "      <td>2.0</td>\n",
              "      <td>Luxury</td>\n",
              "      <td>Compact</td>\n",
              "      <td>Convertible</td>\n",
              "      <td>28</td>\n",
              "      <td>18</td>\n",
              "      <td>3916</td>\n",
              "      <td>34500</td>\n",
              "    </tr>\n",
              "  </tbody>\n",
              "</table>\n",
              "</div>\n",
              "    <div class=\"colab-df-buttons\">\n",
              "\n",
              "  <div class=\"colab-df-container\">\n",
              "    <button class=\"colab-df-convert\" onclick=\"convertToInteractive('df-66a5eb79-a3b0-4885-94aa-3ff71fc84c14')\"\n",
              "            title=\"Convert this dataframe to an interactive table.\"\n",
              "            style=\"display:none;\">\n",
              "\n",
              "  <svg xmlns=\"http://www.w3.org/2000/svg\" height=\"24px\" viewBox=\"0 -960 960 960\">\n",
              "    <path d=\"M120-120v-720h720v720H120Zm60-500h600v-160H180v160Zm220 220h160v-160H400v160Zm0 220h160v-160H400v160ZM180-400h160v-160H180v160Zm440 0h160v-160H620v160ZM180-180h160v-160H180v160Zm440 0h160v-160H620v160Z\"/>\n",
              "  </svg>\n",
              "    </button>\n",
              "\n",
              "  <style>\n",
              "    .colab-df-container {\n",
              "      display:flex;\n",
              "      gap: 12px;\n",
              "    }\n",
              "\n",
              "    .colab-df-convert {\n",
              "      background-color: #E8F0FE;\n",
              "      border: none;\n",
              "      border-radius: 50%;\n",
              "      cursor: pointer;\n",
              "      display: none;\n",
              "      fill: #1967D2;\n",
              "      height: 32px;\n",
              "      padding: 0 0 0 0;\n",
              "      width: 32px;\n",
              "    }\n",
              "\n",
              "    .colab-df-convert:hover {\n",
              "      background-color: #E2EBFA;\n",
              "      box-shadow: 0px 1px 2px rgba(60, 64, 67, 0.3), 0px 1px 3px 1px rgba(60, 64, 67, 0.15);\n",
              "      fill: #174EA6;\n",
              "    }\n",
              "\n",
              "    .colab-df-buttons div {\n",
              "      margin-bottom: 4px;\n",
              "    }\n",
              "\n",
              "    [theme=dark] .colab-df-convert {\n",
              "      background-color: #3B4455;\n",
              "      fill: #D2E3FC;\n",
              "    }\n",
              "\n",
              "    [theme=dark] .colab-df-convert:hover {\n",
              "      background-color: #434B5C;\n",
              "      box-shadow: 0px 1px 3px 1px rgba(0, 0, 0, 0.15);\n",
              "      filter: drop-shadow(0px 1px 2px rgba(0, 0, 0, 0.3));\n",
              "      fill: #FFFFFF;\n",
              "    }\n",
              "  </style>\n",
              "\n",
              "    <script>\n",
              "      const buttonEl =\n",
              "        document.querySelector('#df-66a5eb79-a3b0-4885-94aa-3ff71fc84c14 button.colab-df-convert');\n",
              "      buttonEl.style.display =\n",
              "        google.colab.kernel.accessAllowed ? 'block' : 'none';\n",
              "\n",
              "      async function convertToInteractive(key) {\n",
              "        const element = document.querySelector('#df-66a5eb79-a3b0-4885-94aa-3ff71fc84c14');\n",
              "        const dataTable =\n",
              "          await google.colab.kernel.invokeFunction('convertToInteractive',\n",
              "                                                    [key], {});\n",
              "        if (!dataTable) return;\n",
              "\n",
              "        const docLinkHtml = 'Like what you see? Visit the ' +\n",
              "          '<a target=\"_blank\" href=https://colab.research.google.com/notebooks/data_table.ipynb>data table notebook</a>'\n",
              "          + ' to learn more about interactive tables.';\n",
              "        element.innerHTML = '';\n",
              "        dataTable['output_type'] = 'display_data';\n",
              "        await google.colab.output.renderOutput(dataTable, element);\n",
              "        const docLink = document.createElement('div');\n",
              "        docLink.innerHTML = docLinkHtml;\n",
              "        element.appendChild(docLink);\n",
              "      }\n",
              "    </script>\n",
              "  </div>\n",
              "\n",
              "\n",
              "<div id=\"df-ae25b956-dcb5-4e18-9cc8-616a623b8220\">\n",
              "  <button class=\"colab-df-quickchart\" onclick=\"quickchart('df-ae25b956-dcb5-4e18-9cc8-616a623b8220')\"\n",
              "            title=\"Suggest charts.\"\n",
              "            style=\"display:none;\">\n",
              "\n",
              "<svg xmlns=\"http://www.w3.org/2000/svg\" height=\"24px\"viewBox=\"0 0 24 24\"\n",
              "     width=\"24px\">\n",
              "    <g>\n",
              "        <path d=\"M19 3H5c-1.1 0-2 .9-2 2v14c0 1.1.9 2 2 2h14c1.1 0 2-.9 2-2V5c0-1.1-.9-2-2-2zM9 17H7v-7h2v7zm4 0h-2V7h2v10zm4 0h-2v-4h2v4z\"/>\n",
              "    </g>\n",
              "</svg>\n",
              "  </button>\n",
              "\n",
              "<style>\n",
              "  .colab-df-quickchart {\n",
              "      --bg-color: #E8F0FE;\n",
              "      --fill-color: #1967D2;\n",
              "      --hover-bg-color: #E2EBFA;\n",
              "      --hover-fill-color: #174EA6;\n",
              "      --disabled-fill-color: #AAA;\n",
              "      --disabled-bg-color: #DDD;\n",
              "  }\n",
              "\n",
              "  [theme=dark] .colab-df-quickchart {\n",
              "      --bg-color: #3B4455;\n",
              "      --fill-color: #D2E3FC;\n",
              "      --hover-bg-color: #434B5C;\n",
              "      --hover-fill-color: #FFFFFF;\n",
              "      --disabled-bg-color: #3B4455;\n",
              "      --disabled-fill-color: #666;\n",
              "  }\n",
              "\n",
              "  .colab-df-quickchart {\n",
              "    background-color: var(--bg-color);\n",
              "    border: none;\n",
              "    border-radius: 50%;\n",
              "    cursor: pointer;\n",
              "    display: none;\n",
              "    fill: var(--fill-color);\n",
              "    height: 32px;\n",
              "    padding: 0;\n",
              "    width: 32px;\n",
              "  }\n",
              "\n",
              "  .colab-df-quickchart:hover {\n",
              "    background-color: var(--hover-bg-color);\n",
              "    box-shadow: 0 1px 2px rgba(60, 64, 67, 0.3), 0 1px 3px 1px rgba(60, 64, 67, 0.15);\n",
              "    fill: var(--button-hover-fill-color);\n",
              "  }\n",
              "\n",
              "  .colab-df-quickchart-complete:disabled,\n",
              "  .colab-df-quickchart-complete:disabled:hover {\n",
              "    background-color: var(--disabled-bg-color);\n",
              "    fill: var(--disabled-fill-color);\n",
              "    box-shadow: none;\n",
              "  }\n",
              "\n",
              "  .colab-df-spinner {\n",
              "    border: 2px solid var(--fill-color);\n",
              "    border-color: transparent;\n",
              "    border-bottom-color: var(--fill-color);\n",
              "    animation:\n",
              "      spin 1s steps(1) infinite;\n",
              "  }\n",
              "\n",
              "  @keyframes spin {\n",
              "    0% {\n",
              "      border-color: transparent;\n",
              "      border-bottom-color: var(--fill-color);\n",
              "      border-left-color: var(--fill-color);\n",
              "    }\n",
              "    20% {\n",
              "      border-color: transparent;\n",
              "      border-left-color: var(--fill-color);\n",
              "      border-top-color: var(--fill-color);\n",
              "    }\n",
              "    30% {\n",
              "      border-color: transparent;\n",
              "      border-left-color: var(--fill-color);\n",
              "      border-top-color: var(--fill-color);\n",
              "      border-right-color: var(--fill-color);\n",
              "    }\n",
              "    40% {\n",
              "      border-color: transparent;\n",
              "      border-right-color: var(--fill-color);\n",
              "      border-top-color: var(--fill-color);\n",
              "    }\n",
              "    60% {\n",
              "      border-color: transparent;\n",
              "      border-right-color: var(--fill-color);\n",
              "    }\n",
              "    80% {\n",
              "      border-color: transparent;\n",
              "      border-right-color: var(--fill-color);\n",
              "      border-bottom-color: var(--fill-color);\n",
              "    }\n",
              "    90% {\n",
              "      border-color: transparent;\n",
              "      border-bottom-color: var(--fill-color);\n",
              "    }\n",
              "  }\n",
              "</style>\n",
              "\n",
              "  <script>\n",
              "    async function quickchart(key) {\n",
              "      const quickchartButtonEl =\n",
              "        document.querySelector('#' + key + ' button');\n",
              "      quickchartButtonEl.disabled = true;  // To prevent multiple clicks.\n",
              "      quickchartButtonEl.classList.add('colab-df-spinner');\n",
              "      try {\n",
              "        const charts = await google.colab.kernel.invokeFunction(\n",
              "            'suggestCharts', [key], {});\n",
              "      } catch (error) {\n",
              "        console.error('Error during call to suggestCharts:', error);\n",
              "      }\n",
              "      quickchartButtonEl.classList.remove('colab-df-spinner');\n",
              "      quickchartButtonEl.classList.add('colab-df-quickchart-complete');\n",
              "    }\n",
              "    (() => {\n",
              "      let quickchartButtonEl =\n",
              "        document.querySelector('#df-ae25b956-dcb5-4e18-9cc8-616a623b8220 button');\n",
              "      quickchartButtonEl.style.display =\n",
              "        google.colab.kernel.accessAllowed ? 'block' : 'none';\n",
              "    })();\n",
              "  </script>\n",
              "</div>\n",
              "    </div>\n",
              "  </div>\n"
            ]
          },
          "metadata": {},
          "execution_count": 5
        }
      ]
    },
    {
      "cell_type": "markdown",
      "source": [
        "## Data Cleaning"
      ],
      "metadata": {
        "id": "k03j2xCM4NT1"
      }
    },
    {
      "cell_type": "code",
      "source": [
        "df.columns = df.columns.str.lower().str.replace(' ', '_')"
      ],
      "metadata": {
        "id": "vIzX8bOs4PeQ"
      },
      "execution_count": null,
      "outputs": []
    },
    {
      "cell_type": "code",
      "source": [
        "strings = list(df.dtypes[df.dtypes == 'object'].index)\n",
        "strings"
      ],
      "metadata": {
        "colab": {
          "base_uri": "https://localhost:8080/"
        },
        "id": "uc_3Ee5q4-h7",
        "outputId": "87282a84-3401-4552-90b0-a866f93049f9"
      },
      "execution_count": null,
      "outputs": [
        {
          "output_type": "execute_result",
          "data": {
            "text/plain": [
              "['make',\n",
              " 'model',\n",
              " 'engine_fuel_type',\n",
              " 'transmission_type',\n",
              " 'driven_wheels',\n",
              " 'market_category',\n",
              " 'vehicle_size',\n",
              " 'vehicle_style']"
            ]
          },
          "metadata": {},
          "execution_count": 7
        }
      ]
    },
    {
      "cell_type": "code",
      "source": [
        "for cols in strings:\n",
        "    df[cols] = df[cols].str.lower().str.replace(' ', '_')\n",
        "\n",
        "df.head()"
      ],
      "metadata": {
        "colab": {
          "base_uri": "https://localhost:8080/",
          "height": 244
        },
        "id": "Xu0f7qJeHD3r",
        "outputId": "d5b5e207-81c2-4fee-ea97-87f55af12acd"
      },
      "execution_count": null,
      "outputs": [
        {
          "output_type": "execute_result",
          "data": {
            "text/plain": [
              "  make       model  year             engine_fuel_type  engine_hp  \\\n",
              "0  bmw  1_series_m  2011  premium_unleaded_(required)      335.0   \n",
              "1  bmw    1_series  2011  premium_unleaded_(required)      300.0   \n",
              "2  bmw    1_series  2011  premium_unleaded_(required)      300.0   \n",
              "3  bmw    1_series  2011  premium_unleaded_(required)      230.0   \n",
              "4  bmw    1_series  2011  premium_unleaded_(required)      230.0   \n",
              "\n",
              "   engine_cylinders transmission_type     driven_wheels  number_of_doors  \\\n",
              "0               6.0            manual  rear_wheel_drive              2.0   \n",
              "1               6.0            manual  rear_wheel_drive              2.0   \n",
              "2               6.0            manual  rear_wheel_drive              2.0   \n",
              "3               6.0            manual  rear_wheel_drive              2.0   \n",
              "4               6.0            manual  rear_wheel_drive              2.0   \n",
              "\n",
              "                         market_category vehicle_size vehicle_style  \\\n",
              "0  factory_tuner,luxury,high-performance      compact         coupe   \n",
              "1                     luxury,performance      compact   convertible   \n",
              "2                luxury,high-performance      compact         coupe   \n",
              "3                     luxury,performance      compact         coupe   \n",
              "4                                 luxury      compact   convertible   \n",
              "\n",
              "   highway_mpg  city_mpg  popularity   msrp  \n",
              "0           26        19        3916  46135  \n",
              "1           28        19        3916  40650  \n",
              "2           28        20        3916  36350  \n",
              "3           28        18        3916  29450  \n",
              "4           28        18        3916  34500  "
            ],
            "text/html": [
              "\n",
              "  <div id=\"df-fce5a608-537a-4d05-841c-4283dfdaafaf\" class=\"colab-df-container\">\n",
              "    <div>\n",
              "<style scoped>\n",
              "    .dataframe tbody tr th:only-of-type {\n",
              "        vertical-align: middle;\n",
              "    }\n",
              "\n",
              "    .dataframe tbody tr th {\n",
              "        vertical-align: top;\n",
              "    }\n",
              "\n",
              "    .dataframe thead th {\n",
              "        text-align: right;\n",
              "    }\n",
              "</style>\n",
              "<table border=\"1\" class=\"dataframe\">\n",
              "  <thead>\n",
              "    <tr style=\"text-align: right;\">\n",
              "      <th></th>\n",
              "      <th>make</th>\n",
              "      <th>model</th>\n",
              "      <th>year</th>\n",
              "      <th>engine_fuel_type</th>\n",
              "      <th>engine_hp</th>\n",
              "      <th>engine_cylinders</th>\n",
              "      <th>transmission_type</th>\n",
              "      <th>driven_wheels</th>\n",
              "      <th>number_of_doors</th>\n",
              "      <th>market_category</th>\n",
              "      <th>vehicle_size</th>\n",
              "      <th>vehicle_style</th>\n",
              "      <th>highway_mpg</th>\n",
              "      <th>city_mpg</th>\n",
              "      <th>popularity</th>\n",
              "      <th>msrp</th>\n",
              "    </tr>\n",
              "  </thead>\n",
              "  <tbody>\n",
              "    <tr>\n",
              "      <th>0</th>\n",
              "      <td>bmw</td>\n",
              "      <td>1_series_m</td>\n",
              "      <td>2011</td>\n",
              "      <td>premium_unleaded_(required)</td>\n",
              "      <td>335.0</td>\n",
              "      <td>6.0</td>\n",
              "      <td>manual</td>\n",
              "      <td>rear_wheel_drive</td>\n",
              "      <td>2.0</td>\n",
              "      <td>factory_tuner,luxury,high-performance</td>\n",
              "      <td>compact</td>\n",
              "      <td>coupe</td>\n",
              "      <td>26</td>\n",
              "      <td>19</td>\n",
              "      <td>3916</td>\n",
              "      <td>46135</td>\n",
              "    </tr>\n",
              "    <tr>\n",
              "      <th>1</th>\n",
              "      <td>bmw</td>\n",
              "      <td>1_series</td>\n",
              "      <td>2011</td>\n",
              "      <td>premium_unleaded_(required)</td>\n",
              "      <td>300.0</td>\n",
              "      <td>6.0</td>\n",
              "      <td>manual</td>\n",
              "      <td>rear_wheel_drive</td>\n",
              "      <td>2.0</td>\n",
              "      <td>luxury,performance</td>\n",
              "      <td>compact</td>\n",
              "      <td>convertible</td>\n",
              "      <td>28</td>\n",
              "      <td>19</td>\n",
              "      <td>3916</td>\n",
              "      <td>40650</td>\n",
              "    </tr>\n",
              "    <tr>\n",
              "      <th>2</th>\n",
              "      <td>bmw</td>\n",
              "      <td>1_series</td>\n",
              "      <td>2011</td>\n",
              "      <td>premium_unleaded_(required)</td>\n",
              "      <td>300.0</td>\n",
              "      <td>6.0</td>\n",
              "      <td>manual</td>\n",
              "      <td>rear_wheel_drive</td>\n",
              "      <td>2.0</td>\n",
              "      <td>luxury,high-performance</td>\n",
              "      <td>compact</td>\n",
              "      <td>coupe</td>\n",
              "      <td>28</td>\n",
              "      <td>20</td>\n",
              "      <td>3916</td>\n",
              "      <td>36350</td>\n",
              "    </tr>\n",
              "    <tr>\n",
              "      <th>3</th>\n",
              "      <td>bmw</td>\n",
              "      <td>1_series</td>\n",
              "      <td>2011</td>\n",
              "      <td>premium_unleaded_(required)</td>\n",
              "      <td>230.0</td>\n",
              "      <td>6.0</td>\n",
              "      <td>manual</td>\n",
              "      <td>rear_wheel_drive</td>\n",
              "      <td>2.0</td>\n",
              "      <td>luxury,performance</td>\n",
              "      <td>compact</td>\n",
              "      <td>coupe</td>\n",
              "      <td>28</td>\n",
              "      <td>18</td>\n",
              "      <td>3916</td>\n",
              "      <td>29450</td>\n",
              "    </tr>\n",
              "    <tr>\n",
              "      <th>4</th>\n",
              "      <td>bmw</td>\n",
              "      <td>1_series</td>\n",
              "      <td>2011</td>\n",
              "      <td>premium_unleaded_(required)</td>\n",
              "      <td>230.0</td>\n",
              "      <td>6.0</td>\n",
              "      <td>manual</td>\n",
              "      <td>rear_wheel_drive</td>\n",
              "      <td>2.0</td>\n",
              "      <td>luxury</td>\n",
              "      <td>compact</td>\n",
              "      <td>convertible</td>\n",
              "      <td>28</td>\n",
              "      <td>18</td>\n",
              "      <td>3916</td>\n",
              "      <td>34500</td>\n",
              "    </tr>\n",
              "  </tbody>\n",
              "</table>\n",
              "</div>\n",
              "    <div class=\"colab-df-buttons\">\n",
              "\n",
              "  <div class=\"colab-df-container\">\n",
              "    <button class=\"colab-df-convert\" onclick=\"convertToInteractive('df-fce5a608-537a-4d05-841c-4283dfdaafaf')\"\n",
              "            title=\"Convert this dataframe to an interactive table.\"\n",
              "            style=\"display:none;\">\n",
              "\n",
              "  <svg xmlns=\"http://www.w3.org/2000/svg\" height=\"24px\" viewBox=\"0 -960 960 960\">\n",
              "    <path d=\"M120-120v-720h720v720H120Zm60-500h600v-160H180v160Zm220 220h160v-160H400v160Zm0 220h160v-160H400v160ZM180-400h160v-160H180v160Zm440 0h160v-160H620v160ZM180-180h160v-160H180v160Zm440 0h160v-160H620v160Z\"/>\n",
              "  </svg>\n",
              "    </button>\n",
              "\n",
              "  <style>\n",
              "    .colab-df-container {\n",
              "      display:flex;\n",
              "      gap: 12px;\n",
              "    }\n",
              "\n",
              "    .colab-df-convert {\n",
              "      background-color: #E8F0FE;\n",
              "      border: none;\n",
              "      border-radius: 50%;\n",
              "      cursor: pointer;\n",
              "      display: none;\n",
              "      fill: #1967D2;\n",
              "      height: 32px;\n",
              "      padding: 0 0 0 0;\n",
              "      width: 32px;\n",
              "    }\n",
              "\n",
              "    .colab-df-convert:hover {\n",
              "      background-color: #E2EBFA;\n",
              "      box-shadow: 0px 1px 2px rgba(60, 64, 67, 0.3), 0px 1px 3px 1px rgba(60, 64, 67, 0.15);\n",
              "      fill: #174EA6;\n",
              "    }\n",
              "\n",
              "    .colab-df-buttons div {\n",
              "      margin-bottom: 4px;\n",
              "    }\n",
              "\n",
              "    [theme=dark] .colab-df-convert {\n",
              "      background-color: #3B4455;\n",
              "      fill: #D2E3FC;\n",
              "    }\n",
              "\n",
              "    [theme=dark] .colab-df-convert:hover {\n",
              "      background-color: #434B5C;\n",
              "      box-shadow: 0px 1px 3px 1px rgba(0, 0, 0, 0.15);\n",
              "      filter: drop-shadow(0px 1px 2px rgba(0, 0, 0, 0.3));\n",
              "      fill: #FFFFFF;\n",
              "    }\n",
              "  </style>\n",
              "\n",
              "    <script>\n",
              "      const buttonEl =\n",
              "        document.querySelector('#df-fce5a608-537a-4d05-841c-4283dfdaafaf button.colab-df-convert');\n",
              "      buttonEl.style.display =\n",
              "        google.colab.kernel.accessAllowed ? 'block' : 'none';\n",
              "\n",
              "      async function convertToInteractive(key) {\n",
              "        const element = document.querySelector('#df-fce5a608-537a-4d05-841c-4283dfdaafaf');\n",
              "        const dataTable =\n",
              "          await google.colab.kernel.invokeFunction('convertToInteractive',\n",
              "                                                    [key], {});\n",
              "        if (!dataTable) return;\n",
              "\n",
              "        const docLinkHtml = 'Like what you see? Visit the ' +\n",
              "          '<a target=\"_blank\" href=https://colab.research.google.com/notebooks/data_table.ipynb>data table notebook</a>'\n",
              "          + ' to learn more about interactive tables.';\n",
              "        element.innerHTML = '';\n",
              "        dataTable['output_type'] = 'display_data';\n",
              "        await google.colab.output.renderOutput(dataTable, element);\n",
              "        const docLink = document.createElement('div');\n",
              "        docLink.innerHTML = docLinkHtml;\n",
              "        element.appendChild(docLink);\n",
              "      }\n",
              "    </script>\n",
              "  </div>\n",
              "\n",
              "\n",
              "<div id=\"df-17079b33-7981-4646-8a63-39ea840ff48c\">\n",
              "  <button class=\"colab-df-quickchart\" onclick=\"quickchart('df-17079b33-7981-4646-8a63-39ea840ff48c')\"\n",
              "            title=\"Suggest charts.\"\n",
              "            style=\"display:none;\">\n",
              "\n",
              "<svg xmlns=\"http://www.w3.org/2000/svg\" height=\"24px\"viewBox=\"0 0 24 24\"\n",
              "     width=\"24px\">\n",
              "    <g>\n",
              "        <path d=\"M19 3H5c-1.1 0-2 .9-2 2v14c0 1.1.9 2 2 2h14c1.1 0 2-.9 2-2V5c0-1.1-.9-2-2-2zM9 17H7v-7h2v7zm4 0h-2V7h2v10zm4 0h-2v-4h2v4z\"/>\n",
              "    </g>\n",
              "</svg>\n",
              "  </button>\n",
              "\n",
              "<style>\n",
              "  .colab-df-quickchart {\n",
              "      --bg-color: #E8F0FE;\n",
              "      --fill-color: #1967D2;\n",
              "      --hover-bg-color: #E2EBFA;\n",
              "      --hover-fill-color: #174EA6;\n",
              "      --disabled-fill-color: #AAA;\n",
              "      --disabled-bg-color: #DDD;\n",
              "  }\n",
              "\n",
              "  [theme=dark] .colab-df-quickchart {\n",
              "      --bg-color: #3B4455;\n",
              "      --fill-color: #D2E3FC;\n",
              "      --hover-bg-color: #434B5C;\n",
              "      --hover-fill-color: #FFFFFF;\n",
              "      --disabled-bg-color: #3B4455;\n",
              "      --disabled-fill-color: #666;\n",
              "  }\n",
              "\n",
              "  .colab-df-quickchart {\n",
              "    background-color: var(--bg-color);\n",
              "    border: none;\n",
              "    border-radius: 50%;\n",
              "    cursor: pointer;\n",
              "    display: none;\n",
              "    fill: var(--fill-color);\n",
              "    height: 32px;\n",
              "    padding: 0;\n",
              "    width: 32px;\n",
              "  }\n",
              "\n",
              "  .colab-df-quickchart:hover {\n",
              "    background-color: var(--hover-bg-color);\n",
              "    box-shadow: 0 1px 2px rgba(60, 64, 67, 0.3), 0 1px 3px 1px rgba(60, 64, 67, 0.15);\n",
              "    fill: var(--button-hover-fill-color);\n",
              "  }\n",
              "\n",
              "  .colab-df-quickchart-complete:disabled,\n",
              "  .colab-df-quickchart-complete:disabled:hover {\n",
              "    background-color: var(--disabled-bg-color);\n",
              "    fill: var(--disabled-fill-color);\n",
              "    box-shadow: none;\n",
              "  }\n",
              "\n",
              "  .colab-df-spinner {\n",
              "    border: 2px solid var(--fill-color);\n",
              "    border-color: transparent;\n",
              "    border-bottom-color: var(--fill-color);\n",
              "    animation:\n",
              "      spin 1s steps(1) infinite;\n",
              "  }\n",
              "\n",
              "  @keyframes spin {\n",
              "    0% {\n",
              "      border-color: transparent;\n",
              "      border-bottom-color: var(--fill-color);\n",
              "      border-left-color: var(--fill-color);\n",
              "    }\n",
              "    20% {\n",
              "      border-color: transparent;\n",
              "      border-left-color: var(--fill-color);\n",
              "      border-top-color: var(--fill-color);\n",
              "    }\n",
              "    30% {\n",
              "      border-color: transparent;\n",
              "      border-left-color: var(--fill-color);\n",
              "      border-top-color: var(--fill-color);\n",
              "      border-right-color: var(--fill-color);\n",
              "    }\n",
              "    40% {\n",
              "      border-color: transparent;\n",
              "      border-right-color: var(--fill-color);\n",
              "      border-top-color: var(--fill-color);\n",
              "    }\n",
              "    60% {\n",
              "      border-color: transparent;\n",
              "      border-right-color: var(--fill-color);\n",
              "    }\n",
              "    80% {\n",
              "      border-color: transparent;\n",
              "      border-right-color: var(--fill-color);\n",
              "      border-bottom-color: var(--fill-color);\n",
              "    }\n",
              "    90% {\n",
              "      border-color: transparent;\n",
              "      border-bottom-color: var(--fill-color);\n",
              "    }\n",
              "  }\n",
              "</style>\n",
              "\n",
              "  <script>\n",
              "    async function quickchart(key) {\n",
              "      const quickchartButtonEl =\n",
              "        document.querySelector('#' + key + ' button');\n",
              "      quickchartButtonEl.disabled = true;  // To prevent multiple clicks.\n",
              "      quickchartButtonEl.classList.add('colab-df-spinner');\n",
              "      try {\n",
              "        const charts = await google.colab.kernel.invokeFunction(\n",
              "            'suggestCharts', [key], {});\n",
              "      } catch (error) {\n",
              "        console.error('Error during call to suggestCharts:', error);\n",
              "      }\n",
              "      quickchartButtonEl.classList.remove('colab-df-spinner');\n",
              "      quickchartButtonEl.classList.add('colab-df-quickchart-complete');\n",
              "    }\n",
              "    (() => {\n",
              "      let quickchartButtonEl =\n",
              "        document.querySelector('#df-17079b33-7981-4646-8a63-39ea840ff48c button');\n",
              "      quickchartButtonEl.style.display =\n",
              "        google.colab.kernel.accessAllowed ? 'block' : 'none';\n",
              "    })();\n",
              "  </script>\n",
              "</div>\n",
              "    </div>\n",
              "  </div>\n"
            ]
          },
          "metadata": {},
          "execution_count": 8
        }
      ]
    },
    {
      "cell_type": "markdown",
      "source": [
        "## Exploratory Data Analysis"
      ],
      "metadata": {
        "id": "25JTDEriOqHx"
      }
    },
    {
      "cell_type": "code",
      "source": [
        "for cols in df.columns:\n",
        "  print(cols)\n",
        "  print(df[cols].unique()[:5])\n",
        "  print(df[cols].nunique())\n",
        "  print()"
      ],
      "metadata": {
        "colab": {
          "base_uri": "https://localhost:8080/"
        },
        "id": "g8pVALA2OvVa",
        "outputId": "f4584baa-b2c5-4879-967d-361713f74cc3"
      },
      "execution_count": null,
      "outputs": [
        {
          "output_type": "stream",
          "name": "stdout",
          "text": [
            "make\n",
            "['bmw' 'audi' 'fiat' 'mercedes-benz' 'chrysler']\n",
            "48\n",
            "\n",
            "model\n",
            "['1_series_m' '1_series' '100' '124_spider' '190-class']\n",
            "914\n",
            "\n",
            "year\n",
            "[2011 2012 2013 1992 1993]\n",
            "28\n",
            "\n",
            "engine_fuel_type\n",
            "['premium_unleaded_(required)' 'regular_unleaded'\n",
            " 'premium_unleaded_(recommended)' 'flex-fuel_(unleaded/e85)' 'diesel']\n",
            "10\n",
            "\n",
            "engine_hp\n",
            "[335. 300. 230. 320. 172.]\n",
            "356\n",
            "\n",
            "engine_cylinders\n",
            "[ 6.  4.  5.  8. 12.]\n",
            "9\n",
            "\n",
            "transmission_type\n",
            "['manual' 'automatic' 'automated_manual' 'direct_drive' 'unknown']\n",
            "5\n",
            "\n",
            "driven_wheels\n",
            "['rear_wheel_drive' 'front_wheel_drive' 'all_wheel_drive'\n",
            " 'four_wheel_drive']\n",
            "4\n",
            "\n",
            "number_of_doors\n",
            "[ 2.  4.  3. nan]\n",
            "3\n",
            "\n",
            "market_category\n",
            "['factory_tuner,luxury,high-performance' 'luxury,performance'\n",
            " 'luxury,high-performance' 'luxury' 'performance']\n",
            "71\n",
            "\n",
            "vehicle_size\n",
            "['compact' 'midsize' 'large']\n",
            "3\n",
            "\n",
            "vehicle_style\n",
            "['coupe' 'convertible' 'sedan' 'wagon' '4dr_hatchback']\n",
            "16\n",
            "\n",
            "highway_mpg\n",
            "[26 28 27 25 24]\n",
            "59\n",
            "\n",
            "city_mpg\n",
            "[19 20 18 17 16]\n",
            "69\n",
            "\n",
            "popularity\n",
            "[3916 3105  819  617 1013]\n",
            "48\n",
            "\n",
            "msrp\n",
            "[46135 40650 36350 29450 34500]\n",
            "6049\n",
            "\n"
          ]
        }
      ]
    },
    {
      "cell_type": "markdown",
      "source": [
        "## Distribution of Price"
      ],
      "metadata": {
        "id": "BrTlPwpp7NvS"
      }
    },
    {
      "cell_type": "code",
      "source": [
        "import matplotlib.pyplot as ply\n",
        "import seaborn as sns\n",
        "\n",
        "%matplotlib inline"
      ],
      "metadata": {
        "id": "-Kzm31yu7PsV"
      },
      "execution_count": null,
      "outputs": []
    },
    {
      "cell_type": "code",
      "source": [
        "# long tail distribution\n",
        "sns.histplot(df.msrp, bins=50)"
      ],
      "metadata": {
        "colab": {
          "base_uri": "https://localhost:8080/",
          "height": 466
        },
        "id": "VEJ_qGY68IFJ",
        "outputId": "cf8cc8b8-cf3e-4727-b585-a3ba5f1715d0"
      },
      "execution_count": null,
      "outputs": [
        {
          "output_type": "execute_result",
          "data": {
            "text/plain": [
              "<Axes: xlabel='msrp', ylabel='Count'>"
            ]
          },
          "metadata": {},
          "execution_count": 11
        },
        {
          "output_type": "display_data",
          "data": {
            "text/plain": [
              "<Figure size 640x480 with 1 Axes>"
            ],
            "image/png": "[encoded data removed]"
          },
          "metadata": {}
        }
      ]
    },
    {
      "cell_type": "code",
      "source": [
        "# not so good dataset\n",
        "sns.histplot(df.msrp[df.msrp < 100000], bins=50)"
      ],
      "metadata": {
        "colab": {
          "base_uri": "https://localhost:8080/",
          "height": 466
        },
        "id": "ihFjE4Le9vYa",
        "outputId": "c5611fdd-4bfb-4798-c6d3-414ed7d2301b"
      },
      "execution_count": null,
      "outputs": [
        {
          "output_type": "execute_result",
          "data": {
            "text/plain": [
              "<Axes: xlabel='msrp', ylabel='Count'>"
            ]
          },
          "metadata": {},
          "execution_count": 12
        },
        {
          "output_type": "display_data",
          "data": {
            "text/plain": [
              "<Figure size 640x480 with 1 Axes>"
            ],
            "image/png": "[encoded data removed]"
          },
          "metadata": {}
        }
      ]
    },
    {
      "cell_type": "code",
      "source": [
        "# logarithmic distribution\n",
        "# can't start from zero\n",
        "np.log([1,10,1000,1000000])\n",
        "\n",
        "# solution: adding 1 (+1) to every value\n",
        "np.log1p([0,1,10,1000,1000000])"
      ],
      "metadata": {
        "colab": {
          "base_uri": "https://localhost:8080/"
        },
        "id": "dYfTIIEZ-tTk",
        "outputId": "364673b8-3062-4088-d6ab-33e6976d8cbd"
      },
      "execution_count": null,
      "outputs": [
        {
          "output_type": "execute_result",
          "data": {
            "text/plain": [
              "array([ 0.        ,  0.69314718,  2.39789527,  6.90875478, 13.81551156])"
            ]
          },
          "metadata": {},
          "execution_count": 13
        }
      ]
    },
    {
      "cell_type": "code",
      "source": [
        "priceLogs = np.log1p(df.msrp)\n",
        "priceLogs"
      ],
      "metadata": {
        "colab": {
          "base_uri": "https://localhost:8080/"
        },
        "id": "rnw92-Kf_TZn",
        "outputId": "afb06f3a-4755-4410-9e30-7901d24e6f63"
      },
      "execution_count": null,
      "outputs": [
        {
          "output_type": "execute_result",
          "data": {
            "text/plain": [
              "0        10.739349\n",
              "1        10.612779\n",
              "2        10.500977\n",
              "3        10.290483\n",
              "4        10.448744\n",
              "           ...    \n",
              "11909    10.739024\n",
              "11910    10.945018\n",
              "11911    10.832122\n",
              "11912    10.838031\n",
              "11913    10.274913\n",
              "Name: msrp, Length: 11914, dtype: float64"
            ]
          },
          "metadata": {},
          "execution_count": 14
        }
      ]
    },
    {
      "cell_type": "code",
      "source": [
        "# closer to normal distribution\n",
        "sns.histplot(priceLogs, bins=50)"
      ],
      "metadata": {
        "colab": {
          "base_uri": "https://localhost:8080/",
          "height": 466
        },
        "id": "CJ0d-mbQADHu",
        "outputId": "6c22cfcf-db50-49b8-f5c1-ae1207d97518"
      },
      "execution_count": null,
      "outputs": [
        {
          "output_type": "execute_result",
          "data": {
            "text/plain": [
              "<Axes: xlabel='msrp', ylabel='Count'>"
            ]
          },
          "metadata": {},
          "execution_count": 15
        },
        {
          "output_type": "display_data",
          "data": {
            "text/plain": [
              "<Figure size 640x480 with 1 Axes>"
            ],
            "image/png": "[encoded data removed]"
          },
          "metadata": {}
        }
      ]
    },
    {
      "cell_type": "markdown",
      "source": [
        "## Missing Values"
      ],
      "metadata": {
        "id": "yw7sTYO0AvPO"
      }
    },
    {
      "cell_type": "code",
      "source": [
        "df.isnull().sum()"
      ],
      "metadata": {
        "colab": {
          "base_uri": "https://localhost:8080/"
        },
        "id": "Yqa3f1FPAw2y",
        "outputId": "3cb362e7-ba91-4af9-c803-b1f57adc71d1"
      },
      "execution_count": null,
      "outputs": [
        {
          "output_type": "execute_result",
          "data": {
            "text/plain": [
              "make                    0\n",
              "model                   0\n",
              "year                    0\n",
              "engine_fuel_type        3\n",
              "engine_hp              69\n",
              "engine_cylinders       30\n",
              "transmission_type       0\n",
              "driven_wheels           0\n",
              "number_of_doors         6\n",
              "market_category      3742\n",
              "vehicle_size            0\n",
              "vehicle_style           0\n",
              "highway_mpg             0\n",
              "city_mpg                0\n",
              "popularity              0\n",
              "msrp                    0\n",
              "dtype: int64"
            ]
          },
          "metadata": {},
          "execution_count": 16
        }
      ]
    },
    {
      "cell_type": "markdown",
      "source": [
        "## Setting Up Validation Framework"
      ],
      "metadata": {
        "id": "Q6nsGuxBBguL"
      }
    },
    {
      "cell_type": "markdown",
      "source": [
        "### Split dataframe\n",
        "Train 60%, VAL 20%, test 20%"
      ],
      "metadata": {
        "id": "ud-I73bgCGkU"
      }
    },
    {
      "cell_type": "code",
      "source": [
        "n = len(df)\n",
        "nVal = int(n*0.2)\n",
        "nTest = int(n*0.2)\n",
        "nTrain = n - nVal - nTest"
      ],
      "metadata": {
        "id": "m8dY15OPByPm"
      },
      "execution_count": null,
      "outputs": []
    },
    {
      "cell_type": "code",
      "source": [
        "n, nVal + nTest + nTrain"
      ],
      "metadata": {
        "colab": {
          "base_uri": "https://localhost:8080/"
        },
        "id": "D709T4yXCx32",
        "outputId": "7394592e-04b1-4dc3-f985-9affbcd2167e"
      },
      "execution_count": null,
      "outputs": [
        {
          "output_type": "execute_result",
          "data": {
            "text/plain": [
              "(11914, 11914)"
            ]
          },
          "metadata": {},
          "execution_count": 18
        }
      ]
    },
    {
      "cell_type": "code",
      "source": [
        "nVal, nTest, nTrain"
      ],
      "metadata": {
        "colab": {
          "base_uri": "https://localhost:8080/"
        },
        "id": "WAJ9JU7hDBUb",
        "outputId": "10ccbebb-41e8-48de-ed28-8021a7d016fb"
      },
      "execution_count": null,
      "outputs": [
        {
          "output_type": "execute_result",
          "data": {
            "text/plain": [
              "(2382, 2382, 7150)"
            ]
          },
          "metadata": {},
          "execution_count": 19
        }
      ]
    },
    {
      "cell_type": "code",
      "source": [
        "dfTrain = df.iloc[nTrain:]\n",
        "dfVal = df.iloc[nTrain:nTrain+nVal]\n",
        "dfTest = df.iloc[nVal+nTrain:]"
      ],
      "metadata": {
        "id": "BiUrcCzYDEPd"
      },
      "execution_count": null,
      "outputs": []
    },
    {
      "cell_type": "code",
      "source": [
        "dfVal"
      ],
      "metadata": {
        "colab": {
          "base_uri": "https://localhost:8080/",
          "height": 461
        },
        "id": "KnvkqfJRETN5",
        "outputId": "3d71ab9d-dfc3-40d8-d977-d2618baab59e"
      },
      "execution_count": null,
      "outputs": [
        {
          "output_type": "execute_result",
          "data": {
            "text/plain": [
              "           make           model  year          engine_fuel_type  engine_hp  \\\n",
              "7150    lincoln       navigator  2015          regular_unleaded      365.0   \n",
              "7151    lincoln       navigator  2016          regular_unleaded      380.0   \n",
              "7152    lincoln       navigator  2016          regular_unleaded      380.0   \n",
              "7153    lincoln       navigator  2016          regular_unleaded      380.0   \n",
              "7154    lincoln       navigator  2016          regular_unleaded      380.0   \n",
              "...         ...             ...   ...                       ...        ...   \n",
              "9527  chevrolet  silverado_1500  2015  flex-fuel_(unleaded/e85)      285.0   \n",
              "9528  chevrolet  silverado_1500  2015          regular_unleaded      355.0   \n",
              "9529  chevrolet  silverado_1500  2015          regular_unleaded      355.0   \n",
              "9530  chevrolet  silverado_1500  2015          regular_unleaded      355.0   \n",
              "9531  chevrolet  silverado_1500  2015          regular_unleaded      355.0   \n",
              "\n",
              "      engine_cylinders transmission_type     driven_wheels  number_of_doors  \\\n",
              "7150               6.0         automatic  rear_wheel_drive              4.0   \n",
              "7151               6.0         automatic  rear_wheel_drive              4.0   \n",
              "7152               6.0         automatic  four_wheel_drive              4.0   \n",
              "7153               6.0         automatic  four_wheel_drive              4.0   \n",
              "7154               6.0         automatic  rear_wheel_drive              4.0   \n",
              "...                ...               ...               ...              ...   \n",
              "9527               6.0         automatic  four_wheel_drive              4.0   \n",
              "9528               8.0         automatic  rear_wheel_drive              4.0   \n",
              "9529               8.0         automatic  rear_wheel_drive              4.0   \n",
              "9530               8.0         automatic  rear_wheel_drive              4.0   \n",
              "9531               8.0         automatic  four_wheel_drive              4.0   \n",
              "\n",
              "     market_category vehicle_size        vehicle_style  highway_mpg  city_mpg  \\\n",
              "7150          luxury        large              4dr_suv           20        15   \n",
              "7151          luxury        large              4dr_suv           22        16   \n",
              "7152          luxury        large              4dr_suv           19        15   \n",
              "7153          luxury        large              4dr_suv           19        15   \n",
              "7154          luxury        large              4dr_suv           20        15   \n",
              "...              ...          ...                  ...          ...       ...   \n",
              "9527       flex_fuel        large      crew_cab_pickup           22        17   \n",
              "9528             NaN        large  extended_cab_pickup           23        16   \n",
              "9529             NaN        large      crew_cab_pickup           23        16   \n",
              "9530             NaN        large      crew_cab_pickup           23        16   \n",
              "9531             NaN        large      crew_cab_pickup           22        16   \n",
              "\n",
              "      popularity   msrp  \n",
              "7150          61  63645  \n",
              "7151          61  63195  \n",
              "7152          61  76650  \n",
              "7153          61  69135  \n",
              "7154          61  65560  \n",
              "...          ...    ...  \n",
              "9527        1385  37380  \n",
              "9528        1385  40100  \n",
              "9529        1385  42560  \n",
              "9530        1385  42860  \n",
              "9531        1385  45120  \n",
              "\n",
              "[2382 rows x 16 columns]"
            ],
            "text/html": [
              "\n",
              "  <div id=\"df-ea10ba54-be20-44fc-a017-e2df8754bf6d\" class=\"colab-df-container\">\n",
              "    <div>\n",
              "<style scoped>\n",
              "    .dataframe tbody tr th:only-of-type {\n",
              "        vertical-align: middle;\n",
              "    }\n",
              "\n",
              "    .dataframe tbody tr th {\n",
              "        vertical-align: top;\n",
              "    }\n",
              "\n",
              "    .dataframe thead th {\n",
              "        text-align: right;\n",
              "    }\n",
              "</style>\n",
              "<table border=\"1\" class=\"dataframe\">\n",
              "  <thead>\n",
              "    <tr style=\"text-align: right;\">\n",
              "      <th></th>\n",
              "      <th>make</th>\n",
              "      <th>model</th>\n",
              "      <th>year</th>\n",
              "      <th>engine_fuel_type</th>\n",
              "      <th>engine_hp</th>\n",
              "      <th>engine_cylinders</th>\n",
              "      <th>transmission_type</th>\n",
              "      <th>driven_wheels</th>\n",
              "      <th>number_of_doors</th>\n",
              "      <th>market_category</th>\n",
              "      <th>vehicle_size</th>\n",
              "      <th>vehicle_style</th>\n",
              "      <th>highway_mpg</th>\n",
              "      <th>city_mpg</th>\n",
              "      <th>popularity</th>\n",
              "      <th>msrp</th>\n",
              "    </tr>\n",
              "  </thead>\n",
              "  <tbody>\n",
              "    <tr>\n",
              "      <th>7150</th>\n",
              "      <td>lincoln</td>\n",
              "      <td>navigator</td>\n",
              "      <td>2015</td>\n",
              "      <td>regular_unleaded</td>\n",
              "      <td>365.0</td>\n",
              "      <td>6.0</td>\n",
              "      <td>automatic</td>\n",
              "      <td>rear_wheel_drive</td>\n",
              "      <td>4.0</td>\n",
              "      <td>luxury</td>\n",
              "      <td>large</td>\n",
              "      <td>4dr_suv</td>\n",
              "      <td>20</td>\n",
              "      <td>15</td>\n",
              "      <td>61</td>\n",
              "      <td>63645</td>\n",
              "    </tr>\n",
              "    <tr>\n",
              "      <th>7151</th>\n",
              "      <td>lincoln</td>\n",
              "      <td>navigator</td>\n",
              "      <td>2016</td>\n",
              "      <td>regular_unleaded</td>\n",
              "      <td>380.0</td>\n",
              "      <td>6.0</td>\n",
              "      <td>automatic</td>\n",
              "      <td>rear_wheel_drive</td>\n",
              "      <td>4.0</td>\n",
              "      <td>luxury</td>\n",
              "      <td>large</td>\n",
              "      <td>4dr_suv</td>\n",
              "      <td>22</td>\n",
              "      <td>16</td>\n",
              "      <td>61</td>\n",
              "      <td>63195</td>\n",
              "    </tr>\n",
              "    <tr>\n",
              "      <th>7152</th>\n",
              "      <td>lincoln</td>\n",
              "      <td>navigator</td>\n",
              "      <td>2016</td>\n",
              "      <td>regular_unleaded</td>\n",
              "      <td>380.0</td>\n",
              "      <td>6.0</td>\n",
              "      <td>automatic</td>\n",
              "      <td>four_wheel_drive</td>\n",
              "      <td>4.0</td>\n",
              "      <td>luxury</td>\n",
              "      <td>large</td>\n",
              "      <td>4dr_suv</td>\n",
              "      <td>19</td>\n",
              "      <td>15</td>\n",
              "      <td>61</td>\n",
              "      <td>76650</td>\n",
              "    </tr>\n",
              "    <tr>\n",
              "      <th>7153</th>\n",
              "      <td>lincoln</td>\n",
              "      <td>navigator</td>\n",
              "      <td>2016</td>\n",
              "      <td>regular_unleaded</td>\n",
              "      <td>380.0</td>\n",
              "      <td>6.0</td>\n",
              "      <td>automatic</td>\n",
              "      <td>four_wheel_drive</td>\n",
              "      <td>4.0</td>\n",
              "      <td>luxury</td>\n",
              "      <td>large</td>\n",
              "      <td>4dr_suv</td>\n",
              "      <td>19</td>\n",
              "      <td>15</td>\n",
              "      <td>61</td>\n",
              "      <td>69135</td>\n",
              "    </tr>\n",
              "    <tr>\n",
              "      <th>7154</th>\n",
              "      <td>lincoln</td>\n",
              "      <td>navigator</td>\n",
              "      <td>2016</td>\n",
              "      <td>regular_unleaded</td>\n",
              "      <td>380.0</td>\n",
              "      <td>6.0</td>\n",
              "      <td>automatic</td>\n",
              "      <td>rear_wheel_drive</td>\n",
              "      <td>4.0</td>\n",
              "      <td>luxury</td>\n",
              "      <td>large</td>\n",
              "      <td>4dr_suv</td>\n",
              "      <td>20</td>\n",
              "      <td>15</td>\n",
              "      <td>61</td>\n",
              "      <td>65560</td>\n",
              "    </tr>\n",
              "    <tr>\n",
              "      <th>...</th>\n",
              "      <td>...</td>\n",
              "      <td>...</td>\n",
              "      <td>...</td>\n",
              "      <td>...</td>\n",
              "      <td>...</td>\n",
              "      <td>...</td>\n",
              "      <td>...</td>\n",
              "      <td>...</td>\n",
              "      <td>...</td>\n",
              "      <td>...</td>\n",
              "      <td>...</td>\n",
              "      <td>...</td>\n",
              "      <td>...</td>\n",
              "      <td>...</td>\n",
              "      <td>...</td>\n",
              "      <td>...</td>\n",
              "    </tr>\n",
              "    <tr>\n",
              "      <th>9527</th>\n",
              "      <td>chevrolet</td>\n",
              "      <td>silverado_1500</td>\n",
              "      <td>2015</td>\n",
              "      <td>flex-fuel_(unleaded/e85)</td>\n",
              "      <td>285.0</td>\n",
              "      <td>6.0</td>\n",
              "      <td>automatic</td>\n",
              "      <td>four_wheel_drive</td>\n",
              "      <td>4.0</td>\n",
              "      <td>flex_fuel</td>\n",
              "      <td>large</td>\n",
              "      <td>crew_cab_pickup</td>\n",
              "      <td>22</td>\n",
              "      <td>17</td>\n",
              "      <td>1385</td>\n",
              "      <td>37380</td>\n",
              "    </tr>\n",
              "    <tr>\n",
              "      <th>9528</th>\n",
              "      <td>chevrolet</td>\n",
              "      <td>silverado_1500</td>\n",
              "      <td>2015</td>\n",
              "      <td>regular_unleaded</td>\n",
              "      <td>355.0</td>\n",
              "      <td>8.0</td>\n",
              "      <td>automatic</td>\n",
              "      <td>rear_wheel_drive</td>\n",
              "      <td>4.0</td>\n",
              "      <td>NaN</td>\n",
              "      <td>large</td>\n",
              "      <td>extended_cab_pickup</td>\n",
              "      <td>23</td>\n",
              "      <td>16</td>\n",
              "      <td>1385</td>\n",
              "      <td>40100</td>\n",
              "    </tr>\n",
              "    <tr>\n",
              "      <th>9529</th>\n",
              "      <td>chevrolet</td>\n",
              "      <td>silverado_1500</td>\n",
              "      <td>2015</td>\n",
              "      <td>regular_unleaded</td>\n",
              "      <td>355.0</td>\n",
              "      <td>8.0</td>\n",
              "      <td>automatic</td>\n",
              "      <td>rear_wheel_drive</td>\n",
              "      <td>4.0</td>\n",
              "      <td>NaN</td>\n",
              "      <td>large</td>\n",
              "      <td>crew_cab_pickup</td>\n",
              "      <td>23</td>\n",
              "      <td>16</td>\n",
              "      <td>1385</td>\n",
              "      <td>42560</td>\n",
              "    </tr>\n",
              "    <tr>\n",
              "      <th>9530</th>\n",
              "      <td>chevrolet</td>\n",
              "      <td>silverado_1500</td>\n",
              "      <td>2015</td>\n",
              "      <td>regular_unleaded</td>\n",
              "      <td>355.0</td>\n",
              "      <td>8.0</td>\n",
              "      <td>automatic</td>\n",
              "      <td>rear_wheel_drive</td>\n",
              "      <td>4.0</td>\n",
              "      <td>NaN</td>\n",
              "      <td>large</td>\n",
              "      <td>crew_cab_pickup</td>\n",
              "      <td>23</td>\n",
              "      <td>16</td>\n",
              "      <td>1385</td>\n",
              "      <td>42860</td>\n",
              "    </tr>\n",
              "    <tr>\n",
              "      <th>9531</th>\n",
              "      <td>chevrolet</td>\n",
              "      <td>silverado_1500</td>\n",
              "      <td>2015</td>\n",
              "      <td>regular_unleaded</td>\n",
              "      <td>355.0</td>\n",
              "      <td>8.0</td>\n",
              "      <td>automatic</td>\n",
              "      <td>four_wheel_drive</td>\n",
              "      <td>4.0</td>\n",
              "      <td>NaN</td>\n",
              "      <td>large</td>\n",
              "      <td>crew_cab_pickup</td>\n",
              "      <td>22</td>\n",
              "      <td>16</td>\n",
              "      <td>1385</td>\n",
              "      <td>45120</td>\n",
              "    </tr>\n",
              "  </tbody>\n",
              "</table>\n",
              "<p>2382 rows × 16 columns</p>\n",
              "</div>\n",
              "    <div class=\"colab-df-buttons\">\n",
              "\n",
              "  <div class=\"colab-df-container\">\n",
              "    <button class=\"colab-df-convert\" onclick=\"convertToInteractive('df-ea10ba54-be20-44fc-a017-e2df8754bf6d')\"\n",
              "            title=\"Convert this dataframe to an interactive table.\"\n",
              "            style=\"display:none;\">\n",
              "\n",
              "  <svg xmlns=\"http://www.w3.org/2000/svg\" height=\"24px\" viewBox=\"0 -960 960 960\">\n",
              "    <path d=\"M120-120v-720h720v720H120Zm60-500h600v-160H180v160Zm220 220h160v-160H400v160Zm0 220h160v-160H400v160ZM180-400h160v-160H180v160Zm440 0h160v-160H620v160ZM180-180h160v-160H180v160Zm440 0h160v-160H620v160Z\"/>\n",
              "  </svg>\n",
              "    </button>\n",
              "\n",
              "  <style>\n",
              "    .colab-df-container {\n",
              "      display:flex;\n",
              "      gap: 12px;\n",
              "    }\n",
              "\n",
              "    .colab-df-convert {\n",
              "      background-color: #E8F0FE;\n",
              "      border: none;\n",
              "      border-radius: 50%;\n",
              "      cursor: pointer;\n",
              "      display: none;\n",
              "      fill: #1967D2;\n",
              "      height: 32px;\n",
              "      padding: 0 0 0 0;\n",
              "      width: 32px;\n",
              "    }\n",
              "\n",
              "    .colab-df-convert:hover {\n",
              "      background-color: #E2EBFA;\n",
              "      box-shadow: 0px 1px 2px rgba(60, 64, 67, 0.3), 0px 1px 3px 1px rgba(60, 64, 67, 0.15);\n",
              "      fill: #174EA6;\n",
              "    }\n",
              "\n",
              "    .colab-df-buttons div {\n",
              "      margin-bottom: 4px;\n",
              "    }\n",
              "\n",
              "    [theme=dark] .colab-df-convert {\n",
              "      background-color: #3B4455;\n",
              "      fill: #D2E3FC;\n",
              "    }\n",
              "\n",
              "    [theme=dark] .colab-df-convert:hover {\n",
              "      background-color: #434B5C;\n",
              "      box-shadow: 0px 1px 3px 1px rgba(0, 0, 0, 0.15);\n",
              "      filter: drop-shadow(0px 1px 2px rgba(0, 0, 0, 0.3));\n",
              "      fill: #FFFFFF;\n",
              "    }\n",
              "  </style>\n",
              "\n",
              "    <script>\n",
              "      const buttonEl =\n",
              "        document.querySelector('#df-ea10ba54-be20-44fc-a017-e2df8754bf6d button.colab-df-convert');\n",
              "      buttonEl.style.display =\n",
              "        google.colab.kernel.accessAllowed ? 'block' : 'none';\n",
              "\n",
              "      async function convertToInteractive(key) {\n",
              "        const element = document.querySelector('#df-ea10ba54-be20-44fc-a017-e2df8754bf6d');\n",
              "        const dataTable =\n",
              "          await google.colab.kernel.invokeFunction('convertToInteractive',\n",
              "                                                    [key], {});\n",
              "        if (!dataTable) return;\n",
              "\n",
              "        const docLinkHtml = 'Like what you see? Visit the ' +\n",
              "          '<a target=\"_blank\" href=https://colab.research.google.com/notebooks/data_table.ipynb>data table notebook</a>'\n",
              "          + ' to learn more about interactive tables.';\n",
              "        element.innerHTML = '';\n",
              "        dataTable['output_type'] = 'display_data';\n",
              "        await google.colab.output.renderOutput(dataTable, element);\n",
              "        const docLink = document.createElement('div');\n",
              "        docLink.innerHTML = docLinkHtml;\n",
              "        element.appendChild(docLink);\n",
              "      }\n",
              "    </script>\n",
              "  </div>\n",
              "\n",
              "\n",
              "<div id=\"df-f655b138-e7cb-4f12-b5fa-a5670a38ea6b\">\n",
              "  <button class=\"colab-df-quickchart\" onclick=\"quickchart('df-f655b138-e7cb-4f12-b5fa-a5670a38ea6b')\"\n",
              "            title=\"Suggest charts.\"\n",
              "            style=\"display:none;\">\n",
              "\n",
              "<svg xmlns=\"http://www.w3.org/2000/svg\" height=\"24px\"viewBox=\"0 0 24 24\"\n",
              "     width=\"24px\">\n",
              "    <g>\n",
              "        <path d=\"M19 3H5c-1.1 0-2 .9-2 2v14c0 1.1.9 2 2 2h14c1.1 0 2-.9 2-2V5c0-1.1-.9-2-2-2zM9 17H7v-7h2v7zm4 0h-2V7h2v10zm4 0h-2v-4h2v4z\"/>\n",
              "    </g>\n",
              "</svg>\n",
              "  </button>\n",
              "\n",
              "<style>\n",
              "  .colab-df-quickchart {\n",
              "      --bg-color: #E8F0FE;\n",
              "      --fill-color: #1967D2;\n",
              "      --hover-bg-color: #E2EBFA;\n",
              "      --hover-fill-color: #174EA6;\n",
              "      --disabled-fill-color: #AAA;\n",
              "      --disabled-bg-color: #DDD;\n",
              "  }\n",
              "\n",
              "  [theme=dark] .colab-df-quickchart {\n",
              "      --bg-color: #3B4455;\n",
              "      --fill-color: #D2E3FC;\n",
              "      --hover-bg-color: #434B5C;\n",
              "      --hover-fill-color: #FFFFFF;\n",
              "      --disabled-bg-color: #3B4455;\n",
              "      --disabled-fill-color: #666;\n",
              "  }\n",
              "\n",
              "  .colab-df-quickchart {\n",
              "    background-color: var(--bg-color);\n",
              "    border: none;\n",
              "    border-radius: 50%;\n",
              "    cursor: pointer;\n",
              "    display: none;\n",
              "    fill: var(--fill-color);\n",
              "    height: 32px;\n",
              "    padding: 0;\n",
              "    width: 32px;\n",
              "  }\n",
              "\n",
              "  .colab-df-quickchart:hover {\n",
              "    background-color: var(--hover-bg-color);\n",
              "    box-shadow: 0 1px 2px rgba(60, 64, 67, 0.3), 0 1px 3px 1px rgba(60, 64, 67, 0.15);\n",
              "    fill: var(--button-hover-fill-color);\n",
              "  }\n",
              "\n",
              "  .colab-df-quickchart-complete:disabled,\n",
              "  .colab-df-quickchart-complete:disabled:hover {\n",
              "    background-color: var(--disabled-bg-color);\n",
              "    fill: var(--disabled-fill-color);\n",
              "    box-shadow: none;\n",
              "  }\n",
              "\n",
              "  .colab-df-spinner {\n",
              "    border: 2px solid var(--fill-color);\n",
              "    border-color: transparent;\n",
              "    border-bottom-color: var(--fill-color);\n",
              "    animation:\n",
              "      spin 1s steps(1) infinite;\n",
              "  }\n",
              "\n",
              "  @keyframes spin {\n",
              "    0% {\n",
              "      border-color: transparent;\n",
              "      border-bottom-color: var(--fill-color);\n",
              "      border-left-color: var(--fill-color);\n",
              "    }\n",
              "    20% {\n",
              "      border-color: transparent;\n",
              "      border-left-color: var(--fill-color);\n",
              "      border-top-color: var(--fill-color);\n",
              "    }\n",
              "    30% {\n",
              "      border-color: transparent;\n",
              "      border-left-color: var(--fill-color);\n",
              "      border-top-color: var(--fill-color);\n",
              "      border-right-color: var(--fill-color);\n",
              "    }\n",
              "    40% {\n",
              "      border-color: transparent;\n",
              "      border-right-color: var(--fill-color);\n",
              "      border-top-color: var(--fill-color);\n",
              "    }\n",
              "    60% {\n",
              "      border-color: transparent;\n",
              "      border-right-color: var(--fill-color);\n",
              "    }\n",
              "    80% {\n",
              "      border-color: transparent;\n",
              "      border-right-color: var(--fill-color);\n",
              "      border-bottom-color: var(--fill-color);\n",
              "    }\n",
              "    90% {\n",
              "      border-color: transparent;\n",
              "      border-bottom-color: var(--fill-color);\n",
              "    }\n",
              "  }\n",
              "</style>\n",
              "\n",
              "  <script>\n",
              "    async function quickchart(key) {\n",
              "      const quickchartButtonEl =\n",
              "        document.querySelector('#' + key + ' button');\n",
              "      quickchartButtonEl.disabled = true;  // To prevent multiple clicks.\n",
              "      quickchartButtonEl.classList.add('colab-df-spinner');\n",
              "      try {\n",
              "        const charts = await google.colab.kernel.invokeFunction(\n",
              "            'suggestCharts', [key], {});\n",
              "      } catch (error) {\n",
              "        console.error('Error during call to suggestCharts:', error);\n",
              "      }\n",
              "      quickchartButtonEl.classList.remove('colab-df-spinner');\n",
              "      quickchartButtonEl.classList.add('colab-df-quickchart-complete');\n",
              "    }\n",
              "    (() => {\n",
              "      let quickchartButtonEl =\n",
              "        document.querySelector('#df-f655b138-e7cb-4f12-b5fa-a5670a38ea6b button');\n",
              "      quickchartButtonEl.style.display =\n",
              "        google.colab.kernel.accessAllowed ? 'block' : 'none';\n",
              "    })();\n",
              "  </script>\n",
              "</div>\n",
              "    </div>\n",
              "  </div>\n"
            ]
          },
          "metadata": {},
          "execution_count": 21
        }
      ]
    },
    {
      "cell_type": "code",
      "source": [
        "dfTest"
      ],
      "metadata": {
        "colab": {
          "base_uri": "https://localhost:8080/",
          "height": 444
        },
        "id": "b4piHs43EThb",
        "outputId": "e9cb2eb4-7081-403d-c031-3fb59762ce4a"
      },
      "execution_count": null,
      "outputs": [
        {
          "output_type": "execute_result",
          "data": {
            "text/plain": [
              "            make           model  year                engine_fuel_type  \\\n",
              "9532   chevrolet  silverado_1500  2015                regular_unleaded   \n",
              "9533   chevrolet  silverado_1500  2015        flex-fuel_(unleaded/e85)   \n",
              "9534   chevrolet  silverado_1500  2015        flex-fuel_(unleaded/e85)   \n",
              "9535   chevrolet  silverado_1500  2015        flex-fuel_(unleaded/e85)   \n",
              "9536   chevrolet  silverado_1500  2015        flex-fuel_(unleaded/e85)   \n",
              "...          ...             ...   ...                             ...   \n",
              "11909      acura             zdx  2012     premium_unleaded_(required)   \n",
              "11910      acura             zdx  2012     premium_unleaded_(required)   \n",
              "11911      acura             zdx  2012     premium_unleaded_(required)   \n",
              "11912      acura             zdx  2013  premium_unleaded_(recommended)   \n",
              "11913    lincoln          zephyr  2006                regular_unleaded   \n",
              "\n",
              "       engine_hp  engine_cylinders transmission_type      driven_wheels  \\\n",
              "9532       355.0               8.0         automatic   rear_wheel_drive   \n",
              "9533       285.0               6.0         automatic   rear_wheel_drive   \n",
              "9534       285.0               6.0         automatic   rear_wheel_drive   \n",
              "9535       285.0               6.0         automatic   rear_wheel_drive   \n",
              "9536       285.0               6.0         automatic   rear_wheel_drive   \n",
              "...          ...               ...               ...                ...   \n",
              "11909      300.0               6.0         automatic    all_wheel_drive   \n",
              "11910      300.0               6.0         automatic    all_wheel_drive   \n",
              "11911      300.0               6.0         automatic    all_wheel_drive   \n",
              "11912      300.0               6.0         automatic    all_wheel_drive   \n",
              "11913      221.0               6.0         automatic  front_wheel_drive   \n",
              "\n",
              "       number_of_doors             market_category vehicle_size  \\\n",
              "9532               4.0                         NaN        large   \n",
              "9533               4.0                   flex_fuel        large   \n",
              "9534               4.0                   flex_fuel        large   \n",
              "9535               4.0                   flex_fuel        large   \n",
              "9536               2.0                   flex_fuel        large   \n",
              "...                ...                         ...          ...   \n",
              "11909              4.0  crossover,hatchback,luxury      midsize   \n",
              "11910              4.0  crossover,hatchback,luxury      midsize   \n",
              "11911              4.0  crossover,hatchback,luxury      midsize   \n",
              "11912              4.0  crossover,hatchback,luxury      midsize   \n",
              "11913              4.0                      luxury      midsize   \n",
              "\n",
              "             vehicle_style  highway_mpg  city_mpg  popularity   msrp  \n",
              "9532       crew_cab_pickup           23        16        1385  47575  \n",
              "9533   extended_cab_pickup           24        18        1385  31940  \n",
              "9534       crew_cab_pickup           24        18        1385  38335  \n",
              "9535   extended_cab_pickup           24        18        1385  35870  \n",
              "9536    regular_cab_pickup           24        18        1385  28155  \n",
              "...                    ...          ...       ...         ...    ...  \n",
              "11909        4dr_hatchback           23        16         204  46120  \n",
              "11910        4dr_hatchback           23        16         204  56670  \n",
              "11911        4dr_hatchback           23        16         204  50620  \n",
              "11912        4dr_hatchback           23        16         204  50920  \n",
              "11913                sedan           26        17          61  28995  \n",
              "\n",
              "[2382 rows x 16 columns]"
            ],
            "text/html": [
              "\n",
              "  <div id=\"df-e8a49223-3382-4460-bc01-12e9b81e518c\" class=\"colab-df-container\">\n",
              "    <div>\n",
              "<style scoped>\n",
              "    .dataframe tbody tr th:only-of-type {\n",
              "        vertical-align: middle;\n",
              "    }\n",
              "\n",
              "    .dataframe tbody tr th {\n",
              "        vertical-align: top;\n",
              "    }\n",
              "\n",
              "    .dataframe thead th {\n",
              "        text-align: right;\n",
              "    }\n",
              "</style>\n",
              "<table border=\"1\" class=\"dataframe\">\n",
              "  <thead>\n",
              "    <tr style=\"text-align: right;\">\n",
              "      <th></th>\n",
              "      <th>make</th>\n",
              "      <th>model</th>\n",
              "      <th>year</th>\n",
              "      <th>engine_fuel_type</th>\n",
              "      <th>engine_hp</th>\n",
              "      <th>engine_cylinders</th>\n",
              "      <th>transmission_type</th>\n",
              "      <th>driven_wheels</th>\n",
              "      <th>number_of_doors</th>\n",
              "      <th>market_category</th>\n",
              "      <th>vehicle_size</th>\n",
              "      <th>vehicle_style</th>\n",
              "      <th>highway_mpg</th>\n",
              "      <th>city_mpg</th>\n",
              "      <th>popularity</th>\n",
              "      <th>msrp</th>\n",
              "    </tr>\n",
              "  </thead>\n",
              "  <tbody>\n",
              "    <tr>\n",
              "      <th>9532</th>\n",
              "      <td>chevrolet</td>\n",
              "      <td>silverado_1500</td>\n",
              "      <td>2015</td>\n",
              "      <td>regular_unleaded</td>\n",
              "      <td>355.0</td>\n",
              "      <td>8.0</td>\n",
              "      <td>automatic</td>\n",
              "      <td>rear_wheel_drive</td>\n",
              "      <td>4.0</td>\n",
              "      <td>NaN</td>\n",
              "      <td>large</td>\n",
              "      <td>crew_cab_pickup</td>\n",
              "      <td>23</td>\n",
              "      <td>16</td>\n",
              "      <td>1385</td>\n",
              "      <td>47575</td>\n",
              "    </tr>\n",
              "    <tr>\n",
              "      <th>9533</th>\n",
              "      <td>chevrolet</td>\n",
              "      <td>silverado_1500</td>\n",
              "      <td>2015</td>\n",
              "      <td>flex-fuel_(unleaded/e85)</td>\n",
              "      <td>285.0</td>\n",
              "      <td>6.0</td>\n",
              "      <td>automatic</td>\n",
              "      <td>rear_wheel_drive</td>\n",
              "      <td>4.0</td>\n",
              "      <td>flex_fuel</td>\n",
              "      <td>large</td>\n",
              "      <td>extended_cab_pickup</td>\n",
              "      <td>24</td>\n",
              "      <td>18</td>\n",
              "      <td>1385</td>\n",
              "      <td>31940</td>\n",
              "    </tr>\n",
              "    <tr>\n",
              "      <th>9534</th>\n",
              "      <td>chevrolet</td>\n",
              "      <td>silverado_1500</td>\n",
              "      <td>2015</td>\n",
              "      <td>flex-fuel_(unleaded/e85)</td>\n",
              "      <td>285.0</td>\n",
              "      <td>6.0</td>\n",
              "      <td>automatic</td>\n",
              "      <td>rear_wheel_drive</td>\n",
              "      <td>4.0</td>\n",
              "      <td>flex_fuel</td>\n",
              "      <td>large</td>\n",
              "      <td>crew_cab_pickup</td>\n",
              "      <td>24</td>\n",
              "      <td>18</td>\n",
              "      <td>1385</td>\n",
              "      <td>38335</td>\n",
              "    </tr>\n",
              "    <tr>\n",
              "      <th>9535</th>\n",
              "      <td>chevrolet</td>\n",
              "      <td>silverado_1500</td>\n",
              "      <td>2015</td>\n",
              "      <td>flex-fuel_(unleaded/e85)</td>\n",
              "      <td>285.0</td>\n",
              "      <td>6.0</td>\n",
              "      <td>automatic</td>\n",
              "      <td>rear_wheel_drive</td>\n",
              "      <td>4.0</td>\n",
              "      <td>flex_fuel</td>\n",
              "      <td>large</td>\n",
              "      <td>extended_cab_pickup</td>\n",
              "      <td>24</td>\n",
              "      <td>18</td>\n",
              "      <td>1385</td>\n",
              "      <td>35870</td>\n",
              "    </tr>\n",
              "    <tr>\n",
              "      <th>9536</th>\n",
              "      <td>chevrolet</td>\n",
              "      <td>silverado_1500</td>\n",
              "      <td>2015</td>\n",
              "      <td>flex-fuel_(unleaded/e85)</td>\n",
              "      <td>285.0</td>\n",
              "      <td>6.0</td>\n",
              "      <td>automatic</td>\n",
              "      <td>rear_wheel_drive</td>\n",
              "      <td>2.0</td>\n",
              "      <td>flex_fuel</td>\n",
              "      <td>large</td>\n",
              "      <td>regular_cab_pickup</td>\n",
              "      <td>24</td>\n",
              "      <td>18</td>\n",
              "      <td>1385</td>\n",
              "      <td>28155</td>\n",
              "    </tr>\n",
              "    <tr>\n",
              "      <th>...</th>\n",
              "      <td>...</td>\n",
              "      <td>...</td>\n",
              "      <td>...</td>\n",
              "      <td>...</td>\n",
              "      <td>...</td>\n",
              "      <td>...</td>\n",
              "      <td>...</td>\n",
              "      <td>...</td>\n",
              "      <td>...</td>\n",
              "      <td>...</td>\n",
              "      <td>...</td>\n",
              "      <td>...</td>\n",
              "      <td>...</td>\n",
              "      <td>...</td>\n",
              "      <td>...</td>\n",
              "      <td>...</td>\n",
              "    </tr>\n",
              "    <tr>\n",
              "      <th>11909</th>\n",
              "      <td>acura</td>\n",
              "      <td>zdx</td>\n",
              "      <td>2012</td>\n",
              "      <td>premium_unleaded_(required)</td>\n",
              "      <td>300.0</td>\n",
              "      <td>6.0</td>\n",
              "      <td>automatic</td>\n",
              "      <td>all_wheel_drive</td>\n",
              "      <td>4.0</td>\n",
              "      <td>crossover,hatchback,luxury</td>\n",
              "      <td>midsize</td>\n",
              "      <td>4dr_hatchback</td>\n",
              "      <td>23</td>\n",
              "      <td>16</td>\n",
              "      <td>204</td>\n",
              "      <td>46120</td>\n",
              "    </tr>\n",
              "    <tr>\n",
              "      <th>11910</th>\n",
              "      <td>acura</td>\n",
              "      <td>zdx</td>\n",
              "      <td>2012</td>\n",
              "      <td>premium_unleaded_(required)</td>\n",
              "      <td>300.0</td>\n",
              "      <td>6.0</td>\n",
              "      <td>automatic</td>\n",
              "      <td>all_wheel_drive</td>\n",
              "      <td>4.0</td>\n",
              "      <td>crossover,hatchback,luxury</td>\n",
              "      <td>midsize</td>\n",
              "      <td>4dr_hatchback</td>\n",
              "      <td>23</td>\n",
              "      <td>16</td>\n",
              "      <td>204</td>\n",
              "      <td>56670</td>\n",
              "    </tr>\n",
              "    <tr>\n",
              "      <th>11911</th>\n",
              "      <td>acura</td>\n",
              "      <td>zdx</td>\n",
              "      <td>2012</td>\n",
              "      <td>premium_unleaded_(required)</td>\n",
              "      <td>300.0</td>\n",
              "      <td>6.0</td>\n",
              "      <td>automatic</td>\n",
              "      <td>all_wheel_drive</td>\n",
              "      <td>4.0</td>\n",
              "      <td>crossover,hatchback,luxury</td>\n",
              "      <td>midsize</td>\n",
              "      <td>4dr_hatchback</td>\n",
              "      <td>23</td>\n",
              "      <td>16</td>\n",
              "      <td>204</td>\n",
              "      <td>50620</td>\n",
              "    </tr>\n",
              "    <tr>\n",
              "      <th>11912</th>\n",
              "      <td>acura</td>\n",
              "      <td>zdx</td>\n",
              "      <td>2013</td>\n",
              "      <td>premium_unleaded_(recommended)</td>\n",
              "      <td>300.0</td>\n",
              "      <td>6.0</td>\n",
              "      <td>automatic</td>\n",
              "      <td>all_wheel_drive</td>\n",
              "      <td>4.0</td>\n",
              "      <td>crossover,hatchback,luxury</td>\n",
              "      <td>midsize</td>\n",
              "      <td>4dr_hatchback</td>\n",
              "      <td>23</td>\n",
              "      <td>16</td>\n",
              "      <td>204</td>\n",
              "      <td>50920</td>\n",
              "    </tr>\n",
              "    <tr>\n",
              "      <th>11913</th>\n",
              "      <td>lincoln</td>\n",
              "      <td>zephyr</td>\n",
              "      <td>2006</td>\n",
              "      <td>regular_unleaded</td>\n",
              "      <td>221.0</td>\n",
              "      <td>6.0</td>\n",
              "      <td>automatic</td>\n",
              "      <td>front_wheel_drive</td>\n",
              "      <td>4.0</td>\n",
              "      <td>luxury</td>\n",
              "      <td>midsize</td>\n",
              "      <td>sedan</td>\n",
              "      <td>26</td>\n",
              "      <td>17</td>\n",
              "      <td>61</td>\n",
              "      <td>28995</td>\n",
              "    </tr>\n",
              "  </tbody>\n",
              "</table>\n",
              "<p>2382 rows × 16 columns</p>\n",
              "</div>\n",
              "    <div class=\"colab-df-buttons\">\n",
              "\n",
              "  <div class=\"colab-df-container\">\n",
              "    <button class=\"colab-df-convert\" onclick=\"convertToInteractive('df-e8a49223-3382-4460-bc01-12e9b81e518c')\"\n",
              "            title=\"Convert this dataframe to an interactive table.\"\n",
              "            style=\"display:none;\">\n",
              "\n",
              "  <svg xmlns=\"http://www.w3.org/2000/svg\" height=\"24px\" viewBox=\"0 -960 960 960\">\n",
              "    <path d=\"M120-120v-720h720v720H120Zm60-500h600v-160H180v160Zm220 220h160v-160H400v160Zm0 220h160v-160H400v160ZM180-400h160v-160H180v160Zm440 0h160v-160H620v160ZM180-180h160v-160H180v160Zm440 0h160v-160H620v160Z\"/>\n",
              "  </svg>\n",
              "    </button>\n",
              "\n",
              "  <style>\n",
              "    .colab-df-container {\n",
              "      display:flex;\n",
              "      gap: 12px;\n",
              "    }\n",
              "\n",
              "    .colab-df-convert {\n",
              "      background-color: #E8F0FE;\n",
              "      border: none;\n",
              "      border-radius: 50%;\n",
              "      cursor: pointer;\n",
              "      display: none;\n",
              "      fill: #1967D2;\n",
              "      height: 32px;\n",
              "      padding: 0 0 0 0;\n",
              "      width: 32px;\n",
              "    }\n",
              "\n",
              "    .colab-df-convert:hover {\n",
              "      background-color: #E2EBFA;\n",
              "      box-shadow: 0px 1px 2px rgba(60, 64, 67, 0.3), 0px 1px 3px 1px rgba(60, 64, 67, 0.15);\n",
              "      fill: #174EA6;\n",
              "    }\n",
              "\n",
              "    .colab-df-buttons div {\n",
              "      margin-bottom: 4px;\n",
              "    }\n",
              "\n",
              "    [theme=dark] .colab-df-convert {\n",
              "      background-color: #3B4455;\n",
              "      fill: #D2E3FC;\n",
              "    }\n",
              "\n",
              "    [theme=dark] .colab-df-convert:hover {\n",
              "      background-color: #434B5C;\n",
              "      box-shadow: 0px 1px 3px 1px rgba(0, 0, 0, 0.15);\n",
              "      filter: drop-shadow(0px 1px 2px rgba(0, 0, 0, 0.3));\n",
              "      fill: #FFFFFF;\n",
              "    }\n",
              "  </style>\n",
              "\n",
              "    <script>\n",
              "      const buttonEl =\n",
              "        document.querySelector('#df-e8a49223-3382-4460-bc01-12e9b81e518c button.colab-df-convert');\n",
              "      buttonEl.style.display =\n",
              "        google.colab.kernel.accessAllowed ? 'block' : 'none';\n",
              "\n",
              "      async function convertToInteractive(key) {\n",
              "        const element = document.querySelector('#df-e8a49223-3382-4460-bc01-12e9b81e518c');\n",
              "        const dataTable =\n",
              "          await google.colab.kernel.invokeFunction('convertToInteractive',\n",
              "                                                    [key], {});\n",
              "        if (!dataTable) return;\n",
              "\n",
              "        const docLinkHtml = 'Like what you see? Visit the ' +\n",
              "          '<a target=\"_blank\" href=https://colab.research.google.com/notebooks/data_table.ipynb>data table notebook</a>'\n",
              "          + ' to learn more about interactive tables.';\n",
              "        element.innerHTML = '';\n",
              "        dataTable['output_type'] = 'display_data';\n",
              "        await google.colab.output.renderOutput(dataTable, element);\n",
              "        const docLink = document.createElement('div');\n",
              "        docLink.innerHTML = docLinkHtml;\n",
              "        element.appendChild(docLink);\n",
              "      }\n",
              "    </script>\n",
              "  </div>\n",
              "\n",
              "\n",
              "<div id=\"df-9a04c553-6546-436e-a14e-252531bb0a1f\">\n",
              "  <button class=\"colab-df-quickchart\" onclick=\"quickchart('df-9a04c553-6546-436e-a14e-252531bb0a1f')\"\n",
              "            title=\"Suggest charts.\"\n",
              "            style=\"display:none;\">\n",
              "\n",
              "<svg xmlns=\"http://www.w3.org/2000/svg\" height=\"24px\"viewBox=\"0 0 24 24\"\n",
              "     width=\"24px\">\n",
              "    <g>\n",
              "        <path d=\"M19 3H5c-1.1 0-2 .9-2 2v14c0 1.1.9 2 2 2h14c1.1 0 2-.9 2-2V5c0-1.1-.9-2-2-2zM9 17H7v-7h2v7zm4 0h-2V7h2v10zm4 0h-2v-4h2v4z\"/>\n",
              "    </g>\n",
              "</svg>\n",
              "  </button>\n",
              "\n",
              "<style>\n",
              "  .colab-df-quickchart {\n",
              "      --bg-color: #E8F0FE;\n",
              "      --fill-color: #1967D2;\n",
              "      --hover-bg-color: #E2EBFA;\n",
              "      --hover-fill-color: #174EA6;\n",
              "      --disabled-fill-color: #AAA;\n",
              "      --disabled-bg-color: #DDD;\n",
              "  }\n",
              "\n",
              "  [theme=dark] .colab-df-quickchart {\n",
              "      --bg-color: #3B4455;\n",
              "      --fill-color: #D2E3FC;\n",
              "      --hover-bg-color: #434B5C;\n",
              "      --hover-fill-color: #FFFFFF;\n",
              "      --disabled-bg-color: #3B4455;\n",
              "      --disabled-fill-color: #666;\n",
              "  }\n",
              "\n",
              "  .colab-df-quickchart {\n",
              "    background-color: var(--bg-color);\n",
              "    border: none;\n",
              "    border-radius: 50%;\n",
              "    cursor: pointer;\n",
              "    display: none;\n",
              "    fill: var(--fill-color);\n",
              "    height: 32px;\n",
              "    padding: 0;\n",
              "    width: 32px;\n",
              "  }\n",
              "\n",
              "  .colab-df-quickchart:hover {\n",
              "    background-color: var(--hover-bg-color);\n",
              "    box-shadow: 0 1px 2px rgba(60, 64, 67, 0.3), 0 1px 3px 1px rgba(60, 64, 67, 0.15);\n",
              "    fill: var(--button-hover-fill-color);\n",
              "  }\n",
              "\n",
              "  .colab-df-quickchart-complete:disabled,\n",
              "  .colab-df-quickchart-complete:disabled:hover {\n",
              "    background-color: var(--disabled-bg-color);\n",
              "    fill: var(--disabled-fill-color);\n",
              "    box-shadow: none;\n",
              "  }\n",
              "\n",
              "  .colab-df-spinner {\n",
              "    border: 2px solid var(--fill-color);\n",
              "    border-color: transparent;\n",
              "    border-bottom-color: var(--fill-color);\n",
              "    animation:\n",
              "      spin 1s steps(1) infinite;\n",
              "  }\n",
              "\n",
              "  @keyframes spin {\n",
              "    0% {\n",
              "      border-color: transparent;\n",
              "      border-bottom-color: var(--fill-color);\n",
              "      border-left-color: var(--fill-color);\n",
              "    }\n",
              "    20% {\n",
              "      border-color: transparent;\n",
              "      border-left-color: var(--fill-color);\n",
              "      border-top-color: var(--fill-color);\n",
              "    }\n",
              "    30% {\n",
              "      border-color: transparent;\n",
              "      border-left-color: var(--fill-color);\n",
              "      border-top-color: var(--fill-color);\n",
              "      border-right-color: var(--fill-color);\n",
              "    }\n",
              "    40% {\n",
              "      border-color: transparent;\n",
              "      border-right-color: var(--fill-color);\n",
              "      border-top-color: var(--fill-color);\n",
              "    }\n",
              "    60% {\n",
              "      border-color: transparent;\n",
              "      border-right-color: var(--fill-color);\n",
              "    }\n",
              "    80% {\n",
              "      border-color: transparent;\n",
              "      border-right-color: var(--fill-color);\n",
              "      border-bottom-color: var(--fill-color);\n",
              "    }\n",
              "    90% {\n",
              "      border-color: transparent;\n",
              "      border-bottom-color: var(--fill-color);\n",
              "    }\n",
              "  }\n",
              "</style>\n",
              "\n",
              "  <script>\n",
              "    async function quickchart(key) {\n",
              "      const quickchartButtonEl =\n",
              "        document.querySelector('#' + key + ' button');\n",
              "      quickchartButtonEl.disabled = true;  // To prevent multiple clicks.\n",
              "      quickchartButtonEl.classList.add('colab-df-spinner');\n",
              "      try {\n",
              "        const charts = await google.colab.kernel.invokeFunction(\n",
              "            'suggestCharts', [key], {});\n",
              "      } catch (error) {\n",
              "        console.error('Error during call to suggestCharts:', error);\n",
              "      }\n",
              "      quickchartButtonEl.classList.remove('colab-df-spinner');\n",
              "      quickchartButtonEl.classList.add('colab-df-quickchart-complete');\n",
              "    }\n",
              "    (() => {\n",
              "      let quickchartButtonEl =\n",
              "        document.querySelector('#df-9a04c553-6546-436e-a14e-252531bb0a1f button');\n",
              "      quickchartButtonEl.style.display =\n",
              "        google.colab.kernel.accessAllowed ? 'block' : 'none';\n",
              "    })();\n",
              "  </script>\n",
              "</div>\n",
              "    </div>\n",
              "  </div>\n"
            ]
          },
          "metadata": {},
          "execution_count": 22
        }
      ]
    },
    {
      "cell_type": "code",
      "source": [
        "dfTrain"
      ],
      "metadata": {
        "colab": {
          "base_uri": "https://localhost:8080/",
          "height": 444
        },
        "id": "gV9hHyzzET3z",
        "outputId": "48578689-8c6f-4932-f741-08c7eee9d838"
      },
      "execution_count": null,
      "outputs": [
        {
          "output_type": "execute_result",
          "data": {
            "text/plain": [
              "          make      model  year                engine_fuel_type  engine_hp  \\\n",
              "7150   lincoln  navigator  2015                regular_unleaded      365.0   \n",
              "7151   lincoln  navigator  2016                regular_unleaded      380.0   \n",
              "7152   lincoln  navigator  2016                regular_unleaded      380.0   \n",
              "7153   lincoln  navigator  2016                regular_unleaded      380.0   \n",
              "7154   lincoln  navigator  2016                regular_unleaded      380.0   \n",
              "...        ...        ...   ...                             ...        ...   \n",
              "11909    acura        zdx  2012     premium_unleaded_(required)      300.0   \n",
              "11910    acura        zdx  2012     premium_unleaded_(required)      300.0   \n",
              "11911    acura        zdx  2012     premium_unleaded_(required)      300.0   \n",
              "11912    acura        zdx  2013  premium_unleaded_(recommended)      300.0   \n",
              "11913  lincoln     zephyr  2006                regular_unleaded      221.0   \n",
              "\n",
              "       engine_cylinders transmission_type      driven_wheels  number_of_doors  \\\n",
              "7150                6.0         automatic   rear_wheel_drive              4.0   \n",
              "7151                6.0         automatic   rear_wheel_drive              4.0   \n",
              "7152                6.0         automatic   four_wheel_drive              4.0   \n",
              "7153                6.0         automatic   four_wheel_drive              4.0   \n",
              "7154                6.0         automatic   rear_wheel_drive              4.0   \n",
              "...                 ...               ...                ...              ...   \n",
              "11909               6.0         automatic    all_wheel_drive              4.0   \n",
              "11910               6.0         automatic    all_wheel_drive              4.0   \n",
              "11911               6.0         automatic    all_wheel_drive              4.0   \n",
              "11912               6.0         automatic    all_wheel_drive              4.0   \n",
              "11913               6.0         automatic  front_wheel_drive              4.0   \n",
              "\n",
              "                  market_category vehicle_size  vehicle_style  highway_mpg  \\\n",
              "7150                       luxury        large        4dr_suv           20   \n",
              "7151                       luxury        large        4dr_suv           22   \n",
              "7152                       luxury        large        4dr_suv           19   \n",
              "7153                       luxury        large        4dr_suv           19   \n",
              "7154                       luxury        large        4dr_suv           20   \n",
              "...                           ...          ...            ...          ...   \n",
              "11909  crossover,hatchback,luxury      midsize  4dr_hatchback           23   \n",
              "11910  crossover,hatchback,luxury      midsize  4dr_hatchback           23   \n",
              "11911  crossover,hatchback,luxury      midsize  4dr_hatchback           23   \n",
              "11912  crossover,hatchback,luxury      midsize  4dr_hatchback           23   \n",
              "11913                      luxury      midsize          sedan           26   \n",
              "\n",
              "       city_mpg  popularity   msrp  \n",
              "7150         15          61  63645  \n",
              "7151         16          61  63195  \n",
              "7152         15          61  76650  \n",
              "7153         15          61  69135  \n",
              "7154         15          61  65560  \n",
              "...         ...         ...    ...  \n",
              "11909        16         204  46120  \n",
              "11910        16         204  56670  \n",
              "11911        16         204  50620  \n",
              "11912        16         204  50920  \n",
              "11913        17          61  28995  \n",
              "\n",
              "[4764 rows x 16 columns]"
            ],
            "text/html": [
              "\n",
              "  <div id=\"df-f4b60936-f3ed-4cf9-88fe-edde82bea199\" class=\"colab-df-container\">\n",
              "    <div>\n",
              "<style scoped>\n",
              "    .dataframe tbody tr th:only-of-type {\n",
              "        vertical-align: middle;\n",
              "    }\n",
              "\n",
              "    .dataframe tbody tr th {\n",
              "        vertical-align: top;\n",
              "    }\n",
              "\n",
              "    .dataframe thead th {\n",
              "        text-align: right;\n",
              "    }\n",
              "</style>\n",
              "<table border=\"1\" class=\"dataframe\">\n",
              "  <thead>\n",
              "    <tr style=\"text-align: right;\">\n",
              "      <th></th>\n",
              "      <th>make</th>\n",
              "      <th>model</th>\n",
              "      <th>year</th>\n",
              "      <th>engine_fuel_type</th>\n",
              "      <th>engine_hp</th>\n",
              "      <th>engine_cylinders</th>\n",
              "      <th>transmission_type</th>\n",
              "      <th>driven_wheels</th>\n",
              "      <th>number_of_doors</th>\n",
              "      <th>market_category</th>\n",
              "      <th>vehicle_size</th>\n",
              "      <th>vehicle_style</th>\n",
              "      <th>highway_mpg</th>\n",
              "      <th>city_mpg</th>\n",
              "      <th>popularity</th>\n",
              "      <th>msrp</th>\n",
              "    </tr>\n",
              "  </thead>\n",
              "  <tbody>\n",
              "    <tr>\n",
              "      <th>7150</th>\n",
              "      <td>lincoln</td>\n",
              "      <td>navigator</td>\n",
              "      <td>2015</td>\n",
              "      <td>regular_unleaded</td>\n",
              "      <td>365.0</td>\n",
              "      <td>6.0</td>\n",
              "      <td>automatic</td>\n",
              "      <td>rear_wheel_drive</td>\n",
              "      <td>4.0</td>\n",
              "      <td>luxury</td>\n",
              "      <td>large</td>\n",
              "      <td>4dr_suv</td>\n",
              "      <td>20</td>\n",
              "      <td>15</td>\n",
              "      <td>61</td>\n",
              "      <td>63645</td>\n",
              "    </tr>\n",
              "    <tr>\n",
              "      <th>7151</th>\n",
              "      <td>lincoln</td>\n",
              "      <td>navigator</td>\n",
              "      <td>2016</td>\n",
              "      <td>regular_unleaded</td>\n",
              "      <td>380.0</td>\n",
              "      <td>6.0</td>\n",
              "      <td>automatic</td>\n",
              "      <td>rear_wheel_drive</td>\n",
              "      <td>4.0</td>\n",
              "      <td>luxury</td>\n",
              "      <td>large</td>\n",
              "      <td>4dr_suv</td>\n",
              "      <td>22</td>\n",
              "      <td>16</td>\n",
              "      <td>61</td>\n",
              "      <td>63195</td>\n",
              "    </tr>\n",
              "    <tr>\n",
              "      <th>7152</th>\n",
              "      <td>lincoln</td>\n",
              "      <td>navigator</td>\n",
              "      <td>2016</td>\n",
              "      <td>regular_unleaded</td>\n",
              "      <td>380.0</td>\n",
              "      <td>6.0</td>\n",
              "      <td>automatic</td>\n",
              "      <td>four_wheel_drive</td>\n",
              "      <td>4.0</td>\n",
              "      <td>luxury</td>\n",
              "      <td>large</td>\n",
              "      <td>4dr_suv</td>\n",
              "      <td>19</td>\n",
              "      <td>15</td>\n",
              "      <td>61</td>\n",
              "      <td>76650</td>\n",
              "    </tr>\n",
              "    <tr>\n",
              "      <th>7153</th>\n",
              "      <td>lincoln</td>\n",
              "      <td>navigator</td>\n",
              "      <td>2016</td>\n",
              "      <td>regular_unleaded</td>\n",
              "      <td>380.0</td>\n",
              "      <td>6.0</td>\n",
              "      <td>automatic</td>\n",
              "      <td>four_wheel_drive</td>\n",
              "      <td>4.0</td>\n",
              "      <td>luxury</td>\n",
              "      <td>large</td>\n",
              "      <td>4dr_suv</td>\n",
              "      <td>19</td>\n",
              "      <td>15</td>\n",
              "      <td>61</td>\n",
              "      <td>69135</td>\n",
              "    </tr>\n",
              "    <tr>\n",
              "      <th>7154</th>\n",
              "      <td>lincoln</td>\n",
              "      <td>navigator</td>\n",
              "      <td>2016</td>\n",
              "      <td>regular_unleaded</td>\n",
              "      <td>380.0</td>\n",
              "      <td>6.0</td>\n",
              "      <td>automatic</td>\n",
              "      <td>rear_wheel_drive</td>\n",
              "      <td>4.0</td>\n",
              "      <td>luxury</td>\n",
              "      <td>large</td>\n",
              "      <td>4dr_suv</td>\n",
              "      <td>20</td>\n",
              "      <td>15</td>\n",
              "      <td>61</td>\n",
              "      <td>65560</td>\n",
              "    </tr>\n",
              "    <tr>\n",
              "      <th>...</th>\n",
              "      <td>...</td>\n",
              "      <td>...</td>\n",
              "      <td>...</td>\n",
              "      <td>...</td>\n",
              "      <td>...</td>\n",
              "      <td>...</td>\n",
              "      <td>...</td>\n",
              "      <td>...</td>\n",
              "      <td>...</td>\n",
              "      <td>...</td>\n",
              "      <td>...</td>\n",
              "      <td>...</td>\n",
              "      <td>...</td>\n",
              "      <td>...</td>\n",
              "      <td>...</td>\n",
              "      <td>...</td>\n",
              "    </tr>\n",
              "    <tr>\n",
              "      <th>11909</th>\n",
              "      <td>acura</td>\n",
              "      <td>zdx</td>\n",
              "      <td>2012</td>\n",
              "      <td>premium_unleaded_(required)</td>\n",
              "      <td>300.0</td>\n",
              "      <td>6.0</td>\n",
              "      <td>automatic</td>\n",
              "      <td>all_wheel_drive</td>\n",
              "      <td>4.0</td>\n",
              "      <td>crossover,hatchback,luxury</td>\n",
              "      <td>midsize</td>\n",
              "      <td>4dr_hatchback</td>\n",
              "      <td>23</td>\n",
              "      <td>16</td>\n",
              "      <td>204</td>\n",
              "      <td>46120</td>\n",
              "    </tr>\n",
              "    <tr>\n",
              "      <th>11910</th>\n",
              "      <td>acura</td>\n",
              "      <td>zdx</td>\n",
              "      <td>2012</td>\n",
              "      <td>premium_unleaded_(required)</td>\n",
              "      <td>300.0</td>\n",
              "      <td>6.0</td>\n",
              "      <td>automatic</td>\n",
              "      <td>all_wheel_drive</td>\n",
              "      <td>4.0</td>\n",
              "      <td>crossover,hatchback,luxury</td>\n",
              "      <td>midsize</td>\n",
              "      <td>4dr_hatchback</td>\n",
              "      <td>23</td>\n",
              "      <td>16</td>\n",
              "      <td>204</td>\n",
              "      <td>56670</td>\n",
              "    </tr>\n",
              "    <tr>\n",
              "      <th>11911</th>\n",
              "      <td>acura</td>\n",
              "      <td>zdx</td>\n",
              "      <td>2012</td>\n",
              "      <td>premium_unleaded_(required)</td>\n",
              "      <td>300.0</td>\n",
              "      <td>6.0</td>\n",
              "      <td>automatic</td>\n",
              "      <td>all_wheel_drive</td>\n",
              "      <td>4.0</td>\n",
              "      <td>crossover,hatchback,luxury</td>\n",
              "      <td>midsize</td>\n",
              "      <td>4dr_hatchback</td>\n",
              "      <td>23</td>\n",
              "      <td>16</td>\n",
              "      <td>204</td>\n",
              "      <td>50620</td>\n",
              "    </tr>\n",
              "    <tr>\n",
              "      <th>11912</th>\n",
              "      <td>acura</td>\n",
              "      <td>zdx</td>\n",
              "      <td>2013</td>\n",
              "      <td>premium_unleaded_(recommended)</td>\n",
              "      <td>300.0</td>\n",
              "      <td>6.0</td>\n",
              "      <td>automatic</td>\n",
              "      <td>all_wheel_drive</td>\n",
              "      <td>4.0</td>\n",
              "      <td>crossover,hatchback,luxury</td>\n",
              "      <td>midsize</td>\n",
              "      <td>4dr_hatchback</td>\n",
              "      <td>23</td>\n",
              "      <td>16</td>\n",
              "      <td>204</td>\n",
              "      <td>50920</td>\n",
              "    </tr>\n",
              "    <tr>\n",
              "      <th>11913</th>\n",
              "      <td>lincoln</td>\n",
              "      <td>zephyr</td>\n",
              "      <td>2006</td>\n",
              "      <td>regular_unleaded</td>\n",
              "      <td>221.0</td>\n",
              "      <td>6.0</td>\n",
              "      <td>automatic</td>\n",
              "      <td>front_wheel_drive</td>\n",
              "      <td>4.0</td>\n",
              "      <td>luxury</td>\n",
              "      <td>midsize</td>\n",
              "      <td>sedan</td>\n",
              "      <td>26</td>\n",
              "      <td>17</td>\n",
              "      <td>61</td>\n",
              "      <td>28995</td>\n",
              "    </tr>\n",
              "  </tbody>\n",
              "</table>\n",
              "<p>4764 rows × 16 columns</p>\n",
              "</div>\n",
              "    <div class=\"colab-df-buttons\">\n",
              "\n",
              "  <div class=\"colab-df-container\">\n",
              "    <button class=\"colab-df-convert\" onclick=\"convertToInteractive('df-f4b60936-f3ed-4cf9-88fe-edde82bea199')\"\n",
              "            title=\"Convert this dataframe to an interactive table.\"\n",
              "            style=\"display:none;\">\n",
              "\n",
              "  <svg xmlns=\"http://www.w3.org/2000/svg\" height=\"24px\" viewBox=\"0 -960 960 960\">\n",
              "    <path d=\"M120-120v-720h720v720H120Zm60-500h600v-160H180v160Zm220 220h160v-160H400v160Zm0 220h160v-160H400v160ZM180-400h160v-160H180v160Zm440 0h160v-160H620v160ZM180-180h160v-160H180v160Zm440 0h160v-160H620v160Z\"/>\n",
              "  </svg>\n",
              "    </button>\n",
              "\n",
              "  <style>\n",
              "    .colab-df-container {\n",
              "      display:flex;\n",
              "      gap: 12px;\n",
              "    }\n",
              "\n",
              "    .colab-df-convert {\n",
              "      background-color: #E8F0FE;\n",
              "      border: none;\n",
              "      border-radius: 50%;\n",
              "      cursor: pointer;\n",
              "      display: none;\n",
              "      fill: #1967D2;\n",
              "      height: 32px;\n",
              "      padding: 0 0 0 0;\n",
              "      width: 32px;\n",
              "    }\n",
              "\n",
              "    .colab-df-convert:hover {\n",
              "      background-color: #E2EBFA;\n",
              "      box-shadow: 0px 1px 2px rgba(60, 64, 67, 0.3), 0px 1px 3px 1px rgba(60, 64, 67, 0.15);\n",
              "      fill: #174EA6;\n",
              "    }\n",
              "\n",
              "    .colab-df-buttons div {\n",
              "      margin-bottom: 4px;\n",
              "    }\n",
              "\n",
              "    [theme=dark] .colab-df-convert {\n",
              "      background-color: #3B4455;\n",
              "      fill: #D2E3FC;\n",
              "    }\n",
              "\n",
              "    [theme=dark] .colab-df-convert:hover {\n",
              "      background-color: #434B5C;\n",
              "      box-shadow: 0px 1px 3px 1px rgba(0, 0, 0, 0.15);\n",
              "      filter: drop-shadow(0px 1px 2px rgba(0, 0, 0, 0.3));\n",
              "      fill: #FFFFFF;\n",
              "    }\n",
              "  </style>\n",
              "\n",
              "    <script>\n",
              "      const buttonEl =\n",
              "        document.querySelector('#df-f4b60936-f3ed-4cf9-88fe-edde82bea199 button.colab-df-convert');\n",
              "      buttonEl.style.display =\n",
              "        google.colab.kernel.accessAllowed ? 'block' : 'none';\n",
              "\n",
              "      async function convertToInteractive(key) {\n",
              "        const element = document.querySelector('#df-f4b60936-f3ed-4cf9-88fe-edde82bea199');\n",
              "        const dataTable =\n",
              "          await google.colab.kernel.invokeFunction('convertToInteractive',\n",
              "                                                    [key], {});\n",
              "        if (!dataTable) return;\n",
              "\n",
              "        const docLinkHtml = 'Like what you see? Visit the ' +\n",
              "          '<a target=\"_blank\" href=https://colab.research.google.com/notebooks/data_table.ipynb>data table notebook</a>'\n",
              "          + ' to learn more about interactive tables.';\n",
              "        element.innerHTML = '';\n",
              "        dataTable['output_type'] = 'display_data';\n",
              "        await google.colab.output.renderOutput(dataTable, element);\n",
              "        const docLink = document.createElement('div');\n",
              "        docLink.innerHTML = docLinkHtml;\n",
              "        element.appendChild(docLink);\n",
              "      }\n",
              "    </script>\n",
              "  </div>\n",
              "\n",
              "\n",
              "<div id=\"df-300b7054-899b-4d58-a6db-7d6ef74b4eef\">\n",
              "  <button class=\"colab-df-quickchart\" onclick=\"quickchart('df-300b7054-899b-4d58-a6db-7d6ef74b4eef')\"\n",
              "            title=\"Suggest charts.\"\n",
              "            style=\"display:none;\">\n",
              "\n",
              "<svg xmlns=\"http://www.w3.org/2000/svg\" height=\"24px\"viewBox=\"0 0 24 24\"\n",
              "     width=\"24px\">\n",
              "    <g>\n",
              "        <path d=\"M19 3H5c-1.1 0-2 .9-2 2v14c0 1.1.9 2 2 2h14c1.1 0 2-.9 2-2V5c0-1.1-.9-2-2-2zM9 17H7v-7h2v7zm4 0h-2V7h2v10zm4 0h-2v-4h2v4z\"/>\n",
              "    </g>\n",
              "</svg>\n",
              "  </button>\n",
              "\n",
              "<style>\n",
              "  .colab-df-quickchart {\n",
              "      --bg-color: #E8F0FE;\n",
              "      --fill-color: #1967D2;\n",
              "      --hover-bg-color: #E2EBFA;\n",
              "      --hover-fill-color: #174EA6;\n",
              "      --disabled-fill-color: #AAA;\n",
              "      --disabled-bg-color: #DDD;\n",
              "  }\n",
              "\n",
              "  [theme=dark] .colab-df-quickchart {\n",
              "      --bg-color: #3B4455;\n",
              "      --fill-color: #D2E3FC;\n",
              "      --hover-bg-color: #434B5C;\n",
              "      --hover-fill-color: #FFFFFF;\n",
              "      --disabled-bg-color: #3B4455;\n",
              "      --disabled-fill-color: #666;\n",
              "  }\n",
              "\n",
              "  .colab-df-quickchart {\n",
              "    background-color: var(--bg-color);\n",
              "    border: none;\n",
              "    border-radius: 50%;\n",
              "    cursor: pointer;\n",
              "    display: none;\n",
              "    fill: var(--fill-color);\n",
              "    height: 32px;\n",
              "    padding: 0;\n",
              "    width: 32px;\n",
              "  }\n",
              "\n",
              "  .colab-df-quickchart:hover {\n",
              "    background-color: var(--hover-bg-color);\n",
              "    box-shadow: 0 1px 2px rgba(60, 64, 67, 0.3), 0 1px 3px 1px rgba(60, 64, 67, 0.15);\n",
              "    fill: var(--button-hover-fill-color);\n",
              "  }\n",
              "\n",
              "  .colab-df-quickchart-complete:disabled,\n",
              "  .colab-df-quickchart-complete:disabled:hover {\n",
              "    background-color: var(--disabled-bg-color);\n",
              "    fill: var(--disabled-fill-color);\n",
              "    box-shadow: none;\n",
              "  }\n",
              "\n",
              "  .colab-df-spinner {\n",
              "    border: 2px solid var(--fill-color);\n",
              "    border-color: transparent;\n",
              "    border-bottom-color: var(--fill-color);\n",
              "    animation:\n",
              "      spin 1s steps(1) infinite;\n",
              "  }\n",
              "\n",
              "  @keyframes spin {\n",
              "    0% {\n",
              "      border-color: transparent;\n",
              "      border-bottom-color: var(--fill-color);\n",
              "      border-left-color: var(--fill-color);\n",
              "    }\n",
              "    20% {\n",
              "      border-color: transparent;\n",
              "      border-left-color: var(--fill-color);\n",
              "      border-top-color: var(--fill-color);\n",
              "    }\n",
              "    30% {\n",
              "      border-color: transparent;\n",
              "      border-left-color: var(--fill-color);\n",
              "      border-top-color: var(--fill-color);\n",
              "      border-right-color: var(--fill-color);\n",
              "    }\n",
              "    40% {\n",
              "      border-color: transparent;\n",
              "      border-right-color: var(--fill-color);\n",
              "      border-top-color: var(--fill-color);\n",
              "    }\n",
              "    60% {\n",
              "      border-color: transparent;\n",
              "      border-right-color: var(--fill-color);\n",
              "    }\n",
              "    80% {\n",
              "      border-color: transparent;\n",
              "      border-right-color: var(--fill-color);\n",
              "      border-bottom-color: var(--fill-color);\n",
              "    }\n",
              "    90% {\n",
              "      border-color: transparent;\n",
              "      border-bottom-color: var(--fill-color);\n",
              "    }\n",
              "  }\n",
              "</style>\n",
              "\n",
              "  <script>\n",
              "    async function quickchart(key) {\n",
              "      const quickchartButtonEl =\n",
              "        document.querySelector('#' + key + ' button');\n",
              "      quickchartButtonEl.disabled = true;  // To prevent multiple clicks.\n",
              "      quickchartButtonEl.classList.add('colab-df-spinner');\n",
              "      try {\n",
              "        const charts = await google.colab.kernel.invokeFunction(\n",
              "            'suggestCharts', [key], {});\n",
              "      } catch (error) {\n",
              "        console.error('Error during call to suggestCharts:', error);\n",
              "      }\n",
              "      quickchartButtonEl.classList.remove('colab-df-spinner');\n",
              "      quickchartButtonEl.classList.add('colab-df-quickchart-complete');\n",
              "    }\n",
              "    (() => {\n",
              "      let quickchartButtonEl =\n",
              "        document.querySelector('#df-300b7054-899b-4d58-a6db-7d6ef74b4eef button');\n",
              "      quickchartButtonEl.style.display =\n",
              "        google.colab.kernel.accessAllowed ? 'block' : 'none';\n",
              "    })();\n",
              "  </script>\n",
              "</div>\n",
              "    </div>\n",
              "  </div>\n"
            ]
          },
          "metadata": {},
          "execution_count": 23
        }
      ]
    },
    {
      "cell_type": "markdown",
      "source": [
        "### Shuffle Dataset"
      ],
      "metadata": {
        "id": "eRJUwn5GKQOc"
      }
    },
    {
      "cell_type": "code",
      "source": [
        "idx = np.arange(n)"
      ],
      "metadata": {
        "id": "KuSD9GItGiDo"
      },
      "execution_count": null,
      "outputs": []
    },
    {
      "cell_type": "code",
      "source": [
        "np.random.seed(2)\n",
        "np.random.shuffle(idx)"
      ],
      "metadata": {
        "id": "b3DJUvbMGqtD"
      },
      "execution_count": null,
      "outputs": []
    },
    {
      "cell_type": "code",
      "source": [
        "dfTrain = df.iloc[idx[:nTrain]]\n",
        "dfVal = df.iloc[idx[nTrain:nTrain+nVal]]\n",
        "dfTest = df.iloc[idx[nVal+nTrain:]]"
      ],
      "metadata": {
        "id": "Wr3XA7sLG_mB"
      },
      "execution_count": null,
      "outputs": []
    },
    {
      "cell_type": "code",
      "source": [
        "dfTrain=dfTrain.reset_index(drop=True)\n",
        "dfVal=dfVal.reset_index(drop=True)\n",
        "dfTest=dfTest.reset_index(drop=True)"
      ],
      "metadata": {
        "id": "7StIc9GAHZXZ"
      },
      "execution_count": null,
      "outputs": []
    },
    {
      "cell_type": "code",
      "source": [
        "yTrain = np.log1p(dfTrain.msrp.values)\n",
        "yVal = np.log1p(dfVal.msrp.values)\n",
        "yTest = np.log1p(dfTest.msrp.values)"
      ],
      "metadata": {
        "id": "xM_Hjb-NJv8g"
      },
      "execution_count": null,
      "outputs": []
    },
    {
      "cell_type": "code",
      "source": [
        "del dfTrain['msrp']\n",
        "del dfVal['msrp']\n",
        "del dfTest['msrp']"
      ],
      "metadata": {
        "id": "pwVZNGBbJ81R"
      },
      "execution_count": null,
      "outputs": []
    },
    {
      "cell_type": "markdown",
      "source": [
        "## Linear Regression"
      ],
      "metadata": {
        "id": "-pNw1OldKVLk"
      }
    },
    {
      "cell_type": "code",
      "source": [
        "xi = [453,11,86]\n",
        "w0 = 7.17\n",
        "w = [0.01,0.04,0.07]"
      ],
      "metadata": {
        "id": "Ikei3vsQL8aD"
      },
      "execution_count": null,
      "outputs": []
    },
    {
      "cell_type": "code",
      "source": [
        "def linearRegression(xi):\n",
        "  n = len(xi)\n",
        "  pred = w0\n",
        "\n",
        "  for j in range(n):\n",
        "    pred = pred + w[j] *xi[j]\n",
        "\n",
        "  return pred"
      ],
      "metadata": {
        "id": "daubsCKqmzXk"
      },
      "execution_count": null,
      "outputs": []
    },
    {
      "cell_type": "code",
      "source": [
        "linearRegression(xi)"
      ],
      "metadata": {
        "colab": {
          "base_uri": "https://localhost:8080/"
        },
        "id": "ztdQCnPYnAfP",
        "outputId": "23c78e04-2a51-48db-a852-bae517d0c8fa"
      },
      "execution_count": null,
      "outputs": [
        {
          "output_type": "execute_result",
          "data": {
            "text/plain": [
              "18.16"
            ]
          },
          "metadata": {},
          "execution_count": 32
        }
      ]
    },
    {
      "cell_type": "code",
      "source": [
        "# converts from logarithmic to actual value\n",
        "np.exp(12.312)"
      ],
      "metadata": {
        "colab": {
          "base_uri": "https://localhost:8080/"
        },
        "id": "GXpgCcGooeyy",
        "outputId": "f52c9ede-8298-4b25-b957-639e15d75374"
      },
      "execution_count": null,
      "outputs": [
        {
          "output_type": "execute_result",
          "data": {
            "text/plain": [
              "222348.2221101062"
            ]
          },
          "metadata": {},
          "execution_count": 33
        }
      ]
    },
    {
      "cell_type": "markdown",
      "source": [
        "Vector Form"
      ],
      "metadata": {
        "id": "8deqiUeNqAHw"
      }
    },
    {
      "cell_type": "code",
      "source": [
        "def dot(xi,w):\n",
        "  n = len(xi)\n",
        "  res = 0.0\n",
        "\n",
        "  for j in range(n):\n",
        "    res = res + xi[j] * w[j]\n",
        "  return res"
      ],
      "metadata": {
        "id": "bmHklP0zqC0O"
      },
      "execution_count": null,
      "outputs": []
    },
    {
      "cell_type": "code",
      "source": [
        "wNew = [w0] + w\n",
        "\n",
        "def linearRegression(xi):\n",
        "  xi = [1] + xi\n",
        "  return dot(xi,wNew)\n",
        "\n",
        "linearRegression(xi)"
      ],
      "metadata": {
        "colab": {
          "base_uri": "https://localhost:8080/"
        },
        "id": "DeQiUhGyv7Wq",
        "outputId": "32226cca-a45a-49dd-851b-ba4ac5e07b54"
      },
      "execution_count": null,
      "outputs": [
        {
          "output_type": "execute_result",
          "data": {
            "text/plain": [
              "18.16"
            ]
          },
          "metadata": {},
          "execution_count": 35
        }
      ]
    },
    {
      "cell_type": "code",
      "source": [
        "xi = [453,11,86]\n",
        "w0 = 7.17\n",
        "w = [0.01,0.04,0.07]\n",
        "wNew = [w0] + w"
      ],
      "metadata": {
        "id": "j6sJaFZ3VM3t"
      },
      "execution_count": null,
      "outputs": []
    },
    {
      "cell_type": "code",
      "source": [
        "x1 = [1,148,24,1385]\n",
        "x2 = [1,132,24,1385]\n",
        "x10 = [1,453,11,86]\n",
        "\n",
        "X = [x1,x2,x10]\n",
        "X = np.array(X)\n",
        "X"
      ],
      "metadata": {
        "colab": {
          "base_uri": "https://localhost:8080/"
        },
        "id": "td0hSHMoVT59",
        "outputId": "a8f6ce3e-2d5f-47b6-a494-faad60187104"
      },
      "execution_count": null,
      "outputs": [
        {
          "output_type": "execute_result",
          "data": {
            "text/plain": [
              "array([[   1,  148,   24, 1385],\n",
              "       [   1,  132,   24, 1385],\n",
              "       [   1,  453,   11,   86]])"
            ]
          },
          "metadata": {},
          "execution_count": 37
        }
      ]
    },
    {
      "cell_type": "code",
      "source": [
        "X.dot(wNew)"
      ],
      "metadata": {
        "colab": {
          "base_uri": "https://localhost:8080/"
        },
        "id": "ZXVvRlpoVeOF",
        "outputId": "f938d3e7-290a-492d-9092-1248c7ec1fca"
      },
      "execution_count": null,
      "outputs": [
        {
          "output_type": "execute_result",
          "data": {
            "text/plain": [
              "array([106.56, 106.4 ,  18.16])"
            ]
          },
          "metadata": {},
          "execution_count": 38
        }
      ]
    },
    {
      "cell_type": "markdown",
      "source": [
        "## Training a Linear Regression Model"
      ],
      "metadata": {
        "id": "FK13kk0Aa9eA"
      }
    },
    {
      "cell_type": "code",
      "source": [
        "y = [10000,20000,15000,25000,10000,20000,15000,25000,12000]"
      ],
      "metadata": {
        "id": "PNQu8kwQgFTu"
      },
      "execution_count": null,
      "outputs": []
    },
    {
      "cell_type": "code",
      "source": [
        "X = [[148,24,1385],\n",
        "      [132,24,2031],\n",
        "     [453,11,86],\n",
        "     [158,24,185],\n",
        "      [172,25,201],\n",
        "     [413,11,86],\n",
        "     [38,54,185],\n",
        "      [142,25,431],\n",
        "     [453,31,86],\n",
        "]\n",
        "\n",
        "\n",
        "X = np.array(X)\n",
        "X"
      ],
      "metadata": {
        "colab": {
          "base_uri": "https://localhost:8080/"
        },
        "id": "BLZySKDIemgo",
        "outputId": "91f27a8c-d094-4c5d-feee-ef3ff2181c29"
      },
      "execution_count": null,
      "outputs": [
        {
          "output_type": "execute_result",
          "data": {
            "text/plain": [
              "array([[ 148,   24, 1385],\n",
              "       [ 132,   24, 2031],\n",
              "       [ 453,   11,   86],\n",
              "       [ 158,   24,  185],\n",
              "       [ 172,   25,  201],\n",
              "       [ 413,   11,   86],\n",
              "       [  38,   54,  185],\n",
              "       [ 142,   25,  431],\n",
              "       [ 453,   31,   86]])"
            ]
          },
          "metadata": {},
          "execution_count": 40
        }
      ]
    },
    {
      "cell_type": "code",
      "source": [
        "ones = np.ones(X.shape[0])\n",
        "ones"
      ],
      "metadata": {
        "colab": {
          "base_uri": "https://localhost:8080/"
        },
        "id": "0rCtaxY0iCB7",
        "outputId": "bbbd4a52-46af-4c7d-8cc9-ec7fc1c13f9f"
      },
      "execution_count": null,
      "outputs": [
        {
          "output_type": "execute_result",
          "data": {
            "text/plain": [
              "array([1., 1., 1., 1., 1., 1., 1., 1., 1.])"
            ]
          },
          "metadata": {},
          "execution_count": 41
        }
      ]
    },
    {
      "cell_type": "code",
      "source": [
        "X = np.column_stack([ones, X])\n",
        "X"
      ],
      "metadata": {
        "colab": {
          "base_uri": "https://localhost:8080/"
        },
        "id": "X5I29czHjHTi",
        "outputId": "67f481bb-dbea-41ff-cd75-df1e6885d0ea"
      },
      "execution_count": null,
      "outputs": [
        {
          "output_type": "execute_result",
          "data": {
            "text/plain": [
              "array([[1.000e+00, 1.480e+02, 2.400e+01, 1.385e+03],\n",
              "       [1.000e+00, 1.320e+02, 2.400e+01, 2.031e+03],\n",
              "       [1.000e+00, 4.530e+02, 1.100e+01, 8.600e+01],\n",
              "       [1.000e+00, 1.580e+02, 2.400e+01, 1.850e+02],\n",
              "       [1.000e+00, 1.720e+02, 2.500e+01, 2.010e+02],\n",
              "       [1.000e+00, 4.130e+02, 1.100e+01, 8.600e+01],\n",
              "       [1.000e+00, 3.800e+01, 5.400e+01, 1.850e+02],\n",
              "       [1.000e+00, 1.420e+02, 2.500e+01, 4.310e+02],\n",
              "       [1.000e+00, 4.530e+02, 3.100e+01, 8.600e+01]])"
            ]
          },
          "metadata": {},
          "execution_count": 42
        }
      ]
    },
    {
      "cell_type": "code",
      "source": [
        "XTX = X.T.dot(X)\n",
        "XTX"
      ],
      "metadata": {
        "colab": {
          "base_uri": "https://localhost:8080/"
        },
        "id": "qlyAs0Gwfb05",
        "outputId": "e8bbe498-39b4-4598-e18f-021be65a7271"
      },
      "execution_count": null,
      "outputs": [
        {
          "output_type": "execute_result",
          "data": {
            "text/plain": [
              "array([[9.000000e+00, 2.109000e+03, 2.290000e+02, 4.676000e+03],\n",
              "       [2.109000e+03, 6.964710e+05, 4.398300e+04, 7.185400e+05],\n",
              "       [2.290000e+02, 4.398300e+04, 7.097000e+03, 1.167720e+05],\n",
              "       [4.676000e+03, 7.185400e+05, 1.167720e+05, 6.359986e+06]])"
            ]
          },
          "metadata": {},
          "execution_count": 43
        }
      ]
    },
    {
      "cell_type": "code",
      "source": [
        "XTXinv = np.linalg.inv(XTX)"
      ],
      "metadata": {
        "id": "I4mCOA1afulI"
      },
      "execution_count": null,
      "outputs": []
    },
    {
      "cell_type": "code",
      "source": [
        "wFull = XTXinv.dot(X.T).dot(y)\n",
        "wFull"
      ],
      "metadata": {
        "colab": {
          "base_uri": "https://localhost:8080/"
        },
        "id": "9pBQ5Jttf1UX",
        "outputId": "c43a7cb8-6a88-44de-acd8-16d656a36ed3"
      },
      "execution_count": null,
      "outputs": [
        {
          "output_type": "execute_result",
          "data": {
            "text/plain": [
              "array([ 3.03382352e+04, -2.32450842e+01, -2.64486135e+02, -2.44929629e+00])"
            ]
          },
          "metadata": {},
          "execution_count": 45
        }
      ]
    },
    {
      "cell_type": "code",
      "source": [
        "w0 = wFull[0]\n",
        "w = wFull[1:]"
      ],
      "metadata": {
        "id": "QB9UNQ4KlDBB"
      },
      "execution_count": null,
      "outputs": []
    },
    {
      "cell_type": "code",
      "source": [
        "w0,w"
      ],
      "metadata": {
        "colab": {
          "base_uri": "https://localhost:8080/"
        },
        "id": "UdbsV3nrlGlc",
        "outputId": "37630d3f-dae2-4f3f-90fc-5b03bb0f61a5"
      },
      "execution_count": null,
      "outputs": [
        {
          "output_type": "execute_result",
          "data": {
            "text/plain": [
              "(30338.235198357783, array([ -23.24508418, -264.48613455,   -2.44929629]))"
            ]
          },
          "metadata": {},
          "execution_count": 47
        }
      ]
    },
    {
      "cell_type": "code",
      "source": [
        "def trainLinRegres(X,y):\n",
        "  ones = np.ones(X.shape[0])\n",
        "  X = np.column_stack([ones, X])\n",
        "\n",
        "  XTX = X.T.dot(X)\n",
        "  XTXinv = np.linalg.inv(XTX)\n",
        "  wFull = XTXinv.dot(X.T).dot(y)\n",
        "  return wFull[0],wFull[1:]"
      ],
      "metadata": {
        "id": "_VrmLKuKli4T"
      },
      "execution_count": null,
      "outputs": []
    },
    {
      "cell_type": "code",
      "source": [],
      "metadata": {
        "id": "EQNLQKfVmp0F"
      },
      "execution_count": null,
      "outputs": []
    },
    {
      "cell_type": "markdown",
      "source": [
        "## Car Price Baseline Model"
      ],
      "metadata": {
        "id": "0dRP3ZeAW3Fr"
      }
    },
    {
      "cell_type": "code",
      "source": [
        "dfTrain"
      ],
      "metadata": {
        "colab": {
          "base_uri": "https://localhost:8080/",
          "height": 444
        },
        "id": "59TdCitvW2vM",
        "outputId": "ae0ffc2e-092b-443f-eea7-7c8cd03d0b71"
      },
      "execution_count": null,
      "outputs": [
        {
          "output_type": "execute_result",
          "data": {
            "text/plain": [
              "             make        model  year                engine_fuel_type  \\\n",
              "0       chevrolet       cobalt  2008                regular_unleaded   \n",
              "1          toyota       matrix  2012                regular_unleaded   \n",
              "2          subaru      impreza  2016                regular_unleaded   \n",
              "3      volkswagen      vanagon  1991                regular_unleaded   \n",
              "4            ford        f-150  2017        flex-fuel_(unleaded/e85)   \n",
              "...           ...          ...   ...                             ...   \n",
              "7145          bmw     4_series  2015     premium_unleaded_(required)   \n",
              "7146   volkswagen       beetle  2015  premium_unleaded_(recommended)   \n",
              "7147          gmc  sierra_1500  2015        flex-fuel_(unleaded/e85)   \n",
              "7148  rolls-royce        ghost  2014     premium_unleaded_(required)   \n",
              "7149   volkswagen           cc  2017  premium_unleaded_(recommended)   \n",
              "\n",
              "      engine_hp  engine_cylinders transmission_type      driven_wheels  \\\n",
              "0         148.0               4.0            manual  front_wheel_drive   \n",
              "1         132.0               4.0         automatic  front_wheel_drive   \n",
              "2         148.0               4.0         automatic    all_wheel_drive   \n",
              "3          90.0               4.0            manual   rear_wheel_drive   \n",
              "4         385.0               8.0         automatic   four_wheel_drive   \n",
              "...         ...               ...               ...                ...   \n",
              "7145      300.0               6.0         automatic   rear_wheel_drive   \n",
              "7146      210.0               4.0  automated_manual  front_wheel_drive   \n",
              "7147      285.0               6.0         automatic   four_wheel_drive   \n",
              "7148      563.0              12.0         automatic   rear_wheel_drive   \n",
              "7149      200.0               4.0  automated_manual  front_wheel_drive   \n",
              "\n",
              "      number_of_doors            market_category vehicle_size  \\\n",
              "0                 2.0                        NaN      compact   \n",
              "1                 4.0                  hatchback      compact   \n",
              "2                 4.0                  hatchback      compact   \n",
              "3                 3.0                        NaN        large   \n",
              "4                 4.0                  flex_fuel        large   \n",
              "...               ...                        ...          ...   \n",
              "7145              2.0         luxury,performance      midsize   \n",
              "7146              2.0      hatchback,performance      compact   \n",
              "7147              4.0                  flex_fuel        large   \n",
              "7148              4.0  exotic,luxury,performance        large   \n",
              "7149              4.0                performance      midsize   \n",
              "\n",
              "            vehicle_style  highway_mpg  city_mpg  popularity  \n",
              "0                   coupe           33        24        1385  \n",
              "1           4dr_hatchback           32        25        2031  \n",
              "2           4dr_hatchback           37        28         640  \n",
              "3       passenger_minivan           18        16         873  \n",
              "4         crew_cab_pickup           21        15        5657  \n",
              "...                   ...          ...       ...         ...  \n",
              "7145          convertible           31        20        3916  \n",
              "7146        2dr_hatchback           30        24         873  \n",
              "7147  extended_cab_pickup           22        17         549  \n",
              "7148                sedan           21        13          86  \n",
              "7149                sedan           31        22         873  \n",
              "\n",
              "[7150 rows x 15 columns]"
            ],
            "text/html": [
              "\n",
              "  <div id=\"df-522d7569-82e0-4c26-baa8-3bcd32eb58b3\" class=\"colab-df-container\">\n",
              "    <div>\n",
              "<style scoped>\n",
              "    .dataframe tbody tr th:only-of-type {\n",
              "        vertical-align: middle;\n",
              "    }\n",
              "\n",
              "    .dataframe tbody tr th {\n",
              "        vertical-align: top;\n",
              "    }\n",
              "\n",
              "    .dataframe thead th {\n",
              "        text-align: right;\n",
              "    }\n",
              "</style>\n",
              "<table border=\"1\" class=\"dataframe\">\n",
              "  <thead>\n",
              "    <tr style=\"text-align: right;\">\n",
              "      <th></th>\n",
              "      <th>make</th>\n",
              "      <th>model</th>\n",
              "      <th>year</th>\n",
              "      <th>engine_fuel_type</th>\n",
              "      <th>engine_hp</th>\n",
              "      <th>engine_cylinders</th>\n",
              "      <th>transmission_type</th>\n",
              "      <th>driven_wheels</th>\n",
              "      <th>number_of_doors</th>\n",
              "      <th>market_category</th>\n",
              "      <th>vehicle_size</th>\n",
              "      <th>vehicle_style</th>\n",
              "      <th>highway_mpg</th>\n",
              "      <th>city_mpg</th>\n",
              "      <th>popularity</th>\n",
              "    </tr>\n",
              "  </thead>\n",
              "  <tbody>\n",
              "    <tr>\n",
              "      <th>0</th>\n",
              "      <td>chevrolet</td>\n",
              "      <td>cobalt</td>\n",
              "      <td>2008</td>\n",
              "      <td>regular_unleaded</td>\n",
              "      <td>148.0</td>\n",
              "      <td>4.0</td>\n",
              "      <td>manual</td>\n",
              "      <td>front_wheel_drive</td>\n",
              "      <td>2.0</td>\n",
              "      <td>NaN</td>\n",
              "      <td>compact</td>\n",
              "      <td>coupe</td>\n",
              "      <td>33</td>\n",
              "      <td>24</td>\n",
              "      <td>1385</td>\n",
              "    </tr>\n",
              "    <tr>\n",
              "      <th>1</th>\n",
              "      <td>toyota</td>\n",
              "      <td>matrix</td>\n",
              "      <td>2012</td>\n",
              "      <td>regular_unleaded</td>\n",
              "      <td>132.0</td>\n",
              "      <td>4.0</td>\n",
              "      <td>automatic</td>\n",
              "      <td>front_wheel_drive</td>\n",
              "      <td>4.0</td>\n",
              "      <td>hatchback</td>\n",
              "      <td>compact</td>\n",
              "      <td>4dr_hatchback</td>\n",
              "      <td>32</td>\n",
              "      <td>25</td>\n",
              "      <td>2031</td>\n",
              "    </tr>\n",
              "    <tr>\n",
              "      <th>2</th>\n",
              "      <td>subaru</td>\n",
              "      <td>impreza</td>\n",
              "      <td>2016</td>\n",
              "      <td>regular_unleaded</td>\n",
              "      <td>148.0</td>\n",
              "      <td>4.0</td>\n",
              "      <td>automatic</td>\n",
              "      <td>all_wheel_drive</td>\n",
              "      <td>4.0</td>\n",
              "      <td>hatchback</td>\n",
              "      <td>compact</td>\n",
              "      <td>4dr_hatchback</td>\n",
              "      <td>37</td>\n",
              "      <td>28</td>\n",
              "      <td>640</td>\n",
              "    </tr>\n",
              "    <tr>\n",
              "      <th>3</th>\n",
              "      <td>volkswagen</td>\n",
              "      <td>vanagon</td>\n",
              "      <td>1991</td>\n",
              "      <td>regular_unleaded</td>\n",
              "      <td>90.0</td>\n",
              "      <td>4.0</td>\n",
              "      <td>manual</td>\n",
              "      <td>rear_wheel_drive</td>\n",
              "      <td>3.0</td>\n",
              "      <td>NaN</td>\n",
              "      <td>large</td>\n",
              "      <td>passenger_minivan</td>\n",
              "      <td>18</td>\n",
              "      <td>16</td>\n",
              "      <td>873</td>\n",
              "    </tr>\n",
              "    <tr>\n",
              "      <th>4</th>\n",
              "      <td>ford</td>\n",
              "      <td>f-150</td>\n",
              "      <td>2017</td>\n",
              "      <td>flex-fuel_(unleaded/e85)</td>\n",
              "      <td>385.0</td>\n",
              "      <td>8.0</td>\n",
              "      <td>automatic</td>\n",
              "      <td>four_wheel_drive</td>\n",
              "      <td>4.0</td>\n",
              "      <td>flex_fuel</td>\n",
              "      <td>large</td>\n",
              "      <td>crew_cab_pickup</td>\n",
              "      <td>21</td>\n",
              "      <td>15</td>\n",
              "      <td>5657</td>\n",
              "    </tr>\n",
              "    <tr>\n",
              "      <th>...</th>\n",
              "      <td>...</td>\n",
              "      <td>...</td>\n",
              "      <td>...</td>\n",
              "      <td>...</td>\n",
              "      <td>...</td>\n",
              "      <td>...</td>\n",
              "      <td>...</td>\n",
              "      <td>...</td>\n",
              "      <td>...</td>\n",
              "      <td>...</td>\n",
              "      <td>...</td>\n",
              "      <td>...</td>\n",
              "      <td>...</td>\n",
              "      <td>...</td>\n",
              "      <td>...</td>\n",
              "    </tr>\n",
              "    <tr>\n",
              "      <th>7145</th>\n",
              "      <td>bmw</td>\n",
              "      <td>4_series</td>\n",
              "      <td>2015</td>\n",
              "      <td>premium_unleaded_(required)</td>\n",
              "      <td>300.0</td>\n",
              "      <td>6.0</td>\n",
              "      <td>automatic</td>\n",
              "      <td>rear_wheel_drive</td>\n",
              "      <td>2.0</td>\n",
              "      <td>luxury,performance</td>\n",
              "      <td>midsize</td>\n",
              "      <td>convertible</td>\n",
              "      <td>31</td>\n",
              "      <td>20</td>\n",
              "      <td>3916</td>\n",
              "    </tr>\n",
              "    <tr>\n",
              "      <th>7146</th>\n",
              "      <td>volkswagen</td>\n",
              "      <td>beetle</td>\n",
              "      <td>2015</td>\n",
              "      <td>premium_unleaded_(recommended)</td>\n",
              "      <td>210.0</td>\n",
              "      <td>4.0</td>\n",
              "      <td>automated_manual</td>\n",
              "      <td>front_wheel_drive</td>\n",
              "      <td>2.0</td>\n",
              "      <td>hatchback,performance</td>\n",
              "      <td>compact</td>\n",
              "      <td>2dr_hatchback</td>\n",
              "      <td>30</td>\n",
              "      <td>24</td>\n",
              "      <td>873</td>\n",
              "    </tr>\n",
              "    <tr>\n",
              "      <th>7147</th>\n",
              "      <td>gmc</td>\n",
              "      <td>sierra_1500</td>\n",
              "      <td>2015</td>\n",
              "      <td>flex-fuel_(unleaded/e85)</td>\n",
              "      <td>285.0</td>\n",
              "      <td>6.0</td>\n",
              "      <td>automatic</td>\n",
              "      <td>four_wheel_drive</td>\n",
              "      <td>4.0</td>\n",
              "      <td>flex_fuel</td>\n",
              "      <td>large</td>\n",
              "      <td>extended_cab_pickup</td>\n",
              "      <td>22</td>\n",
              "      <td>17</td>\n",
              "      <td>549</td>\n",
              "    </tr>\n",
              "    <tr>\n",
              "      <th>7148</th>\n",
              "      <td>rolls-royce</td>\n",
              "      <td>ghost</td>\n",
              "      <td>2014</td>\n",
              "      <td>premium_unleaded_(required)</td>\n",
              "      <td>563.0</td>\n",
              "      <td>12.0</td>\n",
              "      <td>automatic</td>\n",
              "      <td>rear_wheel_drive</td>\n",
              "      <td>4.0</td>\n",
              "      <td>exotic,luxury,performance</td>\n",
              "      <td>large</td>\n",
              "      <td>sedan</td>\n",
              "      <td>21</td>\n",
              "      <td>13</td>\n",
              "      <td>86</td>\n",
              "    </tr>\n",
              "    <tr>\n",
              "      <th>7149</th>\n",
              "      <td>volkswagen</td>\n",
              "      <td>cc</td>\n",
              "      <td>2017</td>\n",
              "      <td>premium_unleaded_(recommended)</td>\n",
              "      <td>200.0</td>\n",
              "      <td>4.0</td>\n",
              "      <td>automated_manual</td>\n",
              "      <td>front_wheel_drive</td>\n",
              "      <td>4.0</td>\n",
              "      <td>performance</td>\n",
              "      <td>midsize</td>\n",
              "      <td>sedan</td>\n",
              "      <td>31</td>\n",
              "      <td>22</td>\n",
              "      <td>873</td>\n",
              "    </tr>\n",
              "  </tbody>\n",
              "</table>\n",
              "<p>7150 rows × 15 columns</p>\n",
              "</div>\n",
              "    <div class=\"colab-df-buttons\">\n",
              "\n",
              "  <div class=\"colab-df-container\">\n",
              "    <button class=\"colab-df-convert\" onclick=\"convertToInteractive('df-522d7569-82e0-4c26-baa8-3bcd32eb58b3')\"\n",
              "            title=\"Convert this dataframe to an interactive table.\"\n",
              "            style=\"display:none;\">\n",
              "\n",
              "  <svg xmlns=\"http://www.w3.org/2000/svg\" height=\"24px\" viewBox=\"0 -960 960 960\">\n",
              "    <path d=\"M120-120v-720h720v720H120Zm60-500h600v-160H180v160Zm220 220h160v-160H400v160Zm0 220h160v-160H400v160ZM180-400h160v-160H180v160Zm440 0h160v-160H620v160ZM180-180h160v-160H180v160Zm440 0h160v-160H620v160Z\"/>\n",
              "  </svg>\n",
              "    </button>\n",
              "\n",
              "  <style>\n",
              "    .colab-df-container {\n",
              "      display:flex;\n",
              "      gap: 12px;\n",
              "    }\n",
              "\n",
              "    .colab-df-convert {\n",
              "      background-color: #E8F0FE;\n",
              "      border: none;\n",
              "      border-radius: 50%;\n",
              "      cursor: pointer;\n",
              "      display: none;\n",
              "      fill: #1967D2;\n",
              "      height: 32px;\n",
              "      padding: 0 0 0 0;\n",
              "      width: 32px;\n",
              "    }\n",
              "\n",
              "    .colab-df-convert:hover {\n",
              "      background-color: #E2EBFA;\n",
              "      box-shadow: 0px 1px 2px rgba(60, 64, 67, 0.3), 0px 1px 3px 1px rgba(60, 64, 67, 0.15);\n",
              "      fill: #174EA6;\n",
              "    }\n",
              "\n",
              "    .colab-df-buttons div {\n",
              "      margin-bottom: 4px;\n",
              "    }\n",
              "\n",
              "    [theme=dark] .colab-df-convert {\n",
              "      background-color: #3B4455;\n",
              "      fill: #D2E3FC;\n",
              "    }\n",
              "\n",
              "    [theme=dark] .colab-df-convert:hover {\n",
              "      background-color: #434B5C;\n",
              "      box-shadow: 0px 1px 3px 1px rgba(0, 0, 0, 0.15);\n",
              "      filter: drop-shadow(0px 1px 2px rgba(0, 0, 0, 0.3));\n",
              "      fill: #FFFFFF;\n",
              "    }\n",
              "  </style>\n",
              "\n",
              "    <script>\n",
              "      const buttonEl =\n",
              "        document.querySelector('#df-522d7569-82e0-4c26-baa8-3bcd32eb58b3 button.colab-df-convert');\n",
              "      buttonEl.style.display =\n",
              "        google.colab.kernel.accessAllowed ? 'block' : 'none';\n",
              "\n",
              "      async function convertToInteractive(key) {\n",
              "        const element = document.querySelector('#df-522d7569-82e0-4c26-baa8-3bcd32eb58b3');\n",
              "        const dataTable =\n",
              "          await google.colab.kernel.invokeFunction('convertToInteractive',\n",
              "                                                    [key], {});\n",
              "        if (!dataTable) return;\n",
              "\n",
              "        const docLinkHtml = 'Like what you see? Visit the ' +\n",
              "          '<a target=\"_blank\" href=https://colab.research.google.com/notebooks/data_table.ipynb>data table notebook</a>'\n",
              "          + ' to learn more about interactive tables.';\n",
              "        element.innerHTML = '';\n",
              "        dataTable['output_type'] = 'display_data';\n",
              "        await google.colab.output.renderOutput(dataTable, element);\n",
              "        const docLink = document.createElement('div');\n",
              "        docLink.innerHTML = docLinkHtml;\n",
              "        element.appendChild(docLink);\n",
              "      }\n",
              "    </script>\n",
              "  </div>\n",
              "\n",
              "\n",
              "<div id=\"df-735c4c23-2474-48a6-afb6-3bc59e06544e\">\n",
              "  <button class=\"colab-df-quickchart\" onclick=\"quickchart('df-735c4c23-2474-48a6-afb6-3bc59e06544e')\"\n",
              "            title=\"Suggest charts.\"\n",
              "            style=\"display:none;\">\n",
              "\n",
              "<svg xmlns=\"http://www.w3.org/2000/svg\" height=\"24px\"viewBox=\"0 0 24 24\"\n",
              "     width=\"24px\">\n",
              "    <g>\n",
              "        <path d=\"M19 3H5c-1.1 0-2 .9-2 2v14c0 1.1.9 2 2 2h14c1.1 0 2-.9 2-2V5c0-1.1-.9-2-2-2zM9 17H7v-7h2v7zm4 0h-2V7h2v10zm4 0h-2v-4h2v4z\"/>\n",
              "    </g>\n",
              "</svg>\n",
              "  </button>\n",
              "\n",
              "<style>\n",
              "  .colab-df-quickchart {\n",
              "      --bg-color: #E8F0FE;\n",
              "      --fill-color: #1967D2;\n",
              "      --hover-bg-color: #E2EBFA;\n",
              "      --hover-fill-color: #174EA6;\n",
              "      --disabled-fill-color: #AAA;\n",
              "      --disabled-bg-color: #DDD;\n",
              "  }\n",
              "\n",
              "  [theme=dark] .colab-df-quickchart {\n",
              "      --bg-color: #3B4455;\n",
              "      --fill-color: #D2E3FC;\n",
              "      --hover-bg-color: #434B5C;\n",
              "      --hover-fill-color: #FFFFFF;\n",
              "      --disabled-bg-color: #3B4455;\n",
              "      --disabled-fill-color: #666;\n",
              "  }\n",
              "\n",
              "  .colab-df-quickchart {\n",
              "    background-color: var(--bg-color);\n",
              "    border: none;\n",
              "    border-radius: 50%;\n",
              "    cursor: pointer;\n",
              "    display: none;\n",
              "    fill: var(--fill-color);\n",
              "    height: 32px;\n",
              "    padding: 0;\n",
              "    width: 32px;\n",
              "  }\n",
              "\n",
              "  .colab-df-quickchart:hover {\n",
              "    background-color: var(--hover-bg-color);\n",
              "    box-shadow: 0 1px 2px rgba(60, 64, 67, 0.3), 0 1px 3px 1px rgba(60, 64, 67, 0.15);\n",
              "    fill: var(--button-hover-fill-color);\n",
              "  }\n",
              "\n",
              "  .colab-df-quickchart-complete:disabled,\n",
              "  .colab-df-quickchart-complete:disabled:hover {\n",
              "    background-color: var(--disabled-bg-color);\n",
              "    fill: var(--disabled-fill-color);\n",
              "    box-shadow: none;\n",
              "  }\n",
              "\n",
              "  .colab-df-spinner {\n",
              "    border: 2px solid var(--fill-color);\n",
              "    border-color: transparent;\n",
              "    border-bottom-color: var(--fill-color);\n",
              "    animation:\n",
              "      spin 1s steps(1) infinite;\n",
              "  }\n",
              "\n",
              "  @keyframes spin {\n",
              "    0% {\n",
              "      border-color: transparent;\n",
              "      border-bottom-color: var(--fill-color);\n",
              "      border-left-color: var(--fill-color);\n",
              "    }\n",
              "    20% {\n",
              "      border-color: transparent;\n",
              "      border-left-color: var(--fill-color);\n",
              "      border-top-color: var(--fill-color);\n",
              "    }\n",
              "    30% {\n",
              "      border-color: transparent;\n",
              "      border-left-color: var(--fill-color);\n",
              "      border-top-color: var(--fill-color);\n",
              "      border-right-color: var(--fill-color);\n",
              "    }\n",
              "    40% {\n",
              "      border-color: transparent;\n",
              "      border-right-color: var(--fill-color);\n",
              "      border-top-color: var(--fill-color);\n",
              "    }\n",
              "    60% {\n",
              "      border-color: transparent;\n",
              "      border-right-color: var(--fill-color);\n",
              "    }\n",
              "    80% {\n",
              "      border-color: transparent;\n",
              "      border-right-color: var(--fill-color);\n",
              "      border-bottom-color: var(--fill-color);\n",
              "    }\n",
              "    90% {\n",
              "      border-color: transparent;\n",
              "      border-bottom-color: var(--fill-color);\n",
              "    }\n",
              "  }\n",
              "</style>\n",
              "\n",
              "  <script>\n",
              "    async function quickchart(key) {\n",
              "      const quickchartButtonEl =\n",
              "        document.querySelector('#' + key + ' button');\n",
              "      quickchartButtonEl.disabled = true;  // To prevent multiple clicks.\n",
              "      quickchartButtonEl.classList.add('colab-df-spinner');\n",
              "      try {\n",
              "        const charts = await google.colab.kernel.invokeFunction(\n",
              "            'suggestCharts', [key], {});\n",
              "      } catch (error) {\n",
              "        console.error('Error during call to suggestCharts:', error);\n",
              "      }\n",
              "      quickchartButtonEl.classList.remove('colab-df-spinner');\n",
              "      quickchartButtonEl.classList.add('colab-df-quickchart-complete');\n",
              "    }\n",
              "    (() => {\n",
              "      let quickchartButtonEl =\n",
              "        document.querySelector('#df-735c4c23-2474-48a6-afb6-3bc59e06544e button');\n",
              "      quickchartButtonEl.style.display =\n",
              "        google.colab.kernel.accessAllowed ? 'block' : 'none';\n",
              "    })();\n",
              "  </script>\n",
              "</div>\n",
              "    </div>\n",
              "  </div>\n"
            ]
          },
          "metadata": {},
          "execution_count": 49
        }
      ]
    },
    {
      "cell_type": "code",
      "source": [
        "dfTrain.dtypes"
      ],
      "metadata": {
        "colab": {
          "base_uri": "https://localhost:8080/"
        },
        "id": "Wys_iuIlXwKG",
        "outputId": "8c890b05-8df9-402d-f3d4-4c9c43ce1809"
      },
      "execution_count": null,
      "outputs": [
        {
          "output_type": "execute_result",
          "data": {
            "text/plain": [
              "make                  object\n",
              "model                 object\n",
              "year                   int64\n",
              "engine_fuel_type      object\n",
              "engine_hp            float64\n",
              "engine_cylinders     float64\n",
              "transmission_type     object\n",
              "driven_wheels         object\n",
              "number_of_doors      float64\n",
              "market_category       object\n",
              "vehicle_size          object\n",
              "vehicle_style         object\n",
              "highway_mpg            int64\n",
              "city_mpg               int64\n",
              "popularity             int64\n",
              "dtype: object"
            ]
          },
          "metadata": {},
          "execution_count": 50
        }
      ]
    },
    {
      "cell_type": "code",
      "source": [
        "base = ['engine_hp', 'engine_cylinders', 'highway_mpg','city_mpg', 'popularity' ]\n"
      ],
      "metadata": {
        "id": "S0d_XuzGX5iF"
      },
      "execution_count": null,
      "outputs": []
    },
    {
      "cell_type": "code",
      "source": [
        "xTrain = dfTrain[base].values"
      ],
      "metadata": {
        "id": "dJYrMKhhYPMS"
      },
      "execution_count": null,
      "outputs": []
    },
    {
      "cell_type": "code",
      "source": [
        "xTrain = dfTrain[base].fillna(0).values\n",
        "xTrain"
      ],
      "metadata": {
        "id": "zcE6taBcZMNr",
        "colab": {
          "base_uri": "https://localhost:8080/"
        },
        "outputId": "6cdf4cc4-68c0-4512-a268-2c48aaa70244"
      },
      "execution_count": null,
      "outputs": [
        {
          "output_type": "execute_result",
          "data": {
            "text/plain": [
              "array([[ 148.,    4.,   33.,   24., 1385.],\n",
              "       [ 132.,    4.,   32.,   25., 2031.],\n",
              "       [ 148.,    4.,   37.,   28.,  640.],\n",
              "       ...,\n",
              "       [ 285.,    6.,   22.,   17.,  549.],\n",
              "       [ 563.,   12.,   21.,   13.,   86.],\n",
              "       [ 200.,    4.,   31.,   22.,  873.]])"
            ]
          },
          "metadata": {},
          "execution_count": 53
        }
      ]
    },
    {
      "cell_type": "code",
      "source": [
        "w0,w = trainLinRegres(xTrain, yTrain)"
      ],
      "metadata": {
        "id": "mAdbyQ99YWY-"
      },
      "execution_count": null,
      "outputs": []
    },
    {
      "cell_type": "code",
      "source": [
        "yPred = w0 + xTrain.dot(w)"
      ],
      "metadata": {
        "id": "yR6nWGUzn_Ax"
      },
      "execution_count": null,
      "outputs": []
    },
    {
      "cell_type": "code",
      "source": [
        "sns.histplot(yPred,color='red', alpha=0.5,bins=50)\n",
        "sns.histplot(yTrain, color='blue', alpha=0.5,bins=50)"
      ],
      "metadata": {
        "colab": {
          "base_uri": "https://localhost:8080/",
          "height": 447
        },
        "id": "FDB-Qfgfpbju",
        "outputId": "5f632629-501c-4f61-bda2-806332b4ef9e"
      },
      "execution_count": null,
      "outputs": [
        {
          "output_type": "execute_result",
          "data": {
            "text/plain": [
              "<Axes: ylabel='Count'>"
            ]
          },
          "metadata": {},
          "execution_count": 56
        },
        {
          "output_type": "display_data",
          "data": {
            "text/plain": [
              "<Figure size 640x480 with 1 Axes>"
            ],
            "image/png": "[encoded data removed]"
          },
          "metadata": {}
        }
      ]
    },
    {
      "cell_type": "markdown",
      "source": [
        "## Root Mean Square Error (RMSE)"
      ],
      "metadata": {
        "id": "ngP5K4BgqDaZ"
      }
    },
    {
      "cell_type": "code",
      "source": [
        "def rmse(y,yPred):\n",
        "  se = (y - yPred) **2\n",
        "  mse = se.mean()\n",
        "  return np.sqrt(mse)"
      ],
      "metadata": {
        "id": "kjftVkXFqG9N"
      },
      "execution_count": null,
      "outputs": []
    },
    {
      "cell_type": "code",
      "source": [
        "rmse(yTrain,yPred)"
      ],
      "metadata": {
        "colab": {
          "base_uri": "https://localhost:8080/"
        },
        "id": "xw6VxM35tepa",
        "outputId": "687dd841-e88d-4980-bde5-9e9e3ce8c99c"
      },
      "execution_count": null,
      "outputs": [
        {
          "output_type": "execute_result",
          "data": {
            "text/plain": [
              "0.7554192603920132"
            ]
          },
          "metadata": {},
          "execution_count": 58
        }
      ]
    },
    {
      "cell_type": "markdown",
      "source": [
        "## Validating the Model"
      ],
      "metadata": {
        "id": "ucGZEL11tiqt"
      }
    },
    {
      "cell_type": "code",
      "source": [
        "base = ['engine_hp', 'engine_cylinders', 'highway_mpg','city_mpg', 'popularity' ]\n",
        "xTrain = dfTrain[base]\n",
        "w0,w = trainLinRegres(xTrain, yTrain)\n",
        "yPred = w0 + xTrain.dot(w)"
      ],
      "metadata": {
        "id": "cCsPBg55tlNw"
      },
      "execution_count": null,
      "outputs": []
    },
    {
      "cell_type": "code",
      "source": [
        "def prepareX(df):\n",
        "  dfNum = df[base]\n",
        "  dfNum = dfNum.fillna(0)\n",
        "  X = dfNum.values\n",
        "\n",
        "  return X"
      ],
      "metadata": {
        "id": "DitI5lfquXr7"
      },
      "execution_count": null,
      "outputs": []
    },
    {
      "cell_type": "code",
      "source": [
        "xTrain2 = prepareX(dfTrain)\n",
        "w0,w = trainLinRegres(xTrain2, yTrain)\n",
        "xVal2 = prepareX(dfVal)\n",
        "\n",
        "yPred2 = w0 + xVal2.dot(w)\n",
        "\n",
        "rmse(yVal,yPred2)"
      ],
      "metadata": {
        "colab": {
          "base_uri": "https://localhost:8080/"
        },
        "id": "snSpRbkdvNdw",
        "outputId": "c94a9bf2-13ab-47b7-fd74-92723464ed3c"
      },
      "execution_count": null,
      "outputs": [
        {
          "output_type": "execute_result",
          "data": {
            "text/plain": [
              "0.761653099130156"
            ]
          },
          "metadata": {},
          "execution_count": 61
        }
      ]
    },
    {
      "cell_type": "markdown",
      "source": [
        "## Simple Feature Engineering"
      ],
      "metadata": {
        "id": "GdswTRkeycBZ"
      }
    },
    {
      "cell_type": "code",
      "source": [
        "2017 - dfTrain.year"
      ],
      "metadata": {
        "colab": {
          "base_uri": "https://localhost:8080/"
        },
        "id": "-YDEzFf6yeom",
        "outputId": "e4c523a0-c647-47e0-8c37-4496c9908b89"
      },
      "execution_count": null,
      "outputs": [
        {
          "output_type": "execute_result",
          "data": {
            "text/plain": [
              "0        9\n",
              "1        5\n",
              "2        1\n",
              "3       26\n",
              "4        0\n",
              "        ..\n",
              "7145     2\n",
              "7146     2\n",
              "7147     2\n",
              "7148     3\n",
              "7149     0\n",
              "Name: year, Length: 7150, dtype: int64"
            ]
          },
          "metadata": {},
          "execution_count": 62
        }
      ]
    },
    {
      "cell_type": "code",
      "source": [
        "def prepareX(df):\n",
        "  # ensuring actual data frame doesnt get modified\n",
        "  df = df.copy()\n",
        "  df['age'] = 2017 - df.year\n",
        "  features = base + ['age']\n",
        "  dfNum = df[features]\n",
        "  dfNum = dfNum.fillna(0)\n",
        "  X = dfNum.values\n",
        "\n",
        "  return X"
      ],
      "metadata": {
        "id": "S9wD9G06uvmj"
      },
      "execution_count": null,
      "outputs": []
    },
    {
      "cell_type": "code",
      "source": [
        "Xtrain = prepareX(dfTrain)\n",
        "w0,w = trainLinRegres(Xtrain, yTrain)\n",
        "xVal2 = prepareX(dfVal)\n",
        "\n",
        "yPred2 = w0 + xVal2.dot(w)\n",
        "\n",
        "rmse(yVal,yPred2)"
      ],
      "metadata": {
        "colab": {
          "base_uri": "https://localhost:8080/"
        },
        "id": "_P1mBVj8u6s8",
        "outputId": "9ff3c912-6410-4563-c472-066a1a69f566"
      },
      "execution_count": null,
      "outputs": [
        {
          "output_type": "execute_result",
          "data": {
            "text/plain": [
              "0.5172055461058299"
            ]
          },
          "metadata": {},
          "execution_count": 64
        }
      ]
    },
    {
      "cell_type": "code",
      "source": [
        "sns.histplot(yPred2,color='red', alpha=0.5,bins=50)\n",
        "sns.histplot(yVal, color='blue', alpha=0.5,bins=50)"
      ],
      "metadata": {
        "colab": {
          "base_uri": "https://localhost:8080/",
          "height": 447
        },
        "id": "uUfv1OEOvJdn",
        "outputId": "1b7faa9a-ef53-4f22-9bd4-7ef5e9efb88a"
      },
      "execution_count": null,
      "outputs": [
        {
          "output_type": "execute_result",
          "data": {
            "text/plain": [
              "<Axes: ylabel='Count'>"
            ]
          },
          "metadata": {},
          "execution_count": 65
        },
        {
          "output_type": "display_data",
          "data": {
            "text/plain": [
              "<Figure size 640x480 with 1 Axes>"
            ],
            "image/png": "[encoded data removed]"
          },
          "metadata": {}
        }
      ]
    },
    {
      "cell_type": "markdown",
      "source": [
        "## Categorical Variables"
      ],
      "metadata": {
        "id": "SxHR4zqxwV8N"
      }
    },
    {
      "cell_type": "code",
      "source": [
        "for v in [2,3,4]:\n",
        "  dfTrain['num_doors_%s' % v] = (dfTrain.number_of_doors == v).astype('int')"
      ],
      "metadata": {
        "id": "fCyAWbgbwZMP"
      },
      "execution_count": null,
      "outputs": []
    },
    {
      "cell_type": "code",
      "source": [
        "dfTrain.columns"
      ],
      "metadata": {
        "colab": {
          "base_uri": "https://localhost:8080/"
        },
        "id": "2ubh0H_Zyeva",
        "outputId": "207df02f-525c-4c3c-d925-8aa73402f6d7"
      },
      "execution_count": null,
      "outputs": [
        {
          "output_type": "execute_result",
          "data": {
            "text/plain": [
              "Index(['make', 'model', 'year', 'engine_fuel_type', 'engine_hp',\n",
              "       'engine_cylinders', 'transmission_type', 'driven_wheels',\n",
              "       'number_of_doors', 'market_category', 'vehicle_size', 'vehicle_style',\n",
              "       'highway_mpg', 'city_mpg', 'popularity', 'num_doors_2', 'num_doors_3',\n",
              "       'num_doors_4'],\n",
              "      dtype='object')"
            ]
          },
          "metadata": {},
          "execution_count": 67
        }
      ]
    },
    {
      "cell_type": "code",
      "source": [
        "def prepareX(df):\n",
        "  # ensuring actual data frame doesnt get modified\n",
        "  df = df.copy()\n",
        "  df['age'] = 2017 - df.year\n",
        "  features = base.copy()\n",
        "  features.append('age')\n",
        "\n",
        "  for v in [2,3,4]:\n",
        "    df['num_doors_%s' % v] = (dfTrain.number_of_doors == v).astype('int')\n",
        "    features.append('num_doors_%s' % v)\n",
        "\n",
        "  dfNum = df[features]\n",
        "  dfNum = dfNum.fillna(0)\n",
        "  X = dfNum.values\n",
        "\n",
        "  return X"
      ],
      "metadata": {
        "id": "JuuEyDBf0SY2"
      },
      "execution_count": null,
      "outputs": []
    },
    {
      "cell_type": "code",
      "source": [
        "prepareX(dfTrain)"
      ],
      "metadata": {
        "colab": {
          "base_uri": "https://localhost:8080/"
        },
        "id": "OPfy2EBr1eHh",
        "outputId": "1d3490f9-8082-40b2-8ba5-99120d46a9c5"
      },
      "execution_count": null,
      "outputs": [
        {
          "output_type": "execute_result",
          "data": {
            "text/plain": [
              "array([[148.,   4.,  33., ...,   1.,   0.,   0.],\n",
              "       [132.,   4.,  32., ...,   0.,   0.,   1.],\n",
              "       [148.,   4.,  37., ...,   0.,   0.,   1.],\n",
              "       ...,\n",
              "       [285.,   6.,  22., ...,   0.,   0.,   1.],\n",
              "       [563.,  12.,  21., ...,   0.,   0.,   1.],\n",
              "       [200.,   4.,  31., ...,   0.,   0.,   1.]])"
            ]
          },
          "metadata": {},
          "execution_count": 69
        }
      ]
    },
    {
      "cell_type": "code",
      "source": [
        "Xtrain = prepareX(dfTrain)\n",
        "w0,w = trainLinRegres(Xtrain, yTrain)\n",
        "xVal2 = prepareX(dfVal)\n",
        "\n",
        "yPred2 = w0 + xVal2.dot(w)\n",
        "\n",
        "rmse(yVal,yPred2)"
      ],
      "metadata": {
        "colab": {
          "base_uri": "https://localhost:8080/"
        },
        "id": "aDW41Cw81kHg",
        "outputId": "d3a580dd-6d75-46b1-9deb-8169dbccf608"
      },
      "execution_count": null,
      "outputs": [
        {
          "output_type": "execute_result",
          "data": {
            "text/plain": [
              "0.5186588617185713"
            ]
          },
          "metadata": {},
          "execution_count": 70
        }
      ]
    },
    {
      "cell_type": "code",
      "source": [
        "makes = list(df.make.value_counts().head().index)\n",
        "makes"
      ],
      "metadata": {
        "colab": {
          "base_uri": "https://localhost:8080/"
        },
        "id": "-SKX-kok1qz8",
        "outputId": "fae65616-234c-4190-cb6e-cbddb4c54418"
      },
      "execution_count": null,
      "outputs": [
        {
          "output_type": "execute_result",
          "data": {
            "text/plain": [
              "['chevrolet', 'ford', 'volkswagen', 'toyota', 'dodge']"
            ]
          },
          "metadata": {},
          "execution_count": 71
        }
      ]
    },
    {
      "cell_type": "code",
      "source": [
        "def prepareX(df):\n",
        "  # ensuring actual data frame doesnt get modified\n",
        "  df = df.copy()\n",
        "  features = base.copy()\n",
        "  df['age'] = 2017 - df.year\n",
        "\n",
        "  features.append('age')\n",
        "\n",
        "  for v in [2,3,4]:\n",
        "    df['num_doors_%s' % v] = (dfTrain.number_of_doors == v).astype('int')\n",
        "    features.append('num_doors_%s' % v)\n",
        "\n",
        "  for v in makes:\n",
        "    df['make_%s' % v] = (dfTrain.make == v).astype('int')\n",
        "    features.append('make_%s' % v)\n",
        "\n",
        "  dfNum = df[features]\n",
        "  dfNum = dfNum.fillna(0)\n",
        "  X = dfNum.values\n",
        "\n",
        "  return X"
      ],
      "metadata": {
        "id": "lCE1sOgV3J8r"
      },
      "execution_count": null,
      "outputs": []
    },
    {
      "cell_type": "code",
      "source": [],
      "metadata": {
        "id": "obKK_IJrD7A1"
      },
      "execution_count": null,
      "outputs": []
    },
    {
      "cell_type": "code",
      "source": [
        "Xtrain = prepareX(dfTrain)\n",
        "w0,w = trainLinRegres(Xtrain, yTrain)\n",
        "xVal2 = prepareX(dfVal)\n",
        "\n",
        "yPred2 = w0 + xVal2.dot(w)\n",
        "\n",
        "rmse(yVal,yPred2)"
      ],
      "metadata": {
        "colab": {
          "base_uri": "https://localhost:8080/"
        },
        "id": "_a5WqdPAdc7d",
        "outputId": "b51b5921-a62a-4369-90ab-710659f49e0c"
      },
      "execution_count": null,
      "outputs": [
        {
          "output_type": "execute_result",
          "data": {
            "text/plain": [
              "0.5306449707685917"
            ]
          },
          "metadata": {},
          "execution_count": 73
        }
      ]
    },
    {
      "cell_type": "code",
      "source": [
        "categoriesVar = ['make','engine_fuel_type', 'transmission_type', 'driven_wheels', 'market_category', 'vehicle_size', 'vehicle_style']"
      ],
      "metadata": {
        "id": "TxDJBnI3eGOJ"
      },
      "execution_count": null,
      "outputs": []
    },
    {
      "cell_type": "code",
      "source": [
        "categories = {}\n",
        "\n",
        "for c in categoriesVar:\n",
        "  categories[c] = list(df[c].value_counts().head().index)\n",
        "\n",
        "categories"
      ],
      "metadata": {
        "colab": {
          "base_uri": "https://localhost:8080/"
        },
        "id": "3N_5kI56fS0p",
        "outputId": "2cd2ac74-bdee-4bc0-e3b1-6017847a029f"
      },
      "execution_count": null,
      "outputs": [
        {
          "output_type": "execute_result",
          "data": {
            "text/plain": [
              "{'make': ['chevrolet', 'ford', 'volkswagen', 'toyota', 'dodge'],\n",
              " 'engine_fuel_type': ['regular_unleaded',\n",
              "  'premium_unleaded_(required)',\n",
              "  'premium_unleaded_(recommended)',\n",
              "  'flex-fuel_(unleaded/e85)',\n",
              "  'diesel'],\n",
              " 'transmission_type': ['automatic',\n",
              "  'manual',\n",
              "  'automated_manual',\n",
              "  'direct_drive',\n",
              "  'unknown'],\n",
              " 'driven_wheels': ['front_wheel_drive',\n",
              "  'rear_wheel_drive',\n",
              "  'all_wheel_drive',\n",
              "  'four_wheel_drive'],\n",
              " 'market_category': ['crossover',\n",
              "  'flex_fuel',\n",
              "  'luxury',\n",
              "  'luxury,performance',\n",
              "  'hatchback'],\n",
              " 'vehicle_size': ['compact', 'midsize', 'large'],\n",
              " 'vehicle_style': ['sedan',\n",
              "  '4dr_suv',\n",
              "  'coupe',\n",
              "  'convertible',\n",
              "  '4dr_hatchback']}"
            ]
          },
          "metadata": {},
          "execution_count": 75
        }
      ]
    },
    {
      "cell_type": "code",
      "source": [
        "def prepareX(df):\n",
        "  # ensuring actual data frame doesnt get modified\n",
        "  df = df.copy()\n",
        "  features = base.copy()\n",
        "  df['age'] = 2017 - df.year\n",
        "\n",
        "  features.append('age')\n",
        "\n",
        "  for v in [2,3,4]:\n",
        "    df['num_doors_%s' % v] = (dfTrain.number_of_doors == v).astype('int')\n",
        "    features.append('num_doors_%s' % v)\n",
        "\n",
        "  # for v in makes:\n",
        "  #   df['make_%s' % v] = (dfTrain.make == v).astype('int')\n",
        "  #   features.append('make_%s' % v)\n",
        "\n",
        "  for c,values in categories.items():\n",
        "    for v in values:\n",
        "      df['%s_%s' % (c,v)] = (df[c] == v).astype('int')\n",
        "      features.append('%s_%s' % (c,v))\n",
        "\n",
        "  dfNum = df[features]\n",
        "  dfNum = dfNum.fillna(0)\n",
        "  X = dfNum.values\n",
        "\n",
        "  return X"
      ],
      "metadata": {
        "id": "e26cIK5UDzJ5"
      },
      "execution_count": null,
      "outputs": []
    },
    {
      "cell_type": "code",
      "source": [
        "# model went wrong\n",
        "Xtrain = prepareX(dfTrain)\n",
        "w0,w = trainLinRegres(Xtrain, yTrain)\n",
        "xVal2 = prepareX(dfVal)\n",
        "\n",
        "yPred2 = w0 + xVal2.dot(w)\n",
        "\n",
        "rmse(yVal,yPred2)"
      ],
      "metadata": {
        "colab": {
          "base_uri": "https://localhost:8080/"
        },
        "id": "42sMYLrPGKKx",
        "outputId": "c13ee21b-5276-4822-f62b-08e996957bb6"
      },
      "execution_count": null,
      "outputs": [
        {
          "output_type": "execute_result",
          "data": {
            "text/plain": [
              "143.34678484203488"
            ]
          },
          "metadata": {},
          "execution_count": 77
        }
      ]
    },
    {
      "cell_type": "markdown",
      "source": [
        "Regilarization"
      ],
      "metadata": {
        "id": "ofcGhc2rGbzh"
      }
    },
    {
      "cell_type": "code",
      "source": [
        "X = [\n",
        "  [4,4,4],\n",
        "  [3,5,5],\n",
        "  [5,1,1],\n",
        "  [5,4,4],\n",
        "  [7,5,5],\n",
        "  [4,5,5]\n",
        "]\n",
        "\n",
        "X = np.array(X)\n",
        "X"
      ],
      "metadata": {
        "colab": {
          "base_uri": "https://localhost:8080/"
        },
        "id": "RElJL09lGbcr",
        "outputId": "7223974d-63c7-4ba6-c4a9-b77ba83ba1dd"
      },
      "execution_count": null,
      "outputs": [
        {
          "output_type": "execute_result",
          "data": {
            "text/plain": [
              "array([[4, 4, 4],\n",
              "       [3, 5, 5],\n",
              "       [5, 1, 1],\n",
              "       [5, 4, 4],\n",
              "       [7, 5, 5],\n",
              "       [4, 5, 5]])"
            ]
          },
          "metadata": {},
          "execution_count": 78
        }
      ]
    },
    {
      "cell_type": "code",
      "source": [
        "X.T.dot(X)"
      ],
      "metadata": {
        "colab": {
          "base_uri": "https://localhost:8080/"
        },
        "id": "I-KZhiDsYNTL",
        "outputId": "2aa80ae7-dab0-4484-8119-bb4b772fc9ed"
      },
      "execution_count": null,
      "outputs": [
        {
          "output_type": "execute_result",
          "data": {
            "text/plain": [
              "array([[140, 111, 111],\n",
              "       [111, 108, 108],\n",
              "       [111, 108, 108]])"
            ]
          },
          "metadata": {},
          "execution_count": 79
        }
      ]
    },
    {
      "cell_type": "code",
      "source": [
        "XTXinv = np.linalg.int(XTX)"
      ],
      "metadata": {
        "colab": {
          "base_uri": "https://localhost:8080/",
          "height": 176
        },
        "id": "BL7UgbURgCjj",
        "outputId": "c06d5092-516f-437d-b2e8-f8b2dfcc60cb"
      },
      "execution_count": null,
      "outputs": [
        {
          "output_type": "error",
          "ename": "AttributeError",
          "evalue": "ignored",
          "traceback": [
            "\u001b[0;31m---------------------------------------------------------------------------\u001b[0m",
            "\u001b[0;31mAttributeError\u001b[0m                            Traceback (most recent call last)",
            "\u001b[0;32m<ipython-input-80-e79b200b13d5>\u001b[0m in \u001b[0;36m<cell line: 1>\u001b[0;34m()\u001b[0m\n\u001b[0;32m----> 1\u001b[0;31m \u001b[0mXTXinv\u001b[0m \u001b[0;34m=\u001b[0m \u001b[0mnp\u001b[0m\u001b[0;34m.\u001b[0m\u001b[0mlinalg\u001b[0m\u001b[0;34m.\u001b[0m\u001b[0mint\u001b[0m\u001b[0;34m(\u001b[0m\u001b[0mXTX\u001b[0m\u001b[0;34m)\u001b[0m\u001b[0;34m\u001b[0m\u001b[0;34m\u001b[0m\u001b[0m\n\u001b[0m",
            "\u001b[0;31mAttributeError\u001b[0m: module 'numpy.linalg' has no attribute 'int'"
          ]
        }
      ]
    },
    {
      "cell_type": "code",
      "source": [
        "def trainLinRegresRes(X,y, r=0.01):\n",
        "  ones = np.ones(X.shape[0])\n",
        "  X = np.column_stack([ones, X])\n",
        "\n",
        "  XTX = X.T.dot(X)\n",
        "  XTX = XTX + r * np.eye(XTX.shape[0])\n",
        "\n",
        "  XTXinv = np.linalg.inv(XTX)\n",
        "  wFull = XTXinv.dot(X.T).dot(y)\n",
        "\n",
        "  return wFull[0],wFull[1:]"
      ],
      "metadata": {
        "id": "7QtQSoPpdZGg"
      },
      "execution_count": null,
      "outputs": []
    },
    {
      "cell_type": "code",
      "source": [
        "Xtrain = prepareX(dfTrain)\n",
        "w0,w = trainLinRegresRes(Xtrain, yTrain,r=0.01)\n",
        "xVal2 = prepareX(dfVal)\n",
        "\n",
        "yPred2 = w0 + xVal2.dot(w)\n",
        "\n",
        "rmse(yVal,yPred2)"
      ],
      "metadata": {
        "colab": {
          "base_uri": "https://localhost:8080/"
        },
        "id": "bJft6JX7ouj6",
        "outputId": "6d051964-6215-416d-cf51-0a1aa71e9498"
      },
      "execution_count": null,
      "outputs": [
        {
          "output_type": "execute_result",
          "data": {
            "text/plain": [
              "0.4708490233635317"
            ]
          },
          "metadata": {},
          "execution_count": 87
        }
      ]
    },
    {
      "cell_type": "markdown",
      "source": [
        "### Finding Best Regularization Parameter"
      ],
      "metadata": {
        "id": "iu7R_HgEp7G7"
      }
    },
    {
      "cell_type": "code",
      "source": [
        "for r in [0.0, 0.00001, 0.0001, 0.001, 0.01, 0.1, 1, 10]:\n",
        "  Xtrain = prepareX(dfTrain)\n",
        "  w0,w = trainLinRegresRes(Xtrain, yTrain,r=r)\n",
        "  xVal2 = prepareX(dfVal)\n",
        "\n",
        "  yPred2 = w0 + xVal2.dot(w)\n",
        "\n",
        "  score = rmse(yVal,yPred2)\n",
        "\n",
        "  print(r, w0, score)"
      ],
      "metadata": {
        "id": "2xvwOnTgpw2u"
      },
      "execution_count": null,
      "outputs": []
    },
    {
      "cell_type": "code",
      "source": [
        "r = 0.001\n",
        "Xtrain = prepareX(dfTrain)\n",
        "w0,w = trainLinRegresRes(Xtrain, yTrain,r=r)\n",
        "xVal2 = prepareX(dfVal)\n",
        "\n",
        "yPred2 = w0 + xVal2.dot(w)\n",
        "\n",
        "score = rmse(yVal,yPred2)\n",
        "\n",
        "\n",
        "score"
      ],
      "metadata": {
        "colab": {
          "base_uri": "https://localhost:8080/"
        },
        "id": "jitkVOOnHiX8",
        "outputId": "bcf99131-973e-4262-97e5-83bcbcfa408c"
      },
      "execution_count": null,
      "outputs": [
        {
          "output_type": "execute_result",
          "data": {
            "text/plain": [
              "0.4708556209434774"
            ]
          },
          "metadata": {},
          "execution_count": 89
        }
      ]
    },
    {
      "cell_type": "markdown",
      "source": [
        "## Train the Final Model"
      ],
      "metadata": {
        "id": "-VxXHvSwIDAy"
      }
    },
    {
      "cell_type": "code",
      "source": [
        "dfFullTrain = pd.concat([dfTrain, dfVal])"
      ],
      "metadata": {
        "id": "b0sEMo2kIFT6"
      },
      "execution_count": null,
      "outputs": []
    },
    {
      "cell_type": "code",
      "source": [
        "dfFullTrain = dfFullTrain.reset_index(drop=True)\n",
        "dfFullTrain.head()"
      ],
      "metadata": {
        "colab": {
          "base_uri": "https://localhost:8080/",
          "height": 244
        },
        "id": "ylUWh-D-IsdH",
        "outputId": "4c7b5628-3395-41dc-a268-64268d897090"
      },
      "execution_count": null,
      "outputs": [
        {
          "output_type": "execute_result",
          "data": {
            "text/plain": [
              "         make    model  year          engine_fuel_type  engine_hp  \\\n",
              "0   chevrolet   cobalt  2008          regular_unleaded      148.0   \n",
              "1      toyota   matrix  2012          regular_unleaded      132.0   \n",
              "2      subaru  impreza  2016          regular_unleaded      148.0   \n",
              "3  volkswagen  vanagon  1991          regular_unleaded       90.0   \n",
              "4        ford    f-150  2017  flex-fuel_(unleaded/e85)      385.0   \n",
              "\n",
              "   engine_cylinders transmission_type      driven_wheels  number_of_doors  \\\n",
              "0               4.0            manual  front_wheel_drive              2.0   \n",
              "1               4.0         automatic  front_wheel_drive              4.0   \n",
              "2               4.0         automatic    all_wheel_drive              4.0   \n",
              "3               4.0            manual   rear_wheel_drive              3.0   \n",
              "4               8.0         automatic   four_wheel_drive              4.0   \n",
              "\n",
              "  market_category vehicle_size      vehicle_style  highway_mpg  city_mpg  \\\n",
              "0             NaN      compact              coupe           33        24   \n",
              "1       hatchback      compact      4dr_hatchback           32        25   \n",
              "2       hatchback      compact      4dr_hatchback           37        28   \n",
              "3             NaN        large  passenger_minivan           18        16   \n",
              "4       flex_fuel        large    crew_cab_pickup           21        15   \n",
              "\n",
              "   popularity  num_doors_2  num_doors_3  num_doors_4  \n",
              "0        1385          1.0          0.0          0.0  \n",
              "1        2031          0.0          0.0          1.0  \n",
              "2         640          0.0          0.0          1.0  \n",
              "3         873          0.0          1.0          0.0  \n",
              "4        5657          0.0          0.0          1.0  "
            ],
            "text/html": [
              "\n",
              "  <div id=\"df-cc44f8e9-51d1-4bc7-b35b-c89f7c0acc0f\" class=\"colab-df-container\">\n",
              "    <div>\n",
              "<style scoped>\n",
              "    .dataframe tbody tr th:only-of-type {\n",
              "        vertical-align: middle;\n",
              "    }\n",
              "\n",
              "    .dataframe tbody tr th {\n",
              "        vertical-align: top;\n",
              "    }\n",
              "\n",
              "    .dataframe thead th {\n",
              "        text-align: right;\n",
              "    }\n",
              "</style>\n",
              "<table border=\"1\" class=\"dataframe\">\n",
              "  <thead>\n",
              "    <tr style=\"text-align: right;\">\n",
              "      <th></th>\n",
              "      <th>make</th>\n",
              "      <th>model</th>\n",
              "      <th>year</th>\n",
              "      <th>engine_fuel_type</th>\n",
              "      <th>engine_hp</th>\n",
              "      <th>engine_cylinders</th>\n",
              "      <th>transmission_type</th>\n",
              "      <th>driven_wheels</th>\n",
              "      <th>number_of_doors</th>\n",
              "      <th>market_category</th>\n",
              "      <th>vehicle_size</th>\n",
              "      <th>vehicle_style</th>\n",
              "      <th>highway_mpg</th>\n",
              "      <th>city_mpg</th>\n",
              "      <th>popularity</th>\n",
              "      <th>num_doors_2</th>\n",
              "      <th>num_doors_3</th>\n",
              "      <th>num_doors_4</th>\n",
              "    </tr>\n",
              "  </thead>\n",
              "  <tbody>\n",
              "    <tr>\n",
              "      <th>0</th>\n",
              "      <td>chevrolet</td>\n",
              "      <td>cobalt</td>\n",
              "      <td>2008</td>\n",
              "      <td>regular_unleaded</td>\n",
              "      <td>148.0</td>\n",
              "      <td>4.0</td>\n",
              "      <td>manual</td>\n",
              "      <td>front_wheel_drive</td>\n",
              "      <td>2.0</td>\n",
              "      <td>NaN</td>\n",
              "      <td>compact</td>\n",
              "      <td>coupe</td>\n",
              "      <td>33</td>\n",
              "      <td>24</td>\n",
              "      <td>1385</td>\n",
              "      <td>1.0</td>\n",
              "      <td>0.0</td>\n",
              "      <td>0.0</td>\n",
              "    </tr>\n",
              "    <tr>\n",
              "      <th>1</th>\n",
              "      <td>toyota</td>\n",
              "      <td>matrix</td>\n",
              "      <td>2012</td>\n",
              "      <td>regular_unleaded</td>\n",
              "      <td>132.0</td>\n",
              "      <td>4.0</td>\n",
              "      <td>automatic</td>\n",
              "      <td>front_wheel_drive</td>\n",
              "      <td>4.0</td>\n",
              "      <td>hatchback</td>\n",
              "      <td>compact</td>\n",
              "      <td>4dr_hatchback</td>\n",
              "      <td>32</td>\n",
              "      <td>25</td>\n",
              "      <td>2031</td>\n",
              "      <td>0.0</td>\n",
              "      <td>0.0</td>\n",
              "      <td>1.0</td>\n",
              "    </tr>\n",
              "    <tr>\n",
              "      <th>2</th>\n",
              "      <td>subaru</td>\n",
              "      <td>impreza</td>\n",
              "      <td>2016</td>\n",
              "      <td>regular_unleaded</td>\n",
              "      <td>148.0</td>\n",
              "      <td>4.0</td>\n",
              "      <td>automatic</td>\n",
              "      <td>all_wheel_drive</td>\n",
              "      <td>4.0</td>\n",
              "      <td>hatchback</td>\n",
              "      <td>compact</td>\n",
              "      <td>4dr_hatchback</td>\n",
              "      <td>37</td>\n",
              "      <td>28</td>\n",
              "      <td>640</td>\n",
              "      <td>0.0</td>\n",
              "      <td>0.0</td>\n",
              "      <td>1.0</td>\n",
              "    </tr>\n",
              "    <tr>\n",
              "      <th>3</th>\n",
              "      <td>volkswagen</td>\n",
              "      <td>vanagon</td>\n",
              "      <td>1991</td>\n",
              "      <td>regular_unleaded</td>\n",
              "      <td>90.0</td>\n",
              "      <td>4.0</td>\n",
              "      <td>manual</td>\n",
              "      <td>rear_wheel_drive</td>\n",
              "      <td>3.0</td>\n",
              "      <td>NaN</td>\n",
              "      <td>large</td>\n",
              "      <td>passenger_minivan</td>\n",
              "      <td>18</td>\n",
              "      <td>16</td>\n",
              "      <td>873</td>\n",
              "      <td>0.0</td>\n",
              "      <td>1.0</td>\n",
              "      <td>0.0</td>\n",
              "    </tr>\n",
              "    <tr>\n",
              "      <th>4</th>\n",
              "      <td>ford</td>\n",
              "      <td>f-150</td>\n",
              "      <td>2017</td>\n",
              "      <td>flex-fuel_(unleaded/e85)</td>\n",
              "      <td>385.0</td>\n",
              "      <td>8.0</td>\n",
              "      <td>automatic</td>\n",
              "      <td>four_wheel_drive</td>\n",
              "      <td>4.0</td>\n",
              "      <td>flex_fuel</td>\n",
              "      <td>large</td>\n",
              "      <td>crew_cab_pickup</td>\n",
              "      <td>21</td>\n",
              "      <td>15</td>\n",
              "      <td>5657</td>\n",
              "      <td>0.0</td>\n",
              "      <td>0.0</td>\n",
              "      <td>1.0</td>\n",
              "    </tr>\n",
              "  </tbody>\n",
              "</table>\n",
              "</div>\n",
              "    <div class=\"colab-df-buttons\">\n",
              "\n",
              "  <div class=\"colab-df-container\">\n",
              "    <button class=\"colab-df-convert\" onclick=\"convertToInteractive('df-cc44f8e9-51d1-4bc7-b35b-c89f7c0acc0f')\"\n",
              "            title=\"Convert this dataframe to an interactive table.\"\n",
              "            style=\"display:none;\">\n",
              "\n",
              "  <svg xmlns=\"http://www.w3.org/2000/svg\" height=\"24px\" viewBox=\"0 -960 960 960\">\n",
              "    <path d=\"M120-120v-720h720v720H120Zm60-500h600v-160H180v160Zm220 220h160v-160H400v160Zm0 220h160v-160H400v160ZM180-400h160v-160H180v160Zm440 0h160v-160H620v160ZM180-180h160v-160H180v160Zm440 0h160v-160H620v160Z\"/>\n",
              "  </svg>\n",
              "    </button>\n",
              "\n",
              "  <style>\n",
              "    .colab-df-container {\n",
              "      display:flex;\n",
              "      gap: 12px;\n",
              "    }\n",
              "\n",
              "    .colab-df-convert {\n",
              "      background-color: #E8F0FE;\n",
              "      border: none;\n",
              "      border-radius: 50%;\n",
              "      cursor: pointer;\n",
              "      display: none;\n",
              "      fill: #1967D2;\n",
              "      height: 32px;\n",
              "      padding: 0 0 0 0;\n",
              "      width: 32px;\n",
              "    }\n",
              "\n",
              "    .colab-df-convert:hover {\n",
              "      background-color: #E2EBFA;\n",
              "      box-shadow: 0px 1px 2px rgba(60, 64, 67, 0.3), 0px 1px 3px 1px rgba(60, 64, 67, 0.15);\n",
              "      fill: #174EA6;\n",
              "    }\n",
              "\n",
              "    .colab-df-buttons div {\n",
              "      margin-bottom: 4px;\n",
              "    }\n",
              "\n",
              "    [theme=dark] .colab-df-convert {\n",
              "      background-color: #3B4455;\n",
              "      fill: #D2E3FC;\n",
              "    }\n",
              "\n",
              "    [theme=dark] .colab-df-convert:hover {\n",
              "      background-color: #434B5C;\n",
              "      box-shadow: 0px 1px 3px 1px rgba(0, 0, 0, 0.15);\n",
              "      filter: drop-shadow(0px 1px 2px rgba(0, 0, 0, 0.3));\n",
              "      fill: #FFFFFF;\n",
              "    }\n",
              "  </style>\n",
              "\n",
              "    <script>\n",
              "      const buttonEl =\n",
              "        document.querySelector('#df-cc44f8e9-51d1-4bc7-b35b-c89f7c0acc0f button.colab-df-convert');\n",
              "      buttonEl.style.display =\n",
              "        google.colab.kernel.accessAllowed ? 'block' : 'none';\n",
              "\n",
              "      async function convertToInteractive(key) {\n",
              "        const element = document.querySelector('#df-cc44f8e9-51d1-4bc7-b35b-c89f7c0acc0f');\n",
              "        const dataTable =\n",
              "          await google.colab.kernel.invokeFunction('convertToInteractive',\n",
              "                                                    [key], {});\n",
              "        if (!dataTable) return;\n",
              "\n",
              "        const docLinkHtml = 'Like what you see? Visit the ' +\n",
              "          '<a target=\"_blank\" href=https://colab.research.google.com/notebooks/data_table.ipynb>data table notebook</a>'\n",
              "          + ' to learn more about interactive tables.';\n",
              "        element.innerHTML = '';\n",
              "        dataTable['output_type'] = 'display_data';\n",
              "        await google.colab.output.renderOutput(dataTable, element);\n",
              "        const docLink = document.createElement('div');\n",
              "        docLink.innerHTML = docLinkHtml;\n",
              "        element.appendChild(docLink);\n",
              "      }\n",
              "    </script>\n",
              "  </div>\n",
              "\n",
              "\n",
              "<div id=\"df-9cde7b3b-9d02-46ea-ab7d-afee57cc0cea\">\n",
              "  <button class=\"colab-df-quickchart\" onclick=\"quickchart('df-9cde7b3b-9d02-46ea-ab7d-afee57cc0cea')\"\n",
              "            title=\"Suggest charts.\"\n",
              "            style=\"display:none;\">\n",
              "\n",
              "<svg xmlns=\"http://www.w3.org/2000/svg\" height=\"24px\"viewBox=\"0 0 24 24\"\n",
              "     width=\"24px\">\n",
              "    <g>\n",
              "        <path d=\"M19 3H5c-1.1 0-2 .9-2 2v14c0 1.1.9 2 2 2h14c1.1 0 2-.9 2-2V5c0-1.1-.9-2-2-2zM9 17H7v-7h2v7zm4 0h-2V7h2v10zm4 0h-2v-4h2v4z\"/>\n",
              "    </g>\n",
              "</svg>\n",
              "  </button>\n",
              "\n",
              "<style>\n",
              "  .colab-df-quickchart {\n",
              "      --bg-color: #E8F0FE;\n",
              "      --fill-color: #1967D2;\n",
              "      --hover-bg-color: #E2EBFA;\n",
              "      --hover-fill-color: #174EA6;\n",
              "      --disabled-fill-color: #AAA;\n",
              "      --disabled-bg-color: #DDD;\n",
              "  }\n",
              "\n",
              "  [theme=dark] .colab-df-quickchart {\n",
              "      --bg-color: #3B4455;\n",
              "      --fill-color: #D2E3FC;\n",
              "      --hover-bg-color: #434B5C;\n",
              "      --hover-fill-color: #FFFFFF;\n",
              "      --disabled-bg-color: #3B4455;\n",
              "      --disabled-fill-color: #666;\n",
              "  }\n",
              "\n",
              "  .colab-df-quickchart {\n",
              "    background-color: var(--bg-color);\n",
              "    border: none;\n",
              "    border-radius: 50%;\n",
              "    cursor: pointer;\n",
              "    display: none;\n",
              "    fill: var(--fill-color);\n",
              "    height: 32px;\n",
              "    padding: 0;\n",
              "    width: 32px;\n",
              "  }\n",
              "\n",
              "  .colab-df-quickchart:hover {\n",
              "    background-color: var(--hover-bg-color);\n",
              "    box-shadow: 0 1px 2px rgba(60, 64, 67, 0.3), 0 1px 3px 1px rgba(60, 64, 67, 0.15);\n",
              "    fill: var(--button-hover-fill-color);\n",
              "  }\n",
              "\n",
              "  .colab-df-quickchart-complete:disabled,\n",
              "  .colab-df-quickchart-complete:disabled:hover {\n",
              "    background-color: var(--disabled-bg-color);\n",
              "    fill: var(--disabled-fill-color);\n",
              "    box-shadow: none;\n",
              "  }\n",
              "\n",
              "  .colab-df-spinner {\n",
              "    border: 2px solid var(--fill-color);\n",
              "    border-color: transparent;\n",
              "    border-bottom-color: var(--fill-color);\n",
              "    animation:\n",
              "      spin 1s steps(1) infinite;\n",
              "  }\n",
              "\n",
              "  @keyframes spin {\n",
              "    0% {\n",
              "      border-color: transparent;\n",
              "      border-bottom-color: var(--fill-color);\n",
              "      border-left-color: var(--fill-color);\n",
              "    }\n",
              "    20% {\n",
              "      border-color: transparent;\n",
              "      border-left-color: var(--fill-color);\n",
              "      border-top-color: var(--fill-color);\n",
              "    }\n",
              "    30% {\n",
              "      border-color: transparent;\n",
              "      border-left-color: var(--fill-color);\n",
              "      border-top-color: var(--fill-color);\n",
              "      border-right-color: var(--fill-color);\n",
              "    }\n",
              "    40% {\n",
              "      border-color: transparent;\n",
              "      border-right-color: var(--fill-color);\n",
              "      border-top-color: var(--fill-color);\n",
              "    }\n",
              "    60% {\n",
              "      border-color: transparent;\n",
              "      border-right-color: var(--fill-color);\n",
              "    }\n",
              "    80% {\n",
              "      border-color: transparent;\n",
              "      border-right-color: var(--fill-color);\n",
              "      border-bottom-color: var(--fill-color);\n",
              "    }\n",
              "    90% {\n",
              "      border-color: transparent;\n",
              "      border-bottom-color: var(--fill-color);\n",
              "    }\n",
              "  }\n",
              "</style>\n",
              "\n",
              "  <script>\n",
              "    async function quickchart(key) {\n",
              "      const quickchartButtonEl =\n",
              "        document.querySelector('#' + key + ' button');\n",
              "      quickchartButtonEl.disabled = true;  // To prevent multiple clicks.\n",
              "      quickchartButtonEl.classList.add('colab-df-spinner');\n",
              "      try {\n",
              "        const charts = await google.colab.kernel.invokeFunction(\n",
              "            'suggestCharts', [key], {});\n",
              "      } catch (error) {\n",
              "        console.error('Error during call to suggestCharts:', error);\n",
              "      }\n",
              "      quickchartButtonEl.classList.remove('colab-df-spinner');\n",
              "      quickchartButtonEl.classList.add('colab-df-quickchart-complete');\n",
              "    }\n",
              "    (() => {\n",
              "      let quickchartButtonEl =\n",
              "        document.querySelector('#df-9cde7b3b-9d02-46ea-ab7d-afee57cc0cea button');\n",
              "      quickchartButtonEl.style.display =\n",
              "        google.colab.kernel.accessAllowed ? 'block' : 'none';\n",
              "    })();\n",
              "  </script>\n",
              "</div>\n",
              "    </div>\n",
              "  </div>\n"
            ]
          },
          "metadata": {},
          "execution_count": 93
        }
      ]
    },
    {
      "cell_type": "code",
      "source": [
        "xFullTrain = prepareX(dfFullTrain)\n",
        "xFullTrain"
      ],
      "metadata": {
        "colab": {
          "base_uri": "https://localhost:8080/"
        },
        "id": "aqe8jflEI3jM",
        "outputId": "3719c8ec-a656-4070-c8d6-2dcb8325af21"
      },
      "execution_count": null,
      "outputs": [
        {
          "output_type": "execute_result",
          "data": {
            "text/plain": [
              "array([[148.,   4.,  33., ...,   1.,   0.,   0.],\n",
              "       [132.,   4.,  32., ...,   0.,   0.,   1.],\n",
              "       [148.,   4.,  37., ...,   0.,   0.,   1.],\n",
              "       ...,\n",
              "       [332.,   8.,  23., ...,   0.,   0.,   0.],\n",
              "       [148.,   4.,  34., ...,   0.,   0.,   0.],\n",
              "       [290.,   6.,  25., ...,   0.,   0.,   0.]])"
            ]
          },
          "metadata": {},
          "execution_count": 95
        }
      ]
    },
    {
      "cell_type": "code",
      "source": [
        "yFullTrain = np.concatenate([yTrain,yVal])\n",
        "yFullTrain"
      ],
      "metadata": {
        "colab": {
          "base_uri": "https://localhost:8080/"
        },
        "id": "JIFK0v4pI89R",
        "outputId": "2ff59904-2d02-4c11-b669-c5ad9df3aa30"
      },
      "execution_count": null,
      "outputs": [
        {
          "output_type": "execute_result",
          "data": {
            "text/plain": [
              "array([ 9.57574708,  9.887663  ,  9.89323518, ..., 11.21756062,\n",
              "        9.77542688, 10.1924563 ])"
            ]
          },
          "metadata": {},
          "execution_count": 98
        }
      ]
    },
    {
      "cell_type": "code",
      "source": [
        "w0,w = trainLinRegresRes(xFullTrain, yFullTrain,r=0.01)"
      ],
      "metadata": {
        "id": "BVHiEM6gJUnC"
      },
      "execution_count": null,
      "outputs": []
    },
    {
      "cell_type": "code",
      "source": [
        "xTest = prepareX(dfTest)\n",
        "\n",
        "yPred = w0 + xTest.dot(w)\n",
        "\n",
        "score = rmse(yTest,yPred)\n",
        "score"
      ],
      "metadata": {
        "colab": {
          "base_uri": "https://localhost:8080/"
        },
        "id": "4-JJk6E9JaK-",
        "outputId": "91f18bb4-f49a-40c0-dc4d-3f0578ed5f7b"
      },
      "execution_count": null,
      "outputs": [
        {
          "output_type": "execute_result",
          "data": {
            "text/plain": [
              "0.45719061701752084"
            ]
          },
          "metadata": {},
          "execution_count": 101
        }
      ]
    },
    {
      "cell_type": "code",
      "source": [
        "car = dfTest.iloc[20].to_dict()\n",
        "car"
      ],
      "metadata": {
        "colab": {
          "base_uri": "https://localhost:8080/"
        },
        "id": "17qbU6y8J5CY",
        "outputId": "401aaf3f-1aac-4de1-c93d-b4dd68312bde"
      },
      "execution_count": null,
      "outputs": [
        {
          "output_type": "execute_result",
          "data": {
            "text/plain": [
              "{'make': 'toyota',\n",
              " 'model': 'sienna',\n",
              " 'year': 2015,\n",
              " 'engine_fuel_type': 'regular_unleaded',\n",
              " 'engine_hp': 266.0,\n",
              " 'engine_cylinders': 6.0,\n",
              " 'transmission_type': 'automatic',\n",
              " 'driven_wheels': 'front_wheel_drive',\n",
              " 'number_of_doors': 4.0,\n",
              " 'market_category': nan,\n",
              " 'vehicle_size': 'large',\n",
              " 'vehicle_style': 'passenger_minivan',\n",
              " 'highway_mpg': 25,\n",
              " 'city_mpg': 18,\n",
              " 'popularity': 2031}"
            ]
          },
          "metadata": {},
          "execution_count": 103
        }
      ]
    },
    {
      "cell_type": "code",
      "source": [
        "dfSmall = pd.DataFrame([car])\n",
        "xSmall = prepareX(dfSmall)"
      ],
      "metadata": {
        "id": "i9CNQmvBKTti"
      },
      "execution_count": null,
      "outputs": []
    },
    {
      "cell_type": "code",
      "source": [
        "yPred = w0 + xSmall.dot(w)\n",
        "yPred = yPred[0]\n",
        "yPred"
      ],
      "metadata": {
        "colab": {
          "base_uri": "https://localhost:8080/"
        },
        "id": "IT9c4R1oLIH3",
        "outputId": "5b8e69a3-d758-4024-bf04-8edcba80ed95"
      },
      "execution_count": null,
      "outputs": [
        {
          "output_type": "execute_result",
          "data": {
            "text/plain": [
              "10.367465695910326"
            ]
          },
          "metadata": {},
          "execution_count": 112
        }
      ]
    },
    {
      "cell_type": "code",
      "source": [
        "np.expm1(yPred)"
      ],
      "metadata": {
        "colab": {
          "base_uri": "https://localhost:8080/"
        },
        "id": "wlwANPX0LO3V",
        "outputId": "b51d58d8-30b5-4706-b558-3ac1b2bf7475"
      },
      "execution_count": null,
      "outputs": [
        {
          "output_type": "execute_result",
          "data": {
            "text/plain": [
              "31806.764190803733"
            ]
          },
          "metadata": {},
          "execution_count": 113
        }
      ]
    }
  ]
}