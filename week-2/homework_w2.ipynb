{
  "nbformat": 4,
  "nbformat_minor": 0,
  "metadata": {
    "colab": {
      "provenance": [],
      "authorship_tag": "ABX9TyMJaKW0/t52zTdFOwBflYza",
      "include_colab_link": true
    },
    "kernelspec": {
      "name": "python3",
      "display_name": "Python 3"
    },
    "language_info": {
      "name": "python"
    }
  },
  "cells": [
    {
      "cell_type": "markdown",
      "metadata": {
        "id": "view-in-github",
        "colab_type": "text"
      },
      "source": [
        "<a href=\"https://colab.research.google.com/github/theopenhighway/machinelearning-zoomcamp/blob/main/homework_w2.ipynb\" target=\"_parent\"><img src=\"https://colab.research.google.com/assets/colab-badge.svg\" alt=\"Open In Colab\"/></a>"
      ]
    },
    {
      "cell_type": "markdown",
      "source": [
        "Create a regression model for predicting housing prices (column median_house_value)"
      ],
      "metadata": {
        "id": "vg0p3eWeJ5MW"
      }
    },
    {
      "cell_type": "code",
      "execution_count": 136,
      "metadata": {
        "id": "H6y5DApRITte"
      },
      "outputs": [],
      "source": [
        "import pandas as pd\n",
        "import numpy as np\n",
        "import matplotlib.pyplot as ply\n",
        "import seaborn as sns\n",
        "\n",
        "%matplotlib inline"
      ]
    },
    {
      "cell_type": "code",
      "source": [
        "df = pd.read_csv('https://raw.githubusercontent.com/alexeygrigorev/datasets/master/housing.csv')"
      ],
      "metadata": {
        "id": "VSuCfhO1Jr7c"
      },
      "execution_count": 137,
      "outputs": []
    },
    {
      "cell_type": "code",
      "source": [
        "df.head()"
      ],
      "metadata": {
        "colab": {
          "base_uri": "https://localhost:8080/",
          "height": 226
        },
        "id": "NY6YwUtxJx2S",
        "outputId": "78648445-5f2a-4bc8-8c90-439375e5ad46"
      },
      "execution_count": 138,
      "outputs": [
        {
          "output_type": "execute_result",
          "data": {
            "text/plain": [
              "   longitude  latitude  housing_median_age  total_rooms  total_bedrooms  \\\n",
              "0    -122.23     37.88                41.0        880.0           129.0   \n",
              "1    -122.22     37.86                21.0       7099.0          1106.0   \n",
              "2    -122.24     37.85                52.0       1467.0           190.0   \n",
              "3    -122.25     37.85                52.0       1274.0           235.0   \n",
              "4    -122.25     37.85                52.0       1627.0           280.0   \n",
              "\n",
              "   population  households  median_income  median_house_value ocean_proximity  \n",
              "0       322.0       126.0         8.3252            452600.0        NEAR BAY  \n",
              "1      2401.0      1138.0         8.3014            358500.0        NEAR BAY  \n",
              "2       496.0       177.0         7.2574            352100.0        NEAR BAY  \n",
              "3       558.0       219.0         5.6431            341300.0        NEAR BAY  \n",
              "4       565.0       259.0         3.8462            342200.0        NEAR BAY  "
            ],
            "text/html": [
              "\n",
              "  <div id=\"df-da97fb84-c388-4ca0-b39e-949e6d2d925f\" class=\"colab-df-container\">\n",
              "    <div>\n",
              "<style scoped>\n",
              "    .dataframe tbody tr th:only-of-type {\n",
              "        vertical-align: middle;\n",
              "    }\n",
              "\n",
              "    .dataframe tbody tr th {\n",
              "        vertical-align: top;\n",
              "    }\n",
              "\n",
              "    .dataframe thead th {\n",
              "        text-align: right;\n",
              "    }\n",
              "</style>\n",
              "<table border=\"1\" class=\"dataframe\">\n",
              "  <thead>\n",
              "    <tr style=\"text-align: right;\">\n",
              "      <th></th>\n",
              "      <th>longitude</th>\n",
              "      <th>latitude</th>\n",
              "      <th>housing_median_age</th>\n",
              "      <th>total_rooms</th>\n",
              "      <th>total_bedrooms</th>\n",
              "      <th>population</th>\n",
              "      <th>households</th>\n",
              "      <th>median_income</th>\n",
              "      <th>median_house_value</th>\n",
              "      <th>ocean_proximity</th>\n",
              "    </tr>\n",
              "  </thead>\n",
              "  <tbody>\n",
              "    <tr>\n",
              "      <th>0</th>\n",
              "      <td>-122.23</td>\n",
              "      <td>37.88</td>\n",
              "      <td>41.0</td>\n",
              "      <td>880.0</td>\n",
              "      <td>129.0</td>\n",
              "      <td>322.0</td>\n",
              "      <td>126.0</td>\n",
              "      <td>8.3252</td>\n",
              "      <td>452600.0</td>\n",
              "      <td>NEAR BAY</td>\n",
              "    </tr>\n",
              "    <tr>\n",
              "      <th>1</th>\n",
              "      <td>-122.22</td>\n",
              "      <td>37.86</td>\n",
              "      <td>21.0</td>\n",
              "      <td>7099.0</td>\n",
              "      <td>1106.0</td>\n",
              "      <td>2401.0</td>\n",
              "      <td>1138.0</td>\n",
              "      <td>8.3014</td>\n",
              "      <td>358500.0</td>\n",
              "      <td>NEAR BAY</td>\n",
              "    </tr>\n",
              "    <tr>\n",
              "      <th>2</th>\n",
              "      <td>-122.24</td>\n",
              "      <td>37.85</td>\n",
              "      <td>52.0</td>\n",
              "      <td>1467.0</td>\n",
              "      <td>190.0</td>\n",
              "      <td>496.0</td>\n",
              "      <td>177.0</td>\n",
              "      <td>7.2574</td>\n",
              "      <td>352100.0</td>\n",
              "      <td>NEAR BAY</td>\n",
              "    </tr>\n",
              "    <tr>\n",
              "      <th>3</th>\n",
              "      <td>-122.25</td>\n",
              "      <td>37.85</td>\n",
              "      <td>52.0</td>\n",
              "      <td>1274.0</td>\n",
              "      <td>235.0</td>\n",
              "      <td>558.0</td>\n",
              "      <td>219.0</td>\n",
              "      <td>5.6431</td>\n",
              "      <td>341300.0</td>\n",
              "      <td>NEAR BAY</td>\n",
              "    </tr>\n",
              "    <tr>\n",
              "      <th>4</th>\n",
              "      <td>-122.25</td>\n",
              "      <td>37.85</td>\n",
              "      <td>52.0</td>\n",
              "      <td>1627.0</td>\n",
              "      <td>280.0</td>\n",
              "      <td>565.0</td>\n",
              "      <td>259.0</td>\n",
              "      <td>3.8462</td>\n",
              "      <td>342200.0</td>\n",
              "      <td>NEAR BAY</td>\n",
              "    </tr>\n",
              "  </tbody>\n",
              "</table>\n",
              "</div>\n",
              "    <div class=\"colab-df-buttons\">\n",
              "\n",
              "  <div class=\"colab-df-container\">\n",
              "    <button class=\"colab-df-convert\" onclick=\"convertToInteractive('df-da97fb84-c388-4ca0-b39e-949e6d2d925f')\"\n",
              "            title=\"Convert this dataframe to an interactive table.\"\n",
              "            style=\"display:none;\">\n",
              "\n",
              "  <svg xmlns=\"http://www.w3.org/2000/svg\" height=\"24px\" viewBox=\"0 -960 960 960\">\n",
              "    <path d=\"M120-120v-720h720v720H120Zm60-500h600v-160H180v160Zm220 220h160v-160H400v160Zm0 220h160v-160H400v160ZM180-400h160v-160H180v160Zm440 0h160v-160H620v160ZM180-180h160v-160H180v160Zm440 0h160v-160H620v160Z\"/>\n",
              "  </svg>\n",
              "    </button>\n",
              "\n",
              "  <style>\n",
              "    .colab-df-container {\n",
              "      display:flex;\n",
              "      gap: 12px;\n",
              "    }\n",
              "\n",
              "    .colab-df-convert {\n",
              "      background-color: #E8F0FE;\n",
              "      border: none;\n",
              "      border-radius: 50%;\n",
              "      cursor: pointer;\n",
              "      display: none;\n",
              "      fill: #1967D2;\n",
              "      height: 32px;\n",
              "      padding: 0 0 0 0;\n",
              "      width: 32px;\n",
              "    }\n",
              "\n",
              "    .colab-df-convert:hover {\n",
              "      background-color: #E2EBFA;\n",
              "      box-shadow: 0px 1px 2px rgba(60, 64, 67, 0.3), 0px 1px 3px 1px rgba(60, 64, 67, 0.15);\n",
              "      fill: #174EA6;\n",
              "    }\n",
              "\n",
              "    .colab-df-buttons div {\n",
              "      margin-bottom: 4px;\n",
              "    }\n",
              "\n",
              "    [theme=dark] .colab-df-convert {\n",
              "      background-color: #3B4455;\n",
              "      fill: #D2E3FC;\n",
              "    }\n",
              "\n",
              "    [theme=dark] .colab-df-convert:hover {\n",
              "      background-color: #434B5C;\n",
              "      box-shadow: 0px 1px 3px 1px rgba(0, 0, 0, 0.15);\n",
              "      filter: drop-shadow(0px 1px 2px rgba(0, 0, 0, 0.3));\n",
              "      fill: #FFFFFF;\n",
              "    }\n",
              "  </style>\n",
              "\n",
              "    <script>\n",
              "      const buttonEl =\n",
              "        document.querySelector('#df-da97fb84-c388-4ca0-b39e-949e6d2d925f button.colab-df-convert');\n",
              "      buttonEl.style.display =\n",
              "        google.colab.kernel.accessAllowed ? 'block' : 'none';\n",
              "\n",
              "      async function convertToInteractive(key) {\n",
              "        const element = document.querySelector('#df-da97fb84-c388-4ca0-b39e-949e6d2d925f');\n",
              "        const dataTable =\n",
              "          await google.colab.kernel.invokeFunction('convertToInteractive',\n",
              "                                                    [key], {});\n",
              "        if (!dataTable) return;\n",
              "\n",
              "        const docLinkHtml = 'Like what you see? Visit the ' +\n",
              "          '<a target=\"_blank\" href=https://colab.research.google.com/notebooks/data_table.ipynb>data table notebook</a>'\n",
              "          + ' to learn more about interactive tables.';\n",
              "        element.innerHTML = '';\n",
              "        dataTable['output_type'] = 'display_data';\n",
              "        await google.colab.output.renderOutput(dataTable, element);\n",
              "        const docLink = document.createElement('div');\n",
              "        docLink.innerHTML = docLinkHtml;\n",
              "        element.appendChild(docLink);\n",
              "      }\n",
              "    </script>\n",
              "  </div>\n",
              "\n",
              "\n",
              "<div id=\"df-a2a4e4f5-8aed-47f2-ada2-d3666c6dd06d\">\n",
              "  <button class=\"colab-df-quickchart\" onclick=\"quickchart('df-a2a4e4f5-8aed-47f2-ada2-d3666c6dd06d')\"\n",
              "            title=\"Suggest charts.\"\n",
              "            style=\"display:none;\">\n",
              "\n",
              "<svg xmlns=\"http://www.w3.org/2000/svg\" height=\"24px\"viewBox=\"0 0 24 24\"\n",
              "     width=\"24px\">\n",
              "    <g>\n",
              "        <path d=\"M19 3H5c-1.1 0-2 .9-2 2v14c0 1.1.9 2 2 2h14c1.1 0 2-.9 2-2V5c0-1.1-.9-2-2-2zM9 17H7v-7h2v7zm4 0h-2V7h2v10zm4 0h-2v-4h2v4z\"/>\n",
              "    </g>\n",
              "</svg>\n",
              "  </button>\n",
              "\n",
              "<style>\n",
              "  .colab-df-quickchart {\n",
              "      --bg-color: #E8F0FE;\n",
              "      --fill-color: #1967D2;\n",
              "      --hover-bg-color: #E2EBFA;\n",
              "      --hover-fill-color: #174EA6;\n",
              "      --disabled-fill-color: #AAA;\n",
              "      --disabled-bg-color: #DDD;\n",
              "  }\n",
              "\n",
              "  [theme=dark] .colab-df-quickchart {\n",
              "      --bg-color: #3B4455;\n",
              "      --fill-color: #D2E3FC;\n",
              "      --hover-bg-color: #434B5C;\n",
              "      --hover-fill-color: #FFFFFF;\n",
              "      --disabled-bg-color: #3B4455;\n",
              "      --disabled-fill-color: #666;\n",
              "  }\n",
              "\n",
              "  .colab-df-quickchart {\n",
              "    background-color: var(--bg-color);\n",
              "    border: none;\n",
              "    border-radius: 50%;\n",
              "    cursor: pointer;\n",
              "    display: none;\n",
              "    fill: var(--fill-color);\n",
              "    height: 32px;\n",
              "    padding: 0;\n",
              "    width: 32px;\n",
              "  }\n",
              "\n",
              "  .colab-df-quickchart:hover {\n",
              "    background-color: var(--hover-bg-color);\n",
              "    box-shadow: 0 1px 2px rgba(60, 64, 67, 0.3), 0 1px 3px 1px rgba(60, 64, 67, 0.15);\n",
              "    fill: var(--button-hover-fill-color);\n",
              "  }\n",
              "\n",
              "  .colab-df-quickchart-complete:disabled,\n",
              "  .colab-df-quickchart-complete:disabled:hover {\n",
              "    background-color: var(--disabled-bg-color);\n",
              "    fill: var(--disabled-fill-color);\n",
              "    box-shadow: none;\n",
              "  }\n",
              "\n",
              "  .colab-df-spinner {\n",
              "    border: 2px solid var(--fill-color);\n",
              "    border-color: transparent;\n",
              "    border-bottom-color: var(--fill-color);\n",
              "    animation:\n",
              "      spin 1s steps(1) infinite;\n",
              "  }\n",
              "\n",
              "  @keyframes spin {\n",
              "    0% {\n",
              "      border-color: transparent;\n",
              "      border-bottom-color: var(--fill-color);\n",
              "      border-left-color: var(--fill-color);\n",
              "    }\n",
              "    20% {\n",
              "      border-color: transparent;\n",
              "      border-left-color: var(--fill-color);\n",
              "      border-top-color: var(--fill-color);\n",
              "    }\n",
              "    30% {\n",
              "      border-color: transparent;\n",
              "      border-left-color: var(--fill-color);\n",
              "      border-top-color: var(--fill-color);\n",
              "      border-right-color: var(--fill-color);\n",
              "    }\n",
              "    40% {\n",
              "      border-color: transparent;\n",
              "      border-right-color: var(--fill-color);\n",
              "      border-top-color: var(--fill-color);\n",
              "    }\n",
              "    60% {\n",
              "      border-color: transparent;\n",
              "      border-right-color: var(--fill-color);\n",
              "    }\n",
              "    80% {\n",
              "      border-color: transparent;\n",
              "      border-right-color: var(--fill-color);\n",
              "      border-bottom-color: var(--fill-color);\n",
              "    }\n",
              "    90% {\n",
              "      border-color: transparent;\n",
              "      border-bottom-color: var(--fill-color);\n",
              "    }\n",
              "  }\n",
              "</style>\n",
              "\n",
              "  <script>\n",
              "    async function quickchart(key) {\n",
              "      const quickchartButtonEl =\n",
              "        document.querySelector('#' + key + ' button');\n",
              "      quickchartButtonEl.disabled = true;  // To prevent multiple clicks.\n",
              "      quickchartButtonEl.classList.add('colab-df-spinner');\n",
              "      try {\n",
              "        const charts = await google.colab.kernel.invokeFunction(\n",
              "            'suggestCharts', [key], {});\n",
              "      } catch (error) {\n",
              "        console.error('Error during call to suggestCharts:', error);\n",
              "      }\n",
              "      quickchartButtonEl.classList.remove('colab-df-spinner');\n",
              "      quickchartButtonEl.classList.add('colab-df-quickchart-complete');\n",
              "    }\n",
              "    (() => {\n",
              "      let quickchartButtonEl =\n",
              "        document.querySelector('#df-a2a4e4f5-8aed-47f2-ada2-d3666c6dd06d button');\n",
              "      quickchartButtonEl.style.display =\n",
              "        google.colab.kernel.accessAllowed ? 'block' : 'none';\n",
              "    })();\n",
              "  </script>\n",
              "</div>\n",
              "    </div>\n",
              "  </div>\n"
            ]
          },
          "metadata": {},
          "execution_count": 138
        }
      ]
    },
    {
      "cell_type": "markdown",
      "source": [
        "## EDA\n",
        "\n",
        "    Load the data.\n",
        "    Look at the median_house_value variable. Does it have a long tail?\n"
      ],
      "metadata": {
        "id": "aCrkaQmiJ2zi"
      }
    },
    {
      "cell_type": "code",
      "source": [
        "sns.distplot(df.median_house_value)"
      ],
      "metadata": {
        "colab": {
          "base_uri": "https://localhost:8080/",
          "height": 673
        },
        "id": "kjQJIQMCKHpT",
        "outputId": "e7d7275a-9d84-49a1-bc14-9ade21b399f5"
      },
      "execution_count": 139,
      "outputs": [
        {
          "output_type": "stream",
          "name": "stderr",
          "text": [
            "<ipython-input-139-13af495c6d13>:1: UserWarning: \n",
            "\n",
            "`distplot` is a deprecated function and will be removed in seaborn v0.14.0.\n",
            "\n",
            "Please adapt your code to use either `displot` (a figure-level function with\n",
            "similar flexibility) or `histplot` (an axes-level function for histograms).\n",
            "\n",
            "For a guide to updating your code to use the new functions, please see\n",
            "https://gist.github.com/mwaskom/de44147ed2974457ad6372750bbe5751\n",
            "\n",
            "  sns.distplot(df.median_house_value)\n"
          ]
        },
        {
          "output_type": "execute_result",
          "data": {
            "text/plain": [
              "<Axes: xlabel='median_house_value', ylabel='Density'>"
            ]
          },
          "metadata": {},
          "execution_count": 139
        },
        {
          "output_type": "display_data",
          "data": {
            "text/plain": [
              "<Figure size 640x480 with 1 Axes>"
            ],
            "image/png": "[encoded data removed]"
          },
          "metadata": {}
        }
      ]
    },
    {
      "cell_type": "markdown",
      "source": [
        "## Preparing the Dataset"
      ],
      "metadata": {
        "id": "aZt4LBtwOPPs"
      }
    },
    {
      "cell_type": "code",
      "source": [
        "cc = ['latitude', 'longitude', 'housing_median_age', 'total_rooms', 'total_bedrooms', 'population', 'households', 'median_income', 'median_house_value']"
      ],
      "metadata": {
        "id": "ry1amu1hNYr3"
      },
      "execution_count": 140,
      "outputs": []
    },
    {
      "cell_type": "code",
      "source": [
        "df2 = df[cc][(df.ocean_proximity == '<1H OCEAN') | (df.ocean_proximity == 'INLAND')]\n",
        "df2"
      ],
      "metadata": {
        "colab": {
          "base_uri": "https://localhost:8080/",
          "height": 444
        },
        "id": "zMABIcTbOt1S",
        "outputId": "c9b5a909-fe12-453b-dc7e-3e12021e7e90"
      },
      "execution_count": 141,
      "outputs": [
        {
          "output_type": "execute_result",
          "data": {
            "text/plain": [
              "       latitude  longitude  housing_median_age  total_rooms  total_bedrooms  \\\n",
              "701       37.64    -121.97                32.0       1283.0           194.0   \n",
              "830       37.61    -121.99                 9.0       3666.0           711.0   \n",
              "859       37.57    -121.97                21.0       4342.0           783.0   \n",
              "860       37.58    -121.96                15.0       3575.0           597.0   \n",
              "861       37.58    -121.98                20.0       4126.0          1031.0   \n",
              "...         ...        ...                 ...          ...             ...   \n",
              "20635     39.48    -121.09                25.0       1665.0           374.0   \n",
              "20636     39.49    -121.21                18.0        697.0           150.0   \n",
              "20637     39.43    -121.22                17.0       2254.0           485.0   \n",
              "20638     39.43    -121.32                18.0       1860.0           409.0   \n",
              "20639     39.37    -121.24                16.0       2785.0           616.0   \n",
              "\n",
              "       population  households  median_income  median_house_value  \n",
              "701         485.0       171.0         6.0574            431000.0  \n",
              "830        2341.0       703.0         4.6458            217000.0  \n",
              "859        2172.0       789.0         4.6146            247600.0  \n",
              "860        1777.0       559.0         5.7192            283500.0  \n",
              "861        2079.0       975.0         3.6832            216900.0  \n",
              "...           ...         ...            ...                 ...  \n",
              "20635       845.0       330.0         1.5603             78100.0  \n",
              "20636       356.0       114.0         2.5568             77100.0  \n",
              "20637      1007.0       433.0         1.7000             92300.0  \n",
              "20638       741.0       349.0         1.8672             84700.0  \n",
              "20639      1387.0       530.0         2.3886             89400.0  \n",
              "\n",
              "[15687 rows x 9 columns]"
            ],
            "text/html": [
              "\n",
              "  <div id=\"df-22cf8d77-c4c5-42c0-a478-917ad30dc601\" class=\"colab-df-container\">\n",
              "    <div>\n",
              "<style scoped>\n",
              "    .dataframe tbody tr th:only-of-type {\n",
              "        vertical-align: middle;\n",
              "    }\n",
              "\n",
              "    .dataframe tbody tr th {\n",
              "        vertical-align: top;\n",
              "    }\n",
              "\n",
              "    .dataframe thead th {\n",
              "        text-align: right;\n",
              "    }\n",
              "</style>\n",
              "<table border=\"1\" class=\"dataframe\">\n",
              "  <thead>\n",
              "    <tr style=\"text-align: right;\">\n",
              "      <th></th>\n",
              "      <th>latitude</th>\n",
              "      <th>longitude</th>\n",
              "      <th>housing_median_age</th>\n",
              "      <th>total_rooms</th>\n",
              "      <th>total_bedrooms</th>\n",
              "      <th>population</th>\n",
              "      <th>households</th>\n",
              "      <th>median_income</th>\n",
              "      <th>median_house_value</th>\n",
              "    </tr>\n",
              "  </thead>\n",
              "  <tbody>\n",
              "    <tr>\n",
              "      <th>701</th>\n",
              "      <td>37.64</td>\n",
              "      <td>-121.97</td>\n",
              "      <td>32.0</td>\n",
              "      <td>1283.0</td>\n",
              "      <td>194.0</td>\n",
              "      <td>485.0</td>\n",
              "      <td>171.0</td>\n",
              "      <td>6.0574</td>\n",
              "      <td>431000.0</td>\n",
              "    </tr>\n",
              "    <tr>\n",
              "      <th>830</th>\n",
              "      <td>37.61</td>\n",
              "      <td>-121.99</td>\n",
              "      <td>9.0</td>\n",
              "      <td>3666.0</td>\n",
              "      <td>711.0</td>\n",
              "      <td>2341.0</td>\n",
              "      <td>703.0</td>\n",
              "      <td>4.6458</td>\n",
              "      <td>217000.0</td>\n",
              "    </tr>\n",
              "    <tr>\n",
              "      <th>859</th>\n",
              "      <td>37.57</td>\n",
              "      <td>-121.97</td>\n",
              "      <td>21.0</td>\n",
              "      <td>4342.0</td>\n",
              "      <td>783.0</td>\n",
              "      <td>2172.0</td>\n",
              "      <td>789.0</td>\n",
              "      <td>4.6146</td>\n",
              "      <td>247600.0</td>\n",
              "    </tr>\n",
              "    <tr>\n",
              "      <th>860</th>\n",
              "      <td>37.58</td>\n",
              "      <td>-121.96</td>\n",
              "      <td>15.0</td>\n",
              "      <td>3575.0</td>\n",
              "      <td>597.0</td>\n",
              "      <td>1777.0</td>\n",
              "      <td>559.0</td>\n",
              "      <td>5.7192</td>\n",
              "      <td>283500.0</td>\n",
              "    </tr>\n",
              "    <tr>\n",
              "      <th>861</th>\n",
              "      <td>37.58</td>\n",
              "      <td>-121.98</td>\n",
              "      <td>20.0</td>\n",
              "      <td>4126.0</td>\n",
              "      <td>1031.0</td>\n",
              "      <td>2079.0</td>\n",
              "      <td>975.0</td>\n",
              "      <td>3.6832</td>\n",
              "      <td>216900.0</td>\n",
              "    </tr>\n",
              "    <tr>\n",
              "      <th>...</th>\n",
              "      <td>...</td>\n",
              "      <td>...</td>\n",
              "      <td>...</td>\n",
              "      <td>...</td>\n",
              "      <td>...</td>\n",
              "      <td>...</td>\n",
              "      <td>...</td>\n",
              "      <td>...</td>\n",
              "      <td>...</td>\n",
              "    </tr>\n",
              "    <tr>\n",
              "      <th>20635</th>\n",
              "      <td>39.48</td>\n",
              "      <td>-121.09</td>\n",
              "      <td>25.0</td>\n",
              "      <td>1665.0</td>\n",
              "      <td>374.0</td>\n",
              "      <td>845.0</td>\n",
              "      <td>330.0</td>\n",
              "      <td>1.5603</td>\n",
              "      <td>78100.0</td>\n",
              "    </tr>\n",
              "    <tr>\n",
              "      <th>20636</th>\n",
              "      <td>39.49</td>\n",
              "      <td>-121.21</td>\n",
              "      <td>18.0</td>\n",
              "      <td>697.0</td>\n",
              "      <td>150.0</td>\n",
              "      <td>356.0</td>\n",
              "      <td>114.0</td>\n",
              "      <td>2.5568</td>\n",
              "      <td>77100.0</td>\n",
              "    </tr>\n",
              "    <tr>\n",
              "      <th>20637</th>\n",
              "      <td>39.43</td>\n",
              "      <td>-121.22</td>\n",
              "      <td>17.0</td>\n",
              "      <td>2254.0</td>\n",
              "      <td>485.0</td>\n",
              "      <td>1007.0</td>\n",
              "      <td>433.0</td>\n",
              "      <td>1.7000</td>\n",
              "      <td>92300.0</td>\n",
              "    </tr>\n",
              "    <tr>\n",
              "      <th>20638</th>\n",
              "      <td>39.43</td>\n",
              "      <td>-121.32</td>\n",
              "      <td>18.0</td>\n",
              "      <td>1860.0</td>\n",
              "      <td>409.0</td>\n",
              "      <td>741.0</td>\n",
              "      <td>349.0</td>\n",
              "      <td>1.8672</td>\n",
              "      <td>84700.0</td>\n",
              "    </tr>\n",
              "    <tr>\n",
              "      <th>20639</th>\n",
              "      <td>39.37</td>\n",
              "      <td>-121.24</td>\n",
              "      <td>16.0</td>\n",
              "      <td>2785.0</td>\n",
              "      <td>616.0</td>\n",
              "      <td>1387.0</td>\n",
              "      <td>530.0</td>\n",
              "      <td>2.3886</td>\n",
              "      <td>89400.0</td>\n",
              "    </tr>\n",
              "  </tbody>\n",
              "</table>\n",
              "<p>15687 rows × 9 columns</p>\n",
              "</div>\n",
              "    <div class=\"colab-df-buttons\">\n",
              "\n",
              "  <div class=\"colab-df-container\">\n",
              "    <button class=\"colab-df-convert\" onclick=\"convertToInteractive('df-22cf8d77-c4c5-42c0-a478-917ad30dc601')\"\n",
              "            title=\"Convert this dataframe to an interactive table.\"\n",
              "            style=\"display:none;\">\n",
              "\n",
              "  <svg xmlns=\"http://www.w3.org/2000/svg\" height=\"24px\" viewBox=\"0 -960 960 960\">\n",
              "    <path d=\"M120-120v-720h720v720H120Zm60-500h600v-160H180v160Zm220 220h160v-160H400v160Zm0 220h160v-160H400v160ZM180-400h160v-160H180v160Zm440 0h160v-160H620v160ZM180-180h160v-160H180v160Zm440 0h160v-160H620v160Z\"/>\n",
              "  </svg>\n",
              "    </button>\n",
              "\n",
              "  <style>\n",
              "    .colab-df-container {\n",
              "      display:flex;\n",
              "      gap: 12px;\n",
              "    }\n",
              "\n",
              "    .colab-df-convert {\n",
              "      background-color: #E8F0FE;\n",
              "      border: none;\n",
              "      border-radius: 50%;\n",
              "      cursor: pointer;\n",
              "      display: none;\n",
              "      fill: #1967D2;\n",
              "      height: 32px;\n",
              "      padding: 0 0 0 0;\n",
              "      width: 32px;\n",
              "    }\n",
              "\n",
              "    .colab-df-convert:hover {\n",
              "      background-color: #E2EBFA;\n",
              "      box-shadow: 0px 1px 2px rgba(60, 64, 67, 0.3), 0px 1px 3px 1px rgba(60, 64, 67, 0.15);\n",
              "      fill: #174EA6;\n",
              "    }\n",
              "\n",
              "    .colab-df-buttons div {\n",
              "      margin-bottom: 4px;\n",
              "    }\n",
              "\n",
              "    [theme=dark] .colab-df-convert {\n",
              "      background-color: #3B4455;\n",
              "      fill: #D2E3FC;\n",
              "    }\n",
              "\n",
              "    [theme=dark] .colab-df-convert:hover {\n",
              "      background-color: #434B5C;\n",
              "      box-shadow: 0px 1px 3px 1px rgba(0, 0, 0, 0.15);\n",
              "      filter: drop-shadow(0px 1px 2px rgba(0, 0, 0, 0.3));\n",
              "      fill: #FFFFFF;\n",
              "    }\n",
              "  </style>\n",
              "\n",
              "    <script>\n",
              "      const buttonEl =\n",
              "        document.querySelector('#df-22cf8d77-c4c5-42c0-a478-917ad30dc601 button.colab-df-convert');\n",
              "      buttonEl.style.display =\n",
              "        google.colab.kernel.accessAllowed ? 'block' : 'none';\n",
              "\n",
              "      async function convertToInteractive(key) {\n",
              "        const element = document.querySelector('#df-22cf8d77-c4c5-42c0-a478-917ad30dc601');\n",
              "        const dataTable =\n",
              "          await google.colab.kernel.invokeFunction('convertToInteractive',\n",
              "                                                    [key], {});\n",
              "        if (!dataTable) return;\n",
              "\n",
              "        const docLinkHtml = 'Like what you see? Visit the ' +\n",
              "          '<a target=\"_blank\" href=https://colab.research.google.com/notebooks/data_table.ipynb>data table notebook</a>'\n",
              "          + ' to learn more about interactive tables.';\n",
              "        element.innerHTML = '';\n",
              "        dataTable['output_type'] = 'display_data';\n",
              "        await google.colab.output.renderOutput(dataTable, element);\n",
              "        const docLink = document.createElement('div');\n",
              "        docLink.innerHTML = docLinkHtml;\n",
              "        element.appendChild(docLink);\n",
              "      }\n",
              "    </script>\n",
              "  </div>\n",
              "\n",
              "\n",
              "<div id=\"df-f3aa0cf7-9292-42ae-be71-2e2a116e63be\">\n",
              "  <button class=\"colab-df-quickchart\" onclick=\"quickchart('df-f3aa0cf7-9292-42ae-be71-2e2a116e63be')\"\n",
              "            title=\"Suggest charts.\"\n",
              "            style=\"display:none;\">\n",
              "\n",
              "<svg xmlns=\"http://www.w3.org/2000/svg\" height=\"24px\"viewBox=\"0 0 24 24\"\n",
              "     width=\"24px\">\n",
              "    <g>\n",
              "        <path d=\"M19 3H5c-1.1 0-2 .9-2 2v14c0 1.1.9 2 2 2h14c1.1 0 2-.9 2-2V5c0-1.1-.9-2-2-2zM9 17H7v-7h2v7zm4 0h-2V7h2v10zm4 0h-2v-4h2v4z\"/>\n",
              "    </g>\n",
              "</svg>\n",
              "  </button>\n",
              "\n",
              "<style>\n",
              "  .colab-df-quickchart {\n",
              "      --bg-color: #E8F0FE;\n",
              "      --fill-color: #1967D2;\n",
              "      --hover-bg-color: #E2EBFA;\n",
              "      --hover-fill-color: #174EA6;\n",
              "      --disabled-fill-color: #AAA;\n",
              "      --disabled-bg-color: #DDD;\n",
              "  }\n",
              "\n",
              "  [theme=dark] .colab-df-quickchart {\n",
              "      --bg-color: #3B4455;\n",
              "      --fill-color: #D2E3FC;\n",
              "      --hover-bg-color: #434B5C;\n",
              "      --hover-fill-color: #FFFFFF;\n",
              "      --disabled-bg-color: #3B4455;\n",
              "      --disabled-fill-color: #666;\n",
              "  }\n",
              "\n",
              "  .colab-df-quickchart {\n",
              "    background-color: var(--bg-color);\n",
              "    border: none;\n",
              "    border-radius: 50%;\n",
              "    cursor: pointer;\n",
              "    display: none;\n",
              "    fill: var(--fill-color);\n",
              "    height: 32px;\n",
              "    padding: 0;\n",
              "    width: 32px;\n",
              "  }\n",
              "\n",
              "  .colab-df-quickchart:hover {\n",
              "    background-color: var(--hover-bg-color);\n",
              "    box-shadow: 0 1px 2px rgba(60, 64, 67, 0.3), 0 1px 3px 1px rgba(60, 64, 67, 0.15);\n",
              "    fill: var(--button-hover-fill-color);\n",
              "  }\n",
              "\n",
              "  .colab-df-quickchart-complete:disabled,\n",
              "  .colab-df-quickchart-complete:disabled:hover {\n",
              "    background-color: var(--disabled-bg-color);\n",
              "    fill: var(--disabled-fill-color);\n",
              "    box-shadow: none;\n",
              "  }\n",
              "\n",
              "  .colab-df-spinner {\n",
              "    border: 2px solid var(--fill-color);\n",
              "    border-color: transparent;\n",
              "    border-bottom-color: var(--fill-color);\n",
              "    animation:\n",
              "      spin 1s steps(1) infinite;\n",
              "  }\n",
              "\n",
              "  @keyframes spin {\n",
              "    0% {\n",
              "      border-color: transparent;\n",
              "      border-bottom-color: var(--fill-color);\n",
              "      border-left-color: var(--fill-color);\n",
              "    }\n",
              "    20% {\n",
              "      border-color: transparent;\n",
              "      border-left-color: var(--fill-color);\n",
              "      border-top-color: var(--fill-color);\n",
              "    }\n",
              "    30% {\n",
              "      border-color: transparent;\n",
              "      border-left-color: var(--fill-color);\n",
              "      border-top-color: var(--fill-color);\n",
              "      border-right-color: var(--fill-color);\n",
              "    }\n",
              "    40% {\n",
              "      border-color: transparent;\n",
              "      border-right-color: var(--fill-color);\n",
              "      border-top-color: var(--fill-color);\n",
              "    }\n",
              "    60% {\n",
              "      border-color: transparent;\n",
              "      border-right-color: var(--fill-color);\n",
              "    }\n",
              "    80% {\n",
              "      border-color: transparent;\n",
              "      border-right-color: var(--fill-color);\n",
              "      border-bottom-color: var(--fill-color);\n",
              "    }\n",
              "    90% {\n",
              "      border-color: transparent;\n",
              "      border-bottom-color: var(--fill-color);\n",
              "    }\n",
              "  }\n",
              "</style>\n",
              "\n",
              "  <script>\n",
              "    async function quickchart(key) {\n",
              "      const quickchartButtonEl =\n",
              "        document.querySelector('#' + key + ' button');\n",
              "      quickchartButtonEl.disabled = true;  // To prevent multiple clicks.\n",
              "      quickchartButtonEl.classList.add('colab-df-spinner');\n",
              "      try {\n",
              "        const charts = await google.colab.kernel.invokeFunction(\n",
              "            'suggestCharts', [key], {});\n",
              "      } catch (error) {\n",
              "        console.error('Error during call to suggestCharts:', error);\n",
              "      }\n",
              "      quickchartButtonEl.classList.remove('colab-df-spinner');\n",
              "      quickchartButtonEl.classList.add('colab-df-quickchart-complete');\n",
              "    }\n",
              "    (() => {\n",
              "      let quickchartButtonEl =\n",
              "        document.querySelector('#df-f3aa0cf7-9292-42ae-be71-2e2a116e63be button');\n",
              "      quickchartButtonEl.style.display =\n",
              "        google.colab.kernel.accessAllowed ? 'block' : 'none';\n",
              "    })();\n",
              "  </script>\n",
              "</div>\n",
              "    </div>\n",
              "  </div>\n"
            ]
          },
          "metadata": {},
          "execution_count": 141
        }
      ]
    },
    {
      "cell_type": "markdown",
      "source": [
        "## Question 1\n",
        "\n",
        "There's one feature with missing values. What is it?\n",
        "\n",
        "    total_rooms\n",
        "    **total_bedrooms**\n",
        "    population\n",
        "    households\n"
      ],
      "metadata": {
        "id": "0smFkKybRXtk"
      }
    },
    {
      "cell_type": "code",
      "source": [
        "df2.isnull().sum()"
      ],
      "metadata": {
        "colab": {
          "base_uri": "https://localhost:8080/"
        },
        "id": "2hnxEYImRZ_q",
        "outputId": "ca15f3c1-5b08-4da2-87c9-2b4ca0fc513e"
      },
      "execution_count": 142,
      "outputs": [
        {
          "output_type": "execute_result",
          "data": {
            "text/plain": [
              "latitude                0\n",
              "longitude               0\n",
              "housing_median_age      0\n",
              "total_rooms             0\n",
              "total_bedrooms        157\n",
              "population              0\n",
              "households              0\n",
              "median_income           0\n",
              "median_house_value      0\n",
              "dtype: int64"
            ]
          },
          "metadata": {},
          "execution_count": 142
        }
      ]
    },
    {
      "cell_type": "markdown",
      "source": [
        "## Question 2\n",
        "\n",
        "What's the median (50% percentile) for variable 'population'?\n",
        "\n",
        "    995\n",
        "    1095\n",
        "    **1195**\n",
        "    1295\n"
      ],
      "metadata": {
        "id": "oKvh-yJ7RhZa"
      }
    },
    {
      "cell_type": "code",
      "source": [
        "df2.population.median()"
      ],
      "metadata": {
        "colab": {
          "base_uri": "https://localhost:8080/"
        },
        "id": "6lglAhXJRjH5",
        "outputId": "3a54e8cd-5f77-4cb2-f33c-73be5d8c87ea"
      },
      "execution_count": 143,
      "outputs": [
        {
          "output_type": "execute_result",
          "data": {
            "text/plain": [
              "1195.0"
            ]
          },
          "metadata": {},
          "execution_count": 143
        }
      ]
    },
    {
      "cell_type": "markdown",
      "source": [
        "## Prepare and split the dataset\n",
        "\n",
        "    Shuffle the initial dataset, use seed 42.\n",
        "    Split your data in train/val/test sets, with 60%/20%/20% distribution.\n",
        "    Apply the log transformation to the median_house_value variable using the np.log1p() function.\n"
      ],
      "metadata": {
        "id": "SqiyU-SASSJM"
      }
    },
    {
      "cell_type": "code",
      "source": [
        "n = len(df2)\n",
        "idx = np.arange(n)\n",
        "\n",
        "nVal = int(n*0.2)\n",
        "nTest = int(n*0.2)\n",
        "nTrain = n - nVal - nTest\n",
        "np.random.seed(42)\n",
        "np.random.shuffle(idx)"
      ],
      "metadata": {
        "id": "PdClzD9uRnCZ"
      },
      "execution_count": 144,
      "outputs": []
    },
    {
      "cell_type": "code",
      "source": [
        "dfTrain = df2.iloc[idx[:nTrain]]\n",
        "dfVal = df2.iloc[idx[nTrain:nTrain+nVal]]\n",
        "dfTest = df2.iloc[idx[nVal+nTrain:]]\n",
        "\n",
        "dfTrain=dfTrain.reset_index(drop=True)\n",
        "dfVal=dfVal.reset_index(drop=True)\n",
        "dfTest=dfTest.reset_index(drop=True)"
      ],
      "metadata": {
        "id": "5JDpNuroS364"
      },
      "execution_count": 145,
      "outputs": []
    },
    {
      "cell_type": "code",
      "source": [
        "yTrain = np.log1p(dfTrain.median_house_value.values)\n",
        "yVal = np.log1p(dfVal.median_house_value.values)\n",
        "yTest = np.log1p(dfTest.median_house_value.values)"
      ],
      "metadata": {
        "id": "T8v8beN9S-Mc"
      },
      "execution_count": 146,
      "outputs": []
    },
    {
      "cell_type": "code",
      "source": [
        "del dfTrain['median_house_value']\n",
        "del dfVal['median_house_value']\n",
        "del dfTest['median_house_value']"
      ],
      "metadata": {
        "id": "yXnqN7nDTcSh"
      },
      "execution_count": 147,
      "outputs": []
    },
    {
      "cell_type": "markdown",
      "source": [
        "## Question 3\n",
        "\n",
        "    We need to deal with missing values for the column from Q1.\n",
        "    We have two options: fill it with 0 or with the mean of this variable.\n",
        "    Try both options. For each, train a linear regression model without regularization using the code from the lessons.\n",
        "    For computing the mean, use the training only!\n",
        "    Use the validation dataset to evaluate the models and compare the RMSE of each option.\n",
        "    Round the RMSE scores to 2 decimal digits using round(score, 2)\n",
        "    Which option gives better RMSE?\n",
        "\n",
        "Options:\n",
        "\n",
        "    With 0\n",
        "    With mean\n",
        "    **Both are equally good**\n"
      ],
      "metadata": {
        "id": "sZD1VKBPVYz4"
      }
    },
    {
      "cell_type": "markdown",
      "source": [
        "### With mean"
      ],
      "metadata": {
        "id": "3iwL-fPPiQXi"
      }
    },
    {
      "cell_type": "code",
      "source": [
        "dfTrain.isnull().sum()"
      ],
      "metadata": {
        "colab": {
          "base_uri": "https://localhost:8080/"
        },
        "id": "nKnh0CqSypWm",
        "outputId": "03b2947a-cd6a-48e9-dbbb-5d07ee6ce6b7"
      },
      "execution_count": 148,
      "outputs": [
        {
          "output_type": "execute_result",
          "data": {
            "text/plain": [
              "latitude               0\n",
              "longitude              0\n",
              "housing_median_age     0\n",
              "total_rooms            0\n",
              "total_bedrooms        94\n",
              "population             0\n",
              "households             0\n",
              "median_income          0\n",
              "dtype: int64"
            ]
          },
          "metadata": {},
          "execution_count": 148
        }
      ]
    },
    {
      "cell_type": "code",
      "source": [
        "mean = dfTrain.total_bedrooms.mean()\n",
        "mean"
      ],
      "metadata": {
        "colab": {
          "base_uri": "https://localhost:8080/"
        },
        "id": "cAm1iEErThkg",
        "outputId": "cb2a4c1c-4383-46f7-fcf6-f8f0d4009510"
      },
      "execution_count": 149,
      "outputs": [
        {
          "output_type": "execute_result",
          "data": {
            "text/plain": [
              "542.552956325786"
            ]
          },
          "metadata": {},
          "execution_count": 149
        }
      ]
    },
    {
      "cell_type": "code",
      "source": [
        "ccRev = ['latitude', 'longitude', 'housing_median_age', 'total_rooms', 'total_bedrooms', 'population', 'households', 'median_income']\n",
        "xTrain = dfTrain[ccRev].values\n",
        "xTrain"
      ],
      "metadata": {
        "id": "soU-n02UoJ6q",
        "colab": {
          "base_uri": "https://localhost:8080/"
        },
        "outputId": "a4a07164-a0b0-4c03-d046-ce161bb7e793"
      },
      "execution_count": 150,
      "outputs": [
        {
          "output_type": "execute_result",
          "data": {
            "text/plain": [
              "array([[ 3.6230e+01, -1.1914e+02,  2.2000e+01, ...,  1.9270e+03,\n",
              "         5.3000e+02,  2.5875e+00],\n",
              "       [ 3.4120e+01, -1.1779e+02,  1.6000e+01, ...,  1.3190e+03,\n",
              "         4.4600e+02,  4.8125e+00],\n",
              "       [ 3.3680e+01, -1.1797e+02,  2.6000e+01, ...,  1.9300e+03,\n",
              "         5.8500e+02,  5.7301e+00],\n",
              "       ...,\n",
              "       [ 3.4130e+01, -1.1808e+02,  4.6000e+01, ...,  3.7700e+02,\n",
              "         1.4500e+02,  8.4546e+00],\n",
              "       [ 3.4290e+01, -1.1846e+02,  2.4000e+01, ...,  3.1510e+03,\n",
              "         8.1000e+02,  3.0526e+00],\n",
              "       [ 3.4000e+01, -1.1841e+02,  1.8000e+01, ...,  8.8400e+02,\n",
              "         4.5600e+02,  2.9338e+00]])"
            ]
          },
          "metadata": {},
          "execution_count": 150
        }
      ]
    },
    {
      "cell_type": "code",
      "source": [
        "yTrain"
      ],
      "metadata": {
        "id": "4nbGuwrnfYya",
        "outputId": "e676c8db-3c34-4dec-fe0c-8187e98b092b",
        "colab": {
          "base_uri": "https://localhost:8080/"
        }
      },
      "execution_count": 151,
      "outputs": [
        {
          "output_type": "execute_result",
          "data": {
            "text/plain": [
              "array([11.16196275, 12.32163544, 12.4718963 , ..., 13.12236738,\n",
              "       12.11888489, 12.52924613])"
            ]
          },
          "metadata": {},
          "execution_count": 151
        }
      ]
    },
    {
      "cell_type": "code",
      "source": [
        "def trainLinRegres(X,y):\n",
        "  ones = np.ones(X.shape[0])\n",
        "  X = np.column_stack([ones, X])\n",
        "\n",
        "  XTX = X.T.dot(X)\n",
        "  XTXinv = np.linalg.inv(XTX)\n",
        "  wFull = XTXinv.dot(X.T).dot(y)\n",
        "  return wFull[0],wFull[1:]\n",
        "\n",
        "def rmse(y, y_pred):\n",
        "    error = y_pred - y\n",
        "    mse = (error ** 2).mean()\n",
        "    return np.sqrt(mse)\n",
        "\n",
        "def prepareX(df, fillna_value):\n",
        "  dfNum = df[ccRev]\n",
        "  dfNum = dfNum.fillna(fillna_value)\n",
        "  x = dfNum.values\n",
        "\n",
        "  return x"
      ],
      "metadata": {
        "id": "4QBdNMRQWZOO"
      },
      "execution_count": 152,
      "outputs": []
    },
    {
      "cell_type": "code",
      "source": [
        "xMeanTrain = prepareX(dfTrain, fillna_value = mean)\n",
        "xMeanTrain"
      ],
      "metadata": {
        "colab": {
          "base_uri": "https://localhost:8080/"
        },
        "id": "fE43BevR0jvk",
        "outputId": "1b741baf-60f5-4cfe-de77-ec71b91122ad"
      },
      "execution_count": 153,
      "outputs": [
        {
          "output_type": "execute_result",
          "data": {
            "text/plain": [
              "array([[ 3.6230e+01, -1.1914e+02,  2.2000e+01, ...,  1.9270e+03,\n",
              "         5.3000e+02,  2.5875e+00],\n",
              "       [ 3.4120e+01, -1.1779e+02,  1.6000e+01, ...,  1.3190e+03,\n",
              "         4.4600e+02,  4.8125e+00],\n",
              "       [ 3.3680e+01, -1.1797e+02,  2.6000e+01, ...,  1.9300e+03,\n",
              "         5.8500e+02,  5.7301e+00],\n",
              "       ...,\n",
              "       [ 3.4130e+01, -1.1808e+02,  4.6000e+01, ...,  3.7700e+02,\n",
              "         1.4500e+02,  8.4546e+00],\n",
              "       [ 3.4290e+01, -1.1846e+02,  2.4000e+01, ...,  3.1510e+03,\n",
              "         8.1000e+02,  3.0526e+00],\n",
              "       [ 3.4000e+01, -1.1841e+02,  1.8000e+01, ...,  8.8400e+02,\n",
              "         4.5600e+02,  2.9338e+00]])"
            ]
          },
          "metadata": {},
          "execution_count": 153
        }
      ]
    },
    {
      "cell_type": "code",
      "source": [
        "w0Mean,wMean = trainLinRegres(xMeanTrain, yTrain)"
      ],
      "metadata": {
        "id": "Fd86Dat_tAC1"
      },
      "execution_count": 154,
      "outputs": []
    },
    {
      "cell_type": "code",
      "source": [
        "xMeanVal = prepareX(dfVal, fillna_value = mean)\n",
        "yMeanPredVal = w0Mean + xMeanVal.dot(wMean)"
      ],
      "metadata": {
        "id": "onmAVnd_1ToO"
      },
      "execution_count": 155,
      "outputs": []
    },
    {
      "cell_type": "code",
      "source": [
        "yMeanPredVal"
      ],
      "metadata": {
        "colab": {
          "base_uri": "https://localhost:8080/"
        },
        "id": "oqyo_77y2FMZ",
        "outputId": "31c3ac24-812f-46f2-ca42-8458a957564f"
      },
      "execution_count": 156,
      "outputs": [
        {
          "output_type": "execute_result",
          "data": {
            "text/plain": [
              "array([11.71462282, 12.47428049, 11.84127314, ..., 12.39294053,\n",
              "       12.05541417, 12.06224727])"
            ]
          },
          "metadata": {},
          "execution_count": 156
        }
      ]
    },
    {
      "cell_type": "code",
      "source": [
        "yVal"
      ],
      "metadata": {
        "colab": {
          "base_uri": "https://localhost:8080/"
        },
        "id": "5BvYQJFg2Hcc",
        "outputId": "5d7c02aa-855a-46de-f959-b8c559090fd2"
      },
      "execution_count": 157,
      "outputs": [
        {
          "output_type": "execute_result",
          "data": {
            "text/plain": [
              "array([11.3095968 , 12.27326857, 11.95247633, ..., 12.53968723,\n",
              "       12.34279083, 11.97477721])"
            ]
          },
          "metadata": {},
          "execution_count": 157
        }
      ]
    },
    {
      "cell_type": "code",
      "source": [
        "np.round(rmse(yVal, yMeanPredVal),2)"
      ],
      "metadata": {
        "colab": {
          "base_uri": "https://localhost:8080/"
        },
        "id": "LxWzo3hx1ewX",
        "outputId": "0bd76ecb-e2a5-4d31-bc71-900d1ab6e895"
      },
      "execution_count": 158,
      "outputs": [
        {
          "output_type": "execute_result",
          "data": {
            "text/plain": [
              "0.34"
            ]
          },
          "metadata": {},
          "execution_count": 158
        }
      ]
    },
    {
      "cell_type": "markdown",
      "source": [
        "### With zero"
      ],
      "metadata": {
        "id": "SgjC6vRmv3jc"
      }
    },
    {
      "cell_type": "code",
      "source": [
        "xNullTrain = prepareX(dfTrain, fillna_value = 0)"
      ],
      "metadata": {
        "id": "WuHgFfejxIlD"
      },
      "execution_count": 159,
      "outputs": []
    },
    {
      "cell_type": "code",
      "source": [
        "w0Null, wNull = trainLinRegres(xNullTrain, yTrain)"
      ],
      "metadata": {
        "id": "EVoYwgDu2ZHF"
      },
      "execution_count": 160,
      "outputs": []
    },
    {
      "cell_type": "code",
      "source": [
        "xNullVal = prepareX(dfVal,  fillna_value = 0)\n",
        "yNullPredVal = w0Null + xNullVal.dot(wNull)"
      ],
      "metadata": {
        "id": "2XkRvUcw3rZP"
      },
      "execution_count": 161,
      "outputs": []
    },
    {
      "cell_type": "code",
      "source": [
        "np.round(rmse(yVal, yNullPredVal),2)"
      ],
      "metadata": {
        "colab": {
          "base_uri": "https://localhost:8080/"
        },
        "id": "Yx13nHt434wZ",
        "outputId": "5f0aee44-f81e-4072-e7f5-530dd1b50064"
      },
      "execution_count": 162,
      "outputs": [
        {
          "output_type": "execute_result",
          "data": {
            "text/plain": [
              "0.34"
            ]
          },
          "metadata": {},
          "execution_count": 162
        }
      ]
    },
    {
      "cell_type": "markdown",
      "source": [
        "## Question 4\n",
        "\n",
        "    Now let's train a regularized linear regression.\n",
        "    For this question, fill the NAs with 0.\n",
        "    Try different values of r from this list: [0, 0.000001, 0.0001, 0.001, 0.01, 0.1, 1, 5, 10].\n",
        "    Use RMSE to evaluate the model on the validation dataset.\n",
        "    Round the RMSE scores to 2 decimal digits.\n",
        "    Which r gives the best RMSE?\n",
        "\n",
        "If there are multiple options, select the smallest r.\n",
        "\n",
        "Options:\n",
        "\n",
        "    0\n",
        "    0.000001\n",
        "    0.001\n",
        "    0.0001\n"
      ],
      "metadata": {
        "id": "8eq4laO94Kzq"
      }
    },
    {
      "cell_type": "code",
      "source": [
        "def trainLinRegresRes(X,y, r=0.01):\n",
        "  ones = np.ones(X.shape[0])\n",
        "  X = np.column_stack([ones, X])\n",
        "\n",
        "  XTX = X.T.dot(X)\n",
        "  XTX = XTX + r * np.eye(XTX.shape[0])\n",
        "\n",
        "  XTXinv = np.linalg.inv(XTX)\n",
        "  wFull = XTXinv.dot(X.T).dot(y)\n",
        "\n",
        "  return wFull[0],wFull[1:]"
      ],
      "metadata": {
        "id": "G1Q_vCCE4OtC"
      },
      "execution_count": 163,
      "outputs": []
    },
    {
      "cell_type": "code",
      "source": [
        "for r in [0, 0.000001, 0.0001, 0.001]:\n",
        "  w0,w = trainLinRegresRes(xNullTrain, yTrain, r=r)\n",
        "  yPred = w0 + xNullVal.dot(w)\n",
        "  score = round(rmse(yVal, yPred),2)\n",
        "\n",
        "  print(r,w0,score)"
      ],
      "metadata": {
        "colab": {
          "base_uri": "https://localhost:8080/"
        },
        "id": "z931lIDl539w",
        "outputId": "0c14535e-b010-4d5e-e9f8-fd1647473d6f"
      },
      "execution_count": 164,
      "outputs": [
        {
          "output_type": "stream",
          "name": "stdout",
          "text": [
            "0 -9.763249477872478 0.34\n",
            "1e-06 -9.763228830761964 0.34\n",
            "0.0001 -9.761185235634128 0.34\n",
            "0.001 -9.742646249295081 0.34\n"
          ]
        }
      ]
    },
    {
      "cell_type": "markdown",
      "source": [
        "## Question 5\n",
        "\n",
        "    We used seed 42 for splitting the data. Let's find out how selecting the seed influences our score.\n",
        "    Try different seed values: [0, 1, 2, 3, 4, 5, 6, 7, 8, 9].\n",
        "    For each seed, do the train/validation/test split with 60%/20%/20% distribution.\n",
        "    Fill the missing values with 0 and train a model without regularization.\n",
        "    For each seed, evaluate the model on the validation dataset and collect the RMSE scores.\n",
        "    What's the standard deviation of all the scores? To compute the standard deviation, use np.std.\n",
        "    Round the result to 3 decimal digits (round(std, 3))\n",
        "\n",
        "What's the value of std?\n",
        "\n",
        "    0.5\n",
        "    0.05\n",
        "    0.005\n",
        "    0.0005\n"
      ],
      "metadata": {
        "id": "01WFQylzDBEJ"
      }
    },
    {
      "cell_type": "code",
      "source": [
        "rmse1 = []\n",
        "\n",
        "for seed in range(0,10):\n",
        "  n = len(df2)\n",
        "  idx = np.arange(n)\n",
        "\n",
        "  nVal = int(n*0.2)\n",
        "  nTest = int(n*0.2)\n",
        "  nTrain = n - nVal - nTest\n",
        "  np.random.seed(seed)\n",
        "  np.random.shuffle(idx)\n",
        "\n",
        "  df2Shuffled = df2.iloc[idx]\n",
        "\n",
        "  dfTrain = df2Shuffled.iloc[:nTrain]\n",
        "  dfVal = df2Shuffled.iloc[nTrain:nTrain+nVal]\n",
        "  dfTest = df2Shuffled.iloc[nVal+nTrain:]\n",
        "\n",
        "  dfTrain=dfTrain.reset_index(drop=True)\n",
        "  dfVal=dfVal.reset_index(drop=True)\n",
        "  dfTest=dfTest.reset_index(drop=True)\n",
        "\n",
        "  yTrain = np.log1p(dfTrain.median_house_value.values)\n",
        "  yVal = np.log1p(dfVal.median_house_value.values)\n",
        "  yTest = np.log1p(dfTest.median_house_value.values)\n",
        "\n",
        "  del dfTrain['median_house_value']\n",
        "  del dfVal['median_house_value']\n",
        "  del dfTest['median_house_value']\n",
        "\n",
        "  xTrain = prepareX(dfTrain, 0)\n",
        "  w0, w = trainLinRegresRes(xTrain, yTrain,0.001)\n",
        "\n",
        "  xVal = prepareX(dfVal,  fillna_value = 0)\n",
        "  yValNull = w0Null + xVal.dot(w)\n",
        "\n",
        "  # print(yTrain, yValNull)\n",
        "  wwd = round(rmse(yVal, yValNull),2)\n",
        "  rmse1.append(wwd)\n",
        "\n",
        "\n",
        "# rmse"
      ],
      "metadata": {
        "id": "Y734Jw9IDvck"
      },
      "execution_count": 170,
      "outputs": []
    },
    {
      "cell_type": "code",
      "source": [
        "rmse1"
      ],
      "metadata": {
        "colab": {
          "base_uri": "https://localhost:8080/"
        },
        "id": "Nx9MryfUmCvc",
        "outputId": "818990c7-d1ea-4072-86aa-325df4c5f635"
      },
      "execution_count": 171,
      "outputs": [
        {
          "output_type": "execute_result",
          "data": {
            "text/plain": [
              "[0.35, 0.75, 0.36, 0.56, 0.7, 0.4, 0.43, 0.67, 0.37, 0.38]"
            ]
          },
          "metadata": {},
          "execution_count": 171
        }
      ]
    },
    {
      "cell_type": "code",
      "source": [
        "np.std(rmse1)"
      ],
      "metadata": {
        "colab": {
          "base_uri": "https://localhost:8080/"
        },
        "id": "H5IvcVNckkZq",
        "outputId": "0ca2814d-44be-4626-eaff-40d3ea6e92bf"
      },
      "execution_count": 172,
      "outputs": [
        {
          "output_type": "execute_result",
          "data": {
            "text/plain": [
              "0.14940214188558343"
            ]
          },
          "metadata": {},
          "execution_count": 172
        }
      ]
    },
    {
      "cell_type": "markdown",
      "source": [
        "## Question 6\n",
        "\n",
        "    Split the dataset like previously, use seed 9.\n",
        "    Combine train and validation datasets.\n",
        "    Fill the missing values with 0 and train a model with r=0.001.\n",
        "    What's the RMSE on the test dataset?\n",
        "\n",
        "Options:\n",
        "\n",
        "    0.13\n",
        "    0.23\n",
        "    0.33\n",
        "    0.43\n"
      ],
      "metadata": {
        "id": "Rmj5N9OenTMc"
      }
    },
    {
      "cell_type": "code",
      "source": [
        "n = len(df2)\n",
        "idx = np.arange(n)\n",
        "\n",
        "nVal = int(n*0.2)\n",
        "nTest = int(n*0.2)\n",
        "nTrain = n - nVal - nTest\n",
        "np.random.seed(9)\n",
        "np.random.shuffle(idx)\n",
        "\n",
        "df2Shuffled = df2.iloc[idx]\n",
        "\n",
        "dfTrain = df2Shuffled.iloc[:nTrain]\n",
        "dfVal = df2Shuffled.iloc[nTrain:nTrain+nVal]\n",
        "dfTest = df2Shuffled.iloc[nVal+nTrain:]\n",
        "\n",
        "frames = [dfTrain, dfVal]\n",
        "dfTrainVal = pd.concat(frames)\n",
        "\n",
        "dfTrainVal=dfTrain.reset_index(drop=True)\n",
        "dfTest=dfTest.reset_index(drop=True)\n",
        "\n",
        "\n",
        "yTrainValOrig = dfTrainVal.median_house_value.values\n",
        "yTestOrig = dfTest.median_house_value.values\n",
        "\n",
        "yTrainVal = np.log1p(yTrainValOrig)\n",
        "yTest = np.log1p(yTestOrig)\n",
        "\n",
        "del dfTrainVal['median_house_value']\n",
        "del dfTest['median_house_value']\n",
        "\n",
        "xTrainVal = prepareX(dfTrain, 0)\n",
        "w0TrainVal, wTrainVal = trainLinRegresRes(xTrainVal, yTrainVal, 0.001)\n",
        "\n",
        "xTest = prepareX(dfTest,  fillna_value = 0)\n",
        "yNullTest = w0TrainVal + xTest.dot(wTrainVal)\n",
        "\n",
        "# print(yTrain, yValNull)\n",
        "wwd = round(rmse(yTest, yNullTest),2)\n",
        "\n",
        "wwd"
      ],
      "metadata": {
        "colab": {
          "base_uri": "https://localhost:8080/"
        },
        "id": "fiyjV4OKnWT1",
        "outputId": "bc2a7246-dab7-4986-890b-6d9651bec7d3"
      },
      "execution_count": 174,
      "outputs": [
        {
          "output_type": "execute_result",
          "data": {
            "text/plain": [
              "0.33"
            ]
          },
          "metadata": {},
          "execution_count": 174
        }
      ]
    }
  ]
}